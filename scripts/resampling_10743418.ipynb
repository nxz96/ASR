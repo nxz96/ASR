{
  "nbformat": 4,
  "nbformat_minor": 0,
  "metadata": {
    "colab": {
      "provenance": [],
      "collapsed_sections": []
    },
    "kernelspec": {
      "name": "python3",
      "display_name": "Python 3"
    },
    "language_info": {
      "name": "python"
    }
  },
  "cells": [
    {
      "cell_type": "code",
      "execution_count": null,
      "metadata": {
        "id": "evfvej0_DqpE"
      },
      "outputs": [],
      "source": [
        "import os\n",
        "import shutil\n",
        "\n",
        "import tensorflow as tf\n",
        "import tensorflow_hub as hub\n",
        "\n",
        "import numpy as np\n",
        "import re\n",
        "import nltk\n",
        "import pandas as pd\n",
        "\n",
        "import matplotlib.pyplot as plt\n",
        "from sklearn.metrics import confusion_matrix\n",
        "\n",
        "import time\n",
        "\n",
        "from sklearn.svm import SVC\n",
        "from sklearn.ensemble import RandomForestClassifier\n",
        "from xgboost import XGBClassifier\n",
        "\n",
        "from sklearn.metrics import precision_score, recall_score, f1_score, accuracy_score\n",
        "from sklearn import metrics\n",
        "from sklearn.metrics import cohen_kappa_score\n",
        "from sklearn.metrics import roc_auc_score\n",
        "\n",
        "from sklearn.model_selection import StratifiedKFold\n",
        "from statistics import mean, stdev\n",
        "from sklearn import preprocessing"
      ]
    },
    {
      "cell_type": "code",
      "source": [
        "articles = pd.read_csv('https://raw.githubusercontent.com/nxz96/Msc/main/sex_diff_screenings.csv')"
      ],
      "metadata": {
        "id": "J8Fqbs9kGBbj"
      },
      "execution_count": null,
      "outputs": []
    },
    {
      "cell_type": "code",
      "source": [
        "def wss(R, y_true, y_pred):\n",
        "    cfmat = confusion_matrix(y_true, y_pred)\n",
        "    tn_, fp_, fn_, tp_ = cfmat.ravel() # instead of doing a call for each\n",
        "    N = np.sum(cfmat)\n",
        "    if N <= 0:\n",
        "      print(\"N = {}!!!\".format(N))\n",
        "    return (tn_ + fn_)/N - (1 - R)\n",
        "\n",
        "def wss95(y_true, y_pred):\n",
        "    return wss(0.95, y_true, y_pred)\n",
        "\n",
        "def print_plot(index):\n",
        "    example = articles[articles.index == index][['titleabstract', 'category']].values[0]\n",
        "    if len(example) > 0:\n",
        "        print(example[0])\n",
        "        print('category:', example[1])\n",
        "\n",
        "def clean_text(text):\n",
        "    \"\"\"\n",
        "        text: a string\n",
        "        \n",
        "        return: modified initial string\n",
        "    \"\"\"\n",
        "    text = text.lower() # lowercase text\n",
        "    text = REPLACE_BY_SPACE_RE.sub(' ', text) # replace REPLACE_BY_SPACE_RE symbols by space in text. substitute the matched string in REPLACE_BY_SPACE_RE with space.\n",
        "    text = BAD_SYMBOLS_RE.sub(' ', text) # remove symbols which are in BAD_SYMBOLS_RE from text. substitute the matched string in BAD_SYMBOLS_RE with nothing. \n",
        "#    text = text.replace('x', '')\n",
        "#    text = re.sub(r'\\W+', '', text)\n",
        "    text = ' '.join(word for word in text.split() if word not in STOPWORDS and word not in UNWANTED_WORDS) # remove stopwords and UNWANTED_WORDS from text\n",
        "    return text\n",
        "\n",
        "\n",
        "def remove_prefix(text, prefix):\n",
        "    if text.startswith(prefix):\n",
        "        return text[len(prefix):]\n",
        "    return text  # or whatever"
      ],
      "metadata": {
        "id": "TO4NbRKWGHIQ"
      },
      "execution_count": null,
      "outputs": []
    },
    {
      "cell_type": "code",
      "source": [
        "rows, cols = articles.shape\n",
        "print('INIT: Data size: Num of rows: ',rows, ' Num of cols: ',cols)"
      ],
      "metadata": {
        "colab": {
          "base_uri": "https://localhost:8080/"
        },
        "id": "mwiZQkIhGKlQ",
        "outputId": "7c9857dc-a8ee-46ff-a6fe-5fcbd92fbbd3"
      },
      "execution_count": null,
      "outputs": [
        {
          "output_type": "stream",
          "name": "stdout",
          "text": [
            "INIT: Data size: Num of rows:  4000  Num of cols:  23\n"
          ]
        }
      ]
    },
    {
      "cell_type": "code",
      "source": [
        "articles = articles.dropna(subset=[\"Decision\"])\n",
        "rows, cols = articles.shape\n",
        "print('Removed nan from notes: Data size: Num of rows: ',rows, ' Num of cols: ',cols)"
      ],
      "metadata": {
        "colab": {
          "base_uri": "https://localhost:8080/"
        },
        "id": "UV92MLiEGL1F",
        "outputId": "1f3a5af6-102c-459a-fcd8-fcbb06d83d29"
      },
      "execution_count": null,
      "outputs": [
        {
          "output_type": "stream",
          "name": "stdout",
          "text": [
            "Removed nan from notes: Data size: Num of rows:  4000  Num of cols:  23\n"
          ]
        }
      ]
    },
    {
      "cell_type": "code",
      "source": [
        "bool1 = pd.isnull(articles['Abstract'])\n",
        "print(len(articles[bool1]))"
      ],
      "metadata": {
        "colab": {
          "base_uri": "https://localhost:8080/"
        },
        "id": "w_u3ssLmGOkH",
        "outputId": "b98ad2f8-bfda-4285-d843-dafb1a28d803"
      },
      "execution_count": null,
      "outputs": [
        {
          "output_type": "stream",
          "name": "stdout",
          "text": [
            "368\n"
          ]
        }
      ]
    },
    {
      "cell_type": "code",
      "source": [
        "for i, row in articles[bool1].iterrows():\n",
        "    articles.at[i,'abstract'] = \" \"\n",
        "\n",
        "articles = articles.dropna(subset=[\"Abstract\"])\n",
        "rows, cols = articles.shape\n",
        "print('Removed nan from abstract: Data size: Num of rows: ',rows, ' Num of cols: ',cols)"
      ],
      "metadata": {
        "colab": {
          "base_uri": "https://localhost:8080/"
        },
        "id": "OPJdrhHZGQ9t",
        "outputId": "bcb28822-8b9e-45f1-f7e5-2d18f67bcc0b"
      },
      "execution_count": null,
      "outputs": [
        {
          "output_type": "stream",
          "name": "stdout",
          "text": [
            "Removed nan from abstract: Data size: Num of rows:  3632  Num of cols:  24\n"
          ]
        }
      ]
    },
    {
      "cell_type": "code",
      "source": [
        "articles[\"category\"] = \"None\"\n",
        "\n",
        "included = 0\n",
        "excluded = 0 \n",
        "maybe = 0\n",
        "labelled = 0\n",
        "others = 0\n",
        "unlabelled = 0\n",
        "labels = 0\n",
        "\n",
        "index = 0\n",
        "max_len = -1\n",
        "\n",
        "\n",
        "for i, row in articles.iterrows():\n",
        "    \n",
        "    row = articles.loc[i, \"Decision\"]\n",
        "    \n",
        "    if \"Included\" in row:\n",
        "            articles.at[i,'category'] = \"Included\"\n",
        "            included = included + 1\n",
        "    elif \"Excluded\" in row:\n",
        "            articles.at[i,'category'] = \"Excluded\"\n",
        "            excluded = excluded + 1\n",
        "    else:\n",
        "            others = others + 1\n",
        "                \n",
        "            \n",
        "print('Labelled data : ',labelled)                \n",
        "print('Unlabelled data: ',unlabelled)\n",
        "print('included: ',included) \n",
        "print('excluded: ',excluded) "
      ],
      "metadata": {
        "colab": {
          "base_uri": "https://localhost:8080/"
        },
        "id": "LZZ0j1QVGUBV",
        "outputId": "e035e333-8584-4e70-abfe-3aaccc744024"
      },
      "execution_count": null,
      "outputs": [
        {
          "output_type": "stream",
          "name": "stdout",
          "text": [
            "Labelled data :  0\n",
            "Unlabelled data:  0\n",
            "included:  224\n",
            "excluded:  3408\n"
          ]
        }
      ]
    },
    {
      "cell_type": "code",
      "source": [
        "for i, row in articles.iterrows():\n",
        "    row = articles.loc[i, \"category\"]\n",
        "    if row == \"None\":\n",
        "        r = articles.loc[i, \"Decision\"]\n",
        "        articles.at[i,'category'] = np.nan\n",
        "        \n",
        "articles = articles.dropna(subset=[\"category\"])\n",
        "rows, cols = articles.shape\n",
        "print('Removed nan from category: Data size: Num of rows: ',rows, ' Num of cols: ',cols)"
      ],
      "metadata": {
        "colab": {
          "base_uri": "https://localhost:8080/"
        },
        "id": "lSnubAtBGaXE",
        "outputId": "75800cde-9839-4145-98d1-1d88790b8414"
      },
      "execution_count": null,
      "outputs": [
        {
          "output_type": "stream",
          "name": "stdout",
          "text": [
            "Removed nan from category: Data size: Num of rows:  3632  Num of cols:  25\n"
          ]
        }
      ]
    },
    {
      "cell_type": "code",
      "source": [
        "articles[\"titleabstract\"] = articles[\"Title\"] + \" \" + articles[\"Abstract\"]"
      ],
      "metadata": {
        "id": "B4VY74OqGdMI"
      },
      "execution_count": null,
      "outputs": []
    },
    {
      "cell_type": "code",
      "source": [
        "col = ['category', 'titleabstract']\n",
        "articles = articles[col]\n",
        "# articles = articles[pd.notnull(articles['titleabstract'])]\n",
        "articles.columns = ['category', 'titleabstract']\n",
        "articles['category_id'] = articles['category'].factorize()[0]"
      ],
      "metadata": {
        "colab": {
          "base_uri": "https://localhost:8080/"
        },
        "id": "4VALhrA7Gfoo",
        "outputId": "b8f19099-2323-484c-d91a-79c3c64133e9"
      },
      "execution_count": null,
      "outputs": [
        {
          "output_type": "stream",
          "name": "stderr",
          "text": [
            "/usr/local/lib/python3.7/dist-packages/ipykernel_launcher.py:5: SettingWithCopyWarning: \n",
            "A value is trying to be set on a copy of a slice from a DataFrame.\n",
            "Try using .loc[row_indexer,col_indexer] = value instead\n",
            "\n",
            "See the caveats in the documentation: https://pandas.pydata.org/pandas-docs/stable/user_guide/indexing.html#returning-a-view-versus-a-copy\n",
            "  \"\"\"\n"
          ]
        }
      ]
    },
    {
      "cell_type": "code",
      "source": [
        "sample = 20\n",
        "print(\"Before removing UNWANTED WORDS: data_id \",sample)\n",
        "print_plot(sample)\n",
        "print(\"\\n\")"
      ],
      "metadata": {
        "colab": {
          "base_uri": "https://localhost:8080/"
        },
        "id": "E6y7UQrzGitj",
        "outputId": "74e7d29f-0627-4586-de1e-1d9795a10718"
      },
      "execution_count": null,
      "outputs": [
        {
          "output_type": "stream",
          "name": "stdout",
          "text": [
            "Before removing UNWANTED WORDS: data_id  20\n",
            "Racial disparities in receipt of standard chemoradiation in anal squamous cell carcinoma, an analysis of the National Cancer Database Background: Standard treatment for locally advanced anal squamous cell carcinoma (SCC) consists of concurrent chemoradiation. We evaluated whether racial differences exist in the receipt of standard treatment and its association with survival. Method(s): From the National Cancer Database, we identified patients diagnosed with anal SCC (Stages 2-3) between 2004 and 2015. Using logistic regression, we evaluated racial differences in the probability of receiving standard chemoradiation. We used Cox proportional hazards models to evaluate associations between race, receipt of standard therapy and survival. Result(s): Our analysis included 19,835 patients. Patients receiving standard chemoradiation had better survival than patients receiving nonstandard therapy (hazard ratio [HR] 0.64; 95% confidence interval [CI] 0.61-0.68; p < 0.001). Compared to White patients, Black patients were less likely to receive standard therapy (odds ratio [OR] 0.85; 95% CI 0.76-0.96; p < 0.008). We observed no statistical difference in mortality between Black and White patients overall (HR 1.05, 95% CI 0.97-1.15; p = 0.24). However, for the subgroup of patients receiving nonstandard therapy, Black patients had an increased mortality risk compared to White patients (HR 1.17, CI 1.01-1.35; p = 0.034). We observed no survival differences in the subgroup of patients receiving standard treatment (HR 1.00, CI 0.90-1.11, p = 0.99). Conclusion(s): Standard treatment in anal SCC is associated with better survival, but Black patients are less likely to receive standard treatment than White patients. Although Black patients had higher mortality than White patients in the subgroup of patients receiving nonstandard therapy, this difference was ameliorated in the subset receiving standard therapy.Copyright © 2020 The Authors. Cancer Medicine published by John Wiley & Sons Ltd.\n",
            "category: Excluded\n",
            "\n",
            "\n"
          ]
        }
      ]
    },
    {
      "cell_type": "code",
      "source": [
        "import nltk\n",
        "nltk.download('stopwords')\n",
        "\n",
        "REPLACE_BY_SPACE_RE = re.compile('[/(){}\\[\\]\\|@,;]')\n",
        "BAD_SYMBOLS_RE = re.compile('[^0-9a-z #+_]')\n",
        "STOPWORDS = set(nltk.corpus.stopwords.words('english'))\n",
        "UNWANTED_WORDS = ['results', 'objectives', 'methods', 'design', 'study population', 'measurements', 'conclusions', 'materials', 'methods', 'limitations', 'setting', 'patients', 'purpose', 'intervention', 'main outcome', 'measures', 'background']\n",
        "articles['titleabstract'] = articles['titleabstract'].apply(clean_text)\n",
        "articles['titleabstract'] = articles['titleabstract'].str.replace('\\d+', '')"
      ],
      "metadata": {
        "colab": {
          "base_uri": "https://localhost:8080/"
        },
        "id": "caj25ag1GmCw",
        "outputId": "0b04d40d-0ab7-4fa9-e488-b8978bd3cf8d"
      },
      "execution_count": null,
      "outputs": [
        {
          "output_type": "stream",
          "name": "stderr",
          "text": [
            "[nltk_data] Downloading package stopwords to /root/nltk_data...\n",
            "[nltk_data]   Unzipping corpora/stopwords.zip.\n",
            "/usr/local/lib/python3.7/dist-packages/ipykernel_launcher.py:9: FutureWarning: The default value of regex will change from True to False in a future version.\n",
            "  if __name__ == '__main__':\n"
          ]
        }
      ]
    },
    {
      "cell_type": "code",
      "source": [
        "articles = articles.drop_duplicates(keep='first')"
      ],
      "metadata": {
        "id": "KHmnefTUGpdB"
      },
      "execution_count": null,
      "outputs": []
    },
    {
      "cell_type": "code",
      "source": [
        "x,y = np.asarray(articles[\"titleabstract\"]),np.asarray(articles[\"category_id\"])"
      ],
      "metadata": {
        "id": "7Fo0lhRQHUbz"
      },
      "execution_count": null,
      "outputs": []
    },
    {
      "cell_type": "code",
      "source": [
        "x_tokenized = [[w for w in sentence.split(\" \") if w != \"\"] for sentence in x]"
      ],
      "metadata": {
        "id": "aKS0bARxIFRN"
      },
      "execution_count": null,
      "outputs": []
    },
    {
      "cell_type": "code",
      "source": [
        "import gensim\n",
        "\n",
        "model = gensim.models.Word2Vec(x_tokenized,\n",
        "                 size=100\n",
        "                )"
      ],
      "metadata": {
        "id": "VmPeRioFIS1j"
      },
      "execution_count": null,
      "outputs": []
    },
    {
      "cell_type": "code",
      "source": [
        "class Sequencer():\n",
        "    \n",
        "    def __init__(self,\n",
        "                 all_words,\n",
        "                 max_words,\n",
        "                 seq_len,\n",
        "                 embedding_matrix\n",
        "                ):\n",
        "        \n",
        "        self.seq_len = seq_len\n",
        "        self.embed_matrix = embedding_matrix\n",
        "    \n",
        "        temp_vocab = list(set(all_words))\n",
        "        self.vocab = []\n",
        "        self.word_cnts = {}\n",
        "      \n",
        "        for word in temp_vocab:\n",
        "            count = len([0 for w in all_words if w == word])\n",
        "            self.word_cnts[word] = count\n",
        "            counts = list(self.word_cnts.values())\n",
        "            indexes = list(range(len(counts)))\n",
        "        \n",
        "        cnt = 0\n",
        "        while cnt + 1 != len(counts):\n",
        "            cnt = 0\n",
        "            for i in range(len(counts)-1):\n",
        "                if counts[i] < counts[i+1]:\n",
        "                    counts[i+1],counts[i] = counts[i],counts[i+1]\n",
        "                    indexes[i],indexes[i+1] = indexes[i+1],indexes[i]\n",
        "                else:\n",
        "                    cnt += 1\n",
        "        \n",
        "        for ind in indexes[:max_words]:\n",
        "            self.vocab.append(temp_vocab[ind])\n",
        "                    \n",
        "    def textToVector(self,text):\n",
        "        tokens = text.split()\n",
        "        len_v = len(tokens)-1 if len(tokens) < self.seq_len else self.seq_len-1\n",
        "        vec = []\n",
        "        for tok in tokens[:len_v]:\n",
        "            try:\n",
        "                vec.append(self.embed_matrix[tok])\n",
        "            except Exception as E:\n",
        "                pass\n",
        "        \n",
        "        last_pieces = self.seq_len - len(vec)\n",
        "        for i in range(last_pieces):\n",
        "            vec.append(np.zeros(100,))\n",
        "        \n",
        "        return np.asarray(vec).flatten()"
      ],
      "metadata": {
        "id": "8pAhbyj7InPz"
      },
      "execution_count": null,
      "outputs": []
    },
    {
      "cell_type": "code",
      "source": [
        "sequencer = Sequencer(all_words = [token for seq in x_tokenized for token in seq],\n",
        "              max_words = 1200,\n",
        "              seq_len = 15,\n",
        "              embedding_matrix = model.wv\n",
        "             )"
      ],
      "metadata": {
        "id": "YDRLDbrnIrJi"
      },
      "execution_count": null,
      "outputs": []
    },
    {
      "cell_type": "code",
      "source": [
        "x_vecs = np.asarray([sequencer.textToVector(\" \".join(seq)) for seq in x_tokenized])\n",
        "print(x_vecs.shape)"
      ],
      "metadata": {
        "colab": {
          "base_uri": "https://localhost:8080/"
        },
        "id": "vkjjBz5oMBTi",
        "outputId": "cd5a2c5b-d088-4c30-c055-fb0624b0d1e6"
      },
      "execution_count": null,
      "outputs": [
        {
          "output_type": "stream",
          "name": "stdout",
          "text": [
            "(3630, 1500)\n"
          ]
        }
      ]
    },
    {
      "cell_type": "code",
      "source": [
        "from sklearn.decomposition import PCA\n",
        "pca_model = PCA(n_components=50)\n",
        "pca_model.fit(x_vecs)\n",
        "print(\"Sum of variance ratios: \",sum(pca_model.explained_variance_ratio_))"
      ],
      "metadata": {
        "colab": {
          "base_uri": "https://localhost:8080/"
        },
        "id": "rf7fvqT4MEDY",
        "outputId": "00e54b66-ba27-4ca5-b59c-fe36620dd08a"
      },
      "execution_count": null,
      "outputs": [
        {
          "output_type": "stream",
          "name": "stdout",
          "text": [
            "Sum of variance ratios:  0.567928602791211\n"
          ]
        }
      ]
    },
    {
      "cell_type": "code",
      "source": [
        "x_comps = pca_model.transform(x_vecs)\n",
        "x_comps.shape"
      ],
      "metadata": {
        "colab": {
          "base_uri": "https://localhost:8080/"
        },
        "id": "C0jw9No5MHM0",
        "outputId": "648ff6de-e3ac-4383-ec07-6cfa685b11db"
      },
      "execution_count": null,
      "outputs": [
        {
          "output_type": "execute_result",
          "data": {
            "text/plain": [
              "(3630, 50)"
            ]
          },
          "metadata": {},
          "execution_count": 22
        }
      ]
    },
    {
      "cell_type": "code",
      "source": [
        "from imblearn.over_sampling import RandomOverSampler\n",
        "from imblearn.under_sampling import RandomUnderSampler\n",
        "\n",
        "oversample = RandomOverSampler(sampling_strategy='minority')\n",
        "\n",
        "undersample = RandomUnderSampler(sampling_strategy='majority')"
      ],
      "metadata": {
        "id": "x7balMtvGpmj"
      },
      "execution_count": null,
      "outputs": []
    },
    {
      "cell_type": "code",
      "source": [
        "X_over, y_over = oversample.fit_resample(x_comps, y)\n",
        "\n",
        "X_under, y_under = undersample.fit_resample(x_comps, y)"
      ],
      "metadata": {
        "id": "ZSjE14bLHagY"
      },
      "execution_count": null,
      "outputs": []
    },
    {
      "cell_type": "code",
      "source": [
        "print(X_over.shape)\n",
        "print(X_under.shape)\n",
        "print(y_over.shape)\n",
        "print(y_under.shape)"
      ],
      "metadata": {
        "colab": {
          "base_uri": "https://localhost:8080/"
        },
        "id": "HT2Tuf7bMVxH",
        "outputId": "407aa17c-ad5c-4bb0-8e02-451f554f20b5"
      },
      "execution_count": null,
      "outputs": [
        {
          "output_type": "stream",
          "name": "stdout",
          "text": [
            "(6812, 50)\n",
            "(448, 50)\n",
            "(6812,)\n",
            "(448,)\n"
          ]
        }
      ]
    },
    {
      "cell_type": "code",
      "source": [
        "from collections import Counter\n",
        "\n",
        "print(\"Labels count : \",Counter(y))\n",
        "print(\"Labels count after oversampling : \",Counter(y_over))\n",
        "print(\"Labels count after undersampling : \",Counter(y_under))"
      ],
      "metadata": {
        "colab": {
          "base_uri": "https://localhost:8080/"
        },
        "id": "pYDw7tgjNDTp",
        "outputId": "645f4fe9-ff75-4414-dda2-4f0af141a5f6"
      },
      "execution_count": null,
      "outputs": [
        {
          "output_type": "stream",
          "name": "stdout",
          "text": [
            "Labels count :  Counter({0: 3406, 1: 224})\n",
            "Labels count after oversampling :  Counter({0: 3406, 1: 3406})\n",
            "Labels count after undersampling :  Counter({0: 224, 1: 224})\n"
          ]
        }
      ]
    },
    {
      "cell_type": "code",
      "source": [
        "from sklearn.model_selection import train_test_split\n",
        "X_train_over, X_test_over, Y_train_over, Y_test_over = train_test_split(X_over,y_over, test_size = 0.20, random_state = 2021, stratify=y_over)\n",
        "\n",
        "print(X_train_over.shape)\n",
        "print(X_test_over.shape)\n",
        "print(Y_train_over.shape)\n",
        "print(Y_test_over.shape)"
      ],
      "metadata": {
        "colab": {
          "base_uri": "https://localhost:8080/"
        },
        "id": "jf6fr1sMNR22",
        "outputId": "77317ed7-314b-4de1-92bc-922db3de9ea9"
      },
      "execution_count": null,
      "outputs": [
        {
          "output_type": "stream",
          "name": "stdout",
          "text": [
            "(5449, 50)\n",
            "(1363, 50)\n",
            "(5449,)\n",
            "(1363,)\n"
          ]
        }
      ]
    },
    {
      "cell_type": "code",
      "source": [
        "from sklearn.model_selection import train_test_split\n",
        "X_train_under, X_test_under, Y_train_under, Y_test_under = train_test_split(X_under,y_under, test_size = 0.20, random_state = 2021, stratify=y_under)\n",
        "\n",
        "print(X_train_under.shape)\n",
        "print(X_test_under.shape)\n",
        "print(Y_train_under.shape)\n",
        "print(Y_test_under.shape)"
      ],
      "metadata": {
        "colab": {
          "base_uri": "https://localhost:8080/"
        },
        "id": "PPzgnIq9N3KY",
        "outputId": "6a71a140-6773-4587-9d67-661ee86e0c59"
      },
      "execution_count": null,
      "outputs": [
        {
          "output_type": "stream",
          "name": "stdout",
          "text": [
            "(358, 50)\n",
            "(90, 50)\n",
            "(358,)\n",
            "(90,)\n"
          ]
        }
      ]
    },
    {
      "cell_type": "markdown",
      "source": [
        "**Oversample Results**"
      ],
      "metadata": {
        "id": "Vsq0AWuWQQQH"
      }
    },
    {
      "cell_type": "code",
      "source": [
        "svm_classifier_b = SVC(probability=True)\n",
        "svm_classifier_b.fit(X_train_over, Y_train_over)\n",
        "\n",
        "pred_b_svm = svm_classifier_b.predict(X_test_over)\n",
        "\n",
        "prob_y_roc_b = svm_classifier_b.predict_proba(X_test_over)\n",
        "prob_y_roc_b = [p[1] for p in prob_y_roc_b]\n",
        "\n",
        "\n",
        "print('Precision: %.3f' % precision_score(Y_test_over, pred_b_svm))\n",
        "print('Recall: %.3f' % recall_score(Y_test_over, pred_b_svm))\n",
        "print('Accuracy: %.3f' % accuracy_score(Y_test_over, pred_b_svm))\n",
        "print('F1 Score: %.3f' % f1_score(Y_test_over, pred_b_svm))\n",
        "print('roc_auc Score: %.3f' % metrics.roc_auc_score(Y_test_over, prob_y_roc_b))\n",
        "print('cohen kappa score: %.3f' % cohen_kappa_score(Y_test_over, pred_b_svm))\n",
        "print('wss95: %.3f' % wss95(Y_test_over, pred_b_svm))"
      ],
      "metadata": {
        "colab": {
          "base_uri": "https://localhost:8080/"
        },
        "id": "SaGcUUtpOEI9",
        "outputId": "1e2192e4-b35f-4762-93d9-54c7762eccd5"
      },
      "execution_count": null,
      "outputs": [
        {
          "output_type": "stream",
          "name": "stdout",
          "text": [
            "Precision: 0.938\n",
            "Recall: 0.996\n",
            "Accuracy: 0.965\n",
            "F1 Score: 0.966\n",
            "roc_auc Score: 0.997\n",
            "cohen kappa score: 0.930\n",
            "wss95: 0.420\n"
          ]
        }
      ]
    },
    {
      "cell_type": "code",
      "source": [
        "rfc_b = RandomForestClassifier()\n",
        "rfc_b.fit(X_train_over,Y_train_over)\n",
        "\n",
        "pred_b_rfc = rfc_b.predict(X_test_over)\n",
        "\n",
        "prob_y_roc_b_rfc = rfc_b.predict_proba(X_test_over)\n",
        "prob_y_roc_b_rfc = [p[1] for p in prob_y_roc_b_rfc]\n",
        "\n",
        "\n",
        "print('Precision: %.3f' % precision_score(Y_test_over, pred_b_rfc))\n",
        "print('Recall: %.3f' % recall_score(Y_test_over, pred_b_rfc))\n",
        "print('Accuracy: %.3f' % accuracy_score(Y_test_over, pred_b_rfc))\n",
        "print('F1 Score: %.3f' % f1_score(Y_test_over, pred_b_rfc))\n",
        "print('roc_auc Score: %.3f' % metrics.roc_auc_score(Y_test_over, prob_y_roc_b_rfc))\n",
        "print('cohen kappa score: %.3f' % cohen_kappa_score(Y_test_over, pred_b_rfc))\n",
        "print('wss95: %.3f' % wss95(Y_test_over, pred_b_rfc))"
      ],
      "metadata": {
        "colab": {
          "base_uri": "https://localhost:8080/"
        },
        "id": "6VH3WvKiQE0D",
        "outputId": "0e006b10-dd8a-42be-8c6e-fbd657c4bc1a"
      },
      "execution_count": null,
      "outputs": [
        {
          "output_type": "stream",
          "name": "stdout",
          "text": [
            "Precision: 1.000\n",
            "Recall: 1.000\n",
            "Accuracy: 1.000\n",
            "F1 Score: 1.000\n",
            "roc_auc Score: 1.000\n",
            "cohen kappa score: 1.000\n",
            "wss95: 0.450\n"
          ]
        }
      ]
    },
    {
      "cell_type": "code",
      "source": [
        "XGB_b = XGBClassifier()\n",
        "XGB_b.fit(X_train_over, Y_train_over)\n",
        "\n",
        "pred_b_xgb = XGB_b.predict(X_test_over)\n",
        "\n",
        "prob_y_roc_b_xgb = rfc_b.predict_proba(X_test_over)\n",
        "prob_y_roc_b_xgb = [p[1] for p in prob_y_roc_b_xgb]\n",
        "\n",
        "print('Precision: %.3f' % precision_score(Y_test_over, pred_b_xgb))\n",
        "print('Recall: %.3f' % recall_score(Y_test_over, pred_b_xgb))\n",
        "print('Accuracy: %.3f' % accuracy_score(Y_test_over, pred_b_xgb))\n",
        "print('F1 Score: %.3f' % f1_score(Y_test_over, pred_b_xgb))\n",
        "print('roc_auc Score: %.3f' % metrics.roc_auc_score(Y_test_over, prob_y_roc_b_xgb))\n",
        "print('cohen kappa score: %.3f' % cohen_kappa_score(Y_test_over, pred_b_xgb))\n",
        "print('wss95: %.3f' % wss95(Y_test_over, pred_b_xgb))"
      ],
      "metadata": {
        "colab": {
          "base_uri": "https://localhost:8080/"
        },
        "id": "Iw9sTbPcRGUH",
        "outputId": "50a4ae97-b85b-42f0-eaeb-51db5a821443"
      },
      "execution_count": null,
      "outputs": [
        {
          "output_type": "stream",
          "name": "stdout",
          "text": [
            "Precision: 0.871\n",
            "Recall: 0.979\n",
            "Accuracy: 0.917\n",
            "F1 Score: 0.922\n",
            "roc_auc Score: 1.000\n",
            "cohen kappa score: 0.834\n",
            "wss95: 0.388\n"
          ]
        }
      ]
    },
    {
      "cell_type": "markdown",
      "source": [
        "**Undersample Results**"
      ],
      "metadata": {
        "id": "8iD33yQ2RmU-"
      }
    },
    {
      "cell_type": "code",
      "source": [
        "svm_classifier_u = SVC(probability=True)\n",
        "svm_classifier_u.fit(X_train_under, Y_train_under)\n",
        "\n",
        "pred_u_svm = svm_classifier_b.predict(X_test_under)\n",
        "\n",
        "prob_y_roc_u = svm_classifier_b.predict_proba(X_test_under)\n",
        "prob_y_roc_u = [p[1] for p in prob_y_roc_u]\n",
        "\n",
        "\n",
        "print('Precision: %.3f' % precision_score(Y_test_under, pred_u_svm))\n",
        "print('Recall: %.3f' % recall_score(Y_test_under, pred_u_svm))\n",
        "print('Accuracy: %.3f' % accuracy_score(Y_test_under, pred_u_svm))\n",
        "print('F1 Score: %.3f' % f1_score(Y_test_under, pred_u_svm))\n",
        "print('roc_auc Score: %.3f' % metrics.roc_auc_score(Y_test_under, prob_y_roc_u))\n",
        "print('cohen kappa score: %.3f' % cohen_kappa_score(Y_test_under, pred_u_svm))\n",
        "print('wss95: %.3f' % wss95(Y_test_under, pred_u_svm))"
      ],
      "metadata": {
        "colab": {
          "base_uri": "https://localhost:8080/"
        },
        "id": "fQF8fKLIRrZh",
        "outputId": "2011d1d8-332d-41d4-93d7-0ae09dcab3de"
      },
      "execution_count": null,
      "outputs": [
        {
          "output_type": "stream",
          "name": "stdout",
          "text": [
            "Precision: 0.978\n",
            "Recall: 1.000\n",
            "Accuracy: 0.989\n",
            "F1 Score: 0.989\n",
            "roc_auc Score: 1.000\n",
            "cohen kappa score: 0.978\n",
            "wss95: 0.439\n"
          ]
        }
      ]
    },
    {
      "cell_type": "code",
      "source": [
        "rfc_u = RandomForestClassifier()\n",
        "rfc_u.fit(X_train_under,Y_train_under)\n",
        "\n",
        "pred_u_rfc = rfc_b.predict(X_test_under)\n",
        "\n",
        "prob_y_roc_u_rfc = rfc_b.predict_proba(X_test_under)\n",
        "prob_y_roc_u_rfc = [p[1] for p in prob_y_roc_u_rfc]\n",
        "\n",
        "\n",
        "print('Precision: %.3f' % precision_score(Y_test_under, pred_u_rfc))\n",
        "print('Recall: %.3f' % recall_score(Y_test_under, pred_u_rfc))\n",
        "print('Accuracy: %.3f' % accuracy_score(Y_test_under, pred_u_rfc))\n",
        "print('F1 Score: %.3f' % f1_score(Y_test_under, pred_u_rfc))\n",
        "print('roc_auc Score: %.3f' % metrics.roc_auc_score(Y_test_under, prob_y_roc_u_rfc))\n",
        "print('cohen kappa score: %.3f' % cohen_kappa_score(Y_test_under, pred_u_rfc))\n",
        "print('wss95: %.3f' % wss95(Y_test_under, pred_u_rfc))"
      ],
      "metadata": {
        "colab": {
          "base_uri": "https://localhost:8080/"
        },
        "id": "l06p3tkPSkr7",
        "outputId": "05531399-8f10-46cd-f104-1cf58ac773fb"
      },
      "execution_count": null,
      "outputs": [
        {
          "output_type": "stream",
          "name": "stdout",
          "text": [
            "Precision: 1.000\n",
            "Recall: 1.000\n",
            "Accuracy: 1.000\n",
            "F1 Score: 1.000\n",
            "roc_auc Score: 1.000\n",
            "cohen kappa score: 1.000\n",
            "wss95: 0.450\n"
          ]
        }
      ]
    },
    {
      "cell_type": "code",
      "source": [
        "XGB_u = XGBClassifier()\n",
        "XGB_u.fit(X_train_under, Y_train_under)\n",
        "\n",
        "pred_u_xgb = XGB_b.predict(X_test_under)\n",
        "\n",
        "prob_y_roc_u_xgb = rfc_b.predict_proba(X_test_under)\n",
        "prob_y_roc_u_xgb = [p[1] for p in prob_y_roc_u_xgb]\n",
        "\n",
        "print('Precision: %.3f' % precision_score(Y_test_under, pred_u_xgb))\n",
        "print('Recall: %.3f' % recall_score(Y_test_under, pred_u_xgb))\n",
        "print('Accuracy: %.3f' % accuracy_score(Y_test_under, pred_u_xgb))\n",
        "print('F1 Score: %.3f' % f1_score(Y_test_under, pred_u_xgb))\n",
        "print('roc_auc Score: %.3f' % metrics.roc_auc_score(Y_test_under, prob_y_roc_u_xgb))\n",
        "print('cohen kappa score: %.3f' % cohen_kappa_score(Y_test_under, pred_u_xgb))\n",
        "print('wss95: %.3f' % wss95(Y_test_under, pred_u_xgb))"
      ],
      "metadata": {
        "colab": {
          "base_uri": "https://localhost:8080/"
        },
        "id": "67CS5mtqS_cg",
        "outputId": "388b22a3-93d8-48f5-84c8-6d94bbaab668"
      },
      "execution_count": null,
      "outputs": [
        {
          "output_type": "stream",
          "name": "stdout",
          "text": [
            "Precision: 0.938\n",
            "Recall: 1.000\n",
            "Accuracy: 0.967\n",
            "F1 Score: 0.968\n",
            "roc_auc Score: 1.000\n",
            "cohen kappa score: 0.933\n",
            "wss95: 0.417\n"
          ]
        }
      ]
    },
    {
      "cell_type": "markdown",
      "source": [
        "** STRATIFIES K-FOLD CROSS VALIDATION { 10-fold }**"
      ],
      "metadata": {
        "id": "Nfn3vRCD6oIg"
      }
    },
    {
      "cell_type": "code",
      "source": [
        "skf = StratifiedKFold(n_splits=10, shuffle=True, random_state=1)\n",
        "\n",
        "precision_stratified = []\n",
        "recall_stratified = []\n",
        "accuracy_stratified = []\n",
        "f1score_stratified = []\n",
        "roc_stratified = []\n",
        "cohenkappa_stratified = []\n",
        "wss95_stratified = []\n",
        "\n",
        "svm_classifier_skf = SVC(probability=True)\n",
        "\n",
        "\n",
        "for train_index, test_index in skf.split(x_comps, y):\n",
        "    x_train_fold_o, x_test_fold_o = X_over[train_index], X_over[test_index]\n",
        "    y_train_fold_o, y_test_fold_o = y_over[train_index], y_over[test_index]\n",
        "    \n",
        "    svm_classifier_skf.fit(x_train_fold_o, y_train_fold_o)\n",
        "\n",
        "    pred_skf_svm = svm_classifier_skf.predict(x_test_fold_o)\n",
        "\n",
        "    prob_y_roc_skf = svm_classifier_skf.predict_proba(x_test_fold_o)\n",
        "    prob_y_roc_skf = [p[1] for p in prob_y_roc_skf]\n",
        "    precision_stratified.append(precision_score(y_test_fold_o, pred_skf_svm))\n",
        "    recall_stratified.append(recall_score(y_test_fold_o, pred_skf_svm))\n",
        "    accuracy_stratified.append(accuracy_score(y_test_fold_o, pred_skf_svm))\n",
        "    f1score_stratified.append(f1_score(y_test_fold_o, pred_skf_svm))\n",
        "    roc_stratified.append(metrics.roc_auc_score(y_test_fold_o, prob_y_roc_skf))\n",
        "    cohenkappa_stratified.append(cohen_kappa_score(y_test_fold_o, pred_skf_svm))\n",
        "    wss95_stratified.append(wss95(y_test_fold_o, pred_skf_svm))\n",
        "\n",
        "\n",
        "print('Precision: %.3f' % precision_score(y_test_fold_o, pred_skf_svm))\n",
        "print('Recall: %.3f' % recall_score(y_test_fold_o, pred_skf_svm))\n",
        "print('Accuracy: %.3f' % accuracy_score(y_test_fold_o, pred_skf_svm))\n",
        "print('F1 Score: %.3f' % f1_score(y_test_fold_o, pred_skf_svm))\n",
        "print('roc_auc Score: %.3f' % metrics.roc_auc_score(y_test_fold_o, prob_y_roc_skf))\n",
        "print('cohen kappa score: %.3f' % cohen_kappa_score(y_test_fold_o, pred_skf_svm))\n",
        "print('wss95: %.3f' % wss95(y_test_fold_o, pred_skf_svm))\n",
        "\n",
        "\n",
        "\n",
        "print('List of possible Precision:', precision_stratified)\n",
        "print('\\nMaximum Precision That can be obtained from this model is:',\n",
        "      max(precision_stratified)*100, '%')\n",
        "print('\\nMinimum Precision:',\n",
        "      min(precision_stratified)*100, '%')\n",
        "print('\\nOverall Precision:',\n",
        "      mean(precision_stratified)*100, '%')\n",
        "print('\\nStandard Deviation is:', stdev(precision_stratified))\n",
        "\n",
        "print('List of possible Recall:', recall_stratified)\n",
        "print('\\nMaximum Recall That can be obtained from this model is:',\n",
        "      max(recall_stratified)*100, '%')\n",
        "print('\\nMinimum Recall:',\n",
        "      min(recall_stratified)*100, '%')\n",
        "print('\\nOverall Recall:',\n",
        "      mean(recall_stratified)*100, '%')\n",
        "print('\\nStandard Deviation is:', stdev(recall_stratified))\n",
        "\n",
        "print('List of possible accuracy:', accuracy_stratified)\n",
        "print('\\nMaximum Accuracy That can be obtained from this model is:',\n",
        "      max(accuracy_stratified)*100, '%')\n",
        "print('\\nMinimum Accuracy:',\n",
        "      min(accuracy_stratified)*100, '%')\n",
        "print('\\nOverall Accuracy:',\n",
        "      mean(accuracy_stratified)*100, '%')\n",
        "print('\\nStandard Deviation is:', stdev(accuracy_stratified))"
      ],
      "metadata": {
        "colab": {
          "base_uri": "https://localhost:8080/"
        },
        "id": "JlfAkgiB6zEd",
        "outputId": "3ac7275c-05fe-4eb5-f789-7d550f3b8f91"
      },
      "execution_count": null,
      "outputs": [
        {
          "output_type": "stream",
          "name": "stderr",
          "text": [
            "/usr/local/lib/python3.7/dist-packages/sklearn/metrics/_classification.py:1318: UndefinedMetricWarning: Precision is ill-defined and being set to 0.0 due to no predicted samples. Use `zero_division` parameter to control this behavior.\n",
            "  _warn_prf(average, modifier, msg_start, len(result))\n",
            "/usr/local/lib/python3.7/dist-packages/sklearn/metrics/_classification.py:1318: UndefinedMetricWarning: Precision is ill-defined and being set to 0.0 due to no predicted samples. Use `zero_division` parameter to control this behavior.\n",
            "  _warn_prf(average, modifier, msg_start, len(result))\n",
            "/usr/local/lib/python3.7/dist-packages/sklearn/metrics/_classification.py:1318: UndefinedMetricWarning: Precision is ill-defined and being set to 0.0 due to no predicted samples. Use `zero_division` parameter to control this behavior.\n",
            "  _warn_prf(average, modifier, msg_start, len(result))\n",
            "/usr/local/lib/python3.7/dist-packages/sklearn/metrics/_classification.py:1318: UndefinedMetricWarning: Precision is ill-defined and being set to 0.0 due to no predicted samples. Use `zero_division` parameter to control this behavior.\n",
            "  _warn_prf(average, modifier, msg_start, len(result))\n",
            "/usr/local/lib/python3.7/dist-packages/sklearn/metrics/_classification.py:1318: UndefinedMetricWarning: Precision is ill-defined and being set to 0.0 due to no predicted samples. Use `zero_division` parameter to control this behavior.\n",
            "  _warn_prf(average, modifier, msg_start, len(result))\n",
            "/usr/local/lib/python3.7/dist-packages/sklearn/metrics/_classification.py:1318: UndefinedMetricWarning: Precision is ill-defined and being set to 0.0 due to no predicted samples. Use `zero_division` parameter to control this behavior.\n",
            "  _warn_prf(average, modifier, msg_start, len(result))\n",
            "/usr/local/lib/python3.7/dist-packages/sklearn/metrics/_classification.py:1318: UndefinedMetricWarning: Precision is ill-defined and being set to 0.0 due to no predicted samples. Use `zero_division` parameter to control this behavior.\n",
            "  _warn_prf(average, modifier, msg_start, len(result))\n",
            "/usr/local/lib/python3.7/dist-packages/sklearn/metrics/_classification.py:1318: UndefinedMetricWarning: Precision is ill-defined and being set to 0.0 due to no predicted samples. Use `zero_division` parameter to control this behavior.\n",
            "  _warn_prf(average, modifier, msg_start, len(result))\n",
            "/usr/local/lib/python3.7/dist-packages/sklearn/metrics/_classification.py:1318: UndefinedMetricWarning: Precision is ill-defined and being set to 0.0 due to no predicted samples. Use `zero_division` parameter to control this behavior.\n",
            "  _warn_prf(average, modifier, msg_start, len(result))\n"
          ]
        },
        {
          "output_type": "stream",
          "name": "stdout",
          "text": [
            "Precision: 0.000\n",
            "Recall: 0.000\n",
            "Accuracy: 0.937\n",
            "F1 Score: 0.000\n",
            "roc_auc Score: 0.824\n",
            "cohen kappa score: 0.000\n",
            "wss95: 0.950\n",
            "List of possible Precision: [0.0, 0.0, 0.0, 0.0, 0.0, 0.0, 0.0, 0.0, 0.0, 0.0]\n",
            "\n",
            "Maximum Precision That can be obtained from this model is: 0.0 %\n",
            "\n",
            "Minimum Precision: 0.0 %\n",
            "\n",
            "Overall Precision: 0.0 %\n",
            "\n",
            "Standard Deviation is: 0.0\n",
            "List of possible Recall: [0.0, 0.0, 0.0, 0.0, 0.0, 0.0, 0.0, 0.0, 0.0, 0.0]\n",
            "\n",
            "Maximum Recall That can be obtained from this model is: 0.0 %\n",
            "\n",
            "Minimum Recall: 0.0 %\n",
            "\n",
            "Overall Recall: 0.0 %\n",
            "\n",
            "Standard Deviation is: 0.0\n",
            "List of possible accuracy: [0.9393939393939394, 0.9393939393939394, 0.9393939393939394, 0.9393939393939394, 0.9393939393939394, 0.9393939393939394, 0.9366391184573003, 0.9366391184573003, 0.9366391184573003, 0.9366391184573003]\n",
            "\n",
            "Maximum Accuracy That can be obtained from this model is: 93.93939393939394 %\n",
            "\n",
            "Minimum Accuracy: 93.66391184573003 %\n",
            "\n",
            "Overall Accuracy: 93.82920110192839 %\n",
            "\n",
            "Standard Deviation is: 0.0014225834145849242\n"
          ]
        },
        {
          "output_type": "stream",
          "name": "stderr",
          "text": [
            "/usr/local/lib/python3.7/dist-packages/sklearn/metrics/_classification.py:1318: UndefinedMetricWarning: Precision is ill-defined and being set to 0.0 due to no predicted samples. Use `zero_division` parameter to control this behavior.\n",
            "  _warn_prf(average, modifier, msg_start, len(result))\n",
            "/usr/local/lib/python3.7/dist-packages/sklearn/metrics/_classification.py:1318: UndefinedMetricWarning: Precision is ill-defined and being set to 0.0 due to no predicted samples. Use `zero_division` parameter to control this behavior.\n",
            "  _warn_prf(average, modifier, msg_start, len(result))\n"
          ]
        }
      ]
    },
    {
      "cell_type": "code",
      "source": [
        "rfc_skf = RandomForestClassifier()\n",
        "rfc_skf.fit(x_train_fold_o,y_train_fold_o)\n",
        "\n",
        "pred_skf_rfc = rfc_b.predict(x_test_fold_o)\n",
        "\n",
        "prob_y_roc_skf_rfc = rfc_b.predict_proba(x_test_fold_o)\n",
        "prob_y_roc_skf_rfc = [p[1] for p in prob_y_roc_skf_rfc]\n",
        "\n",
        "\n",
        "print('Precision: %.3f' % precision_score(y_test_fold_o, pred_skf_rfc))\n",
        "print('Recall: %.3f' % recall_score(y_test_fold_o, pred_skf_rfc))\n",
        "print('Accuracy: %.3f' % accuracy_score(y_test_fold_o, pred_skf_rfc))\n",
        "print('F1 Score: %.3f' % f1_score(y_test_fold_o, pred_skf_rfc))\n",
        "print('roc_auc Score: %.3f' % metrics.roc_auc_score(y_test_fold_o, prob_y_roc_skf_rfc))\n",
        "print('cohen kappa score: %.3f' % cohen_kappa_score(y_test_fold_o, pred_skf_rfc))\n",
        "print('wss95: %.3f' % wss95(y_test_fold_o, pred_skf_rfc))"
      ],
      "metadata": {
        "colab": {
          "base_uri": "https://localhost:8080/"
        },
        "id": "EQ9amMq99cVP",
        "outputId": "065bbbb0-eeae-40ff-f7ae-b762d5251eed"
      },
      "execution_count": null,
      "outputs": [
        {
          "output_type": "stream",
          "name": "stdout",
          "text": [
            "Precision: 1.000\n",
            "Recall: 1.000\n",
            "Accuracy: 1.000\n",
            "F1 Score: 1.000\n",
            "roc_auc Score: 1.000\n",
            "cohen kappa score: 1.000\n",
            "wss95: 0.887\n"
          ]
        }
      ]
    },
    {
      "cell_type": "code",
      "source": [
        "XGB_skf = XGBClassifier()\n",
        "XGB_skf.fit(X_train_under, Y_train_under)\n",
        "\n",
        "pred_skf_xgb = XGB_b.predict(x_test_fold_o)\n",
        "\n",
        "prob_y_roc_skf_xgb = rfc_skf.predict_proba(x_test_fold_o)\n",
        "prob_y_roc_skf_xgb = [p[1] for p in prob_y_roc_skf_xgb]\n",
        "\n",
        "print('Precision: %.3f' % precision_score(y_test_fold_o, pred_skf_xgb))\n",
        "print('Recall: %.3f' % recall_score(y_test_fold_o, pred_skf_xgb))\n",
        "print('Accuracy: %.3f' % accuracy_score(y_test_fold_o, pred_skf_xgb))\n",
        "print('F1 Score: %.3f' % f1_score(y_test_fold_o, pred_skf_xgb))\n",
        "print('roc_auc Score: %.3f' % metrics.roc_auc_score(y_test_fold_o, prob_y_roc_skf_xgb))\n",
        "print('cohen kappa score: %.3f' % cohen_kappa_score(y_test_fold_o, pred_skf_xgb))\n",
        "print('wss95: %.3f' % wss95(y_test_fold_o, pred_skf_xgb))"
      ],
      "metadata": {
        "colab": {
          "base_uri": "https://localhost:8080/"
        },
        "id": "vQjXp-HRB0Pi",
        "outputId": "11541503-e566-4697-eb4d-5dba31df344e"
      },
      "execution_count": null,
      "outputs": [
        {
          "output_type": "stream",
          "name": "stdout",
          "text": [
            "Precision: 0.310\n",
            "Recall: 0.957\n",
            "Accuracy: 0.862\n",
            "F1 Score: 0.468\n",
            "roc_auc Score: 0.834\n",
            "cohen kappa score: 0.412\n",
            "wss95: 0.754\n"
          ]
        }
      ]
    },
    {
      "cell_type": "code",
      "source": [
        "from matplotlib import pyplot\n",
        "# define lists to collect scores\n",
        "train_scores, test_scores = list(), list()\n",
        "# define the tree depths to evaluate\n",
        "values = [i for i in range(1, 21)]\n",
        "# evaluate a decision tree for each depth\n",
        "for i in values:\n",
        "\t# configure the model\n",
        "\tmodel = SVC()\n",
        "\t# fit model on the training dataset\n",
        "\tmodel.fit(X_train_over, Y_train_over)\n",
        "\t# evaluate on the train dataset\n",
        "\ttrain_yhat = model.predict(X_train_over)\n",
        "\ttrain_acc = accuracy_score(Y_train_over, train_yhat)\n",
        "\ttrain_scores.append(train_acc)\n",
        "\t# evaluate on the test dataset\n",
        "\ttest_yhat = model.predict(X_test_over)\n",
        "\ttest_acc = accuracy_score(Y_test_over, test_yhat)\n",
        "\ttest_scores.append(test_acc)\n",
        "\t# summarize progress\n",
        "\tprint('>%d, train: %.3f, test: %.3f' % (i, train_acc, test_acc))\n",
        "# plot of train and test scores vs number of neighbors\n",
        "pyplot.plot(values, train_scores, '-o', label='Train')\n",
        "pyplot.plot(values, test_scores, '-o', label='Test')\n",
        "pyplot.legend()\n",
        "pyplot.show()"
      ],
      "metadata": {
        "colab": {
          "base_uri": "https://localhost:8080/",
          "height": 630
        },
        "id": "JmZSEJzmHZ-5",
        "outputId": "f5b7889d-0283-4827-8c13-8c865e8df089"
      },
      "execution_count": null,
      "outputs": [
        {
          "output_type": "stream",
          "name": "stdout",
          "text": [
            ">1, train: 0.983, test: 0.965\n",
            ">2, train: 0.983, test: 0.965\n",
            ">3, train: 0.983, test: 0.965\n",
            ">4, train: 0.983, test: 0.965\n",
            ">5, train: 0.983, test: 0.965\n",
            ">6, train: 0.983, test: 0.965\n",
            ">7, train: 0.983, test: 0.965\n",
            ">8, train: 0.983, test: 0.965\n",
            ">9, train: 0.983, test: 0.965\n",
            ">10, train: 0.983, test: 0.965\n",
            ">11, train: 0.983, test: 0.965\n",
            ">12, train: 0.983, test: 0.965\n",
            ">13, train: 0.983, test: 0.965\n",
            ">14, train: 0.983, test: 0.965\n",
            ">15, train: 0.983, test: 0.965\n",
            ">16, train: 0.983, test: 0.965\n",
            ">17, train: 0.983, test: 0.965\n",
            ">18, train: 0.983, test: 0.965\n",
            ">19, train: 0.983, test: 0.965\n",
            ">20, train: 0.983, test: 0.965\n"
          ]
        },
        {
          "output_type": "display_data",
          "data": {
            "text/plain": [
              "<Figure size 432x288 with 1 Axes>"
            ],
            "image/png": "[encoded data removed]"
          },
          "metadata": {
            "needs_background": "light"
          }
        }
      ]
    }
  ]
}