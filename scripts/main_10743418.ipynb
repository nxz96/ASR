{
  "nbformat": 4,
  "nbformat_minor": 0,
  "metadata": {
    "colab": {
      "provenance": [],
      "collapsed_sections": []
    },
    "kernelspec": {
      "name": "python3",
      "display_name": "Python 3"
    },
    "language_info": {
      "name": "python"
    },
    "widgets": {
      "application/vnd.jupyter.widget-state+json": {
        "a3a07e690d9f435c802f32fc69b2aa72": {
          "model_module": "@jupyter-widgets/controls",
          "model_name": "HBoxModel",
          "model_module_version": "1.5.0",
          "state": {
            "_dom_classes": [],
            "_model_module": "@jupyter-widgets/controls",
            "_model_module_version": "1.5.0",
            "_model_name": "HBoxModel",
            "_view_count": null,
            "_view_module": "@jupyter-widgets/controls",
            "_view_module_version": "1.5.0",
            "_view_name": "HBoxView",
            "box_style": "",
            "children": [
              "IPY_MODEL_174bf3ccfeca49b7a698eacefdb6f950",
              "IPY_MODEL_4d68a00cbf0b476a81cfcb45eeaa84e9",
              "IPY_MODEL_e7c15d0860244c9fb907560f8b3e736a"
            ],
            "layout": "IPY_MODEL_32d9720549594772abf614d1678e8471"
          }
        },
        "174bf3ccfeca49b7a698eacefdb6f950": {
          "model_module": "@jupyter-widgets/controls",
          "model_name": "HTMLModel",
          "model_module_version": "1.5.0",
          "state": {
            "_dom_classes": [],
            "_model_module": "@jupyter-widgets/controls",
            "_model_module_version": "1.5.0",
            "_model_name": "HTMLModel",
            "_view_count": null,
            "_view_module": "@jupyter-widgets/controls",
            "_view_module_version": "1.5.0",
            "_view_name": "HTMLView",
            "description": "",
            "description_tooltip": null,
            "layout": "IPY_MODEL_9f61b0600bce40598f77f04ae8d27249",
            "placeholder": "​",
            "style": "IPY_MODEL_2892079212c74156bbc5af5cfc03b092",
            "value": "Downloading vocab.txt: 100%"
          }
        },
        "4d68a00cbf0b476a81cfcb45eeaa84e9": {
          "model_module": "@jupyter-widgets/controls",
          "model_name": "FloatProgressModel",
          "model_module_version": "1.5.0",
          "state": {
            "_dom_classes": [],
            "_model_module": "@jupyter-widgets/controls",
            "_model_module_version": "1.5.0",
            "_model_name": "FloatProgressModel",
            "_view_count": null,
            "_view_module": "@jupyter-widgets/controls",
            "_view_module_version": "1.5.0",
            "_view_name": "ProgressView",
            "bar_style": "success",
            "description": "",
            "description_tooltip": null,
            "layout": "IPY_MODEL_1317f5c37d7445faba9e46aae33b7a2d",
            "max": 231508,
            "min": 0,
            "orientation": "horizontal",
            "style": "IPY_MODEL_ded38b68adaa417b8167ef42d4e96990",
            "value": 231508
          }
        },
        "e7c15d0860244c9fb907560f8b3e736a": {
          "model_module": "@jupyter-widgets/controls",
          "model_name": "HTMLModel",
          "model_module_version": "1.5.0",
          "state": {
            "_dom_classes": [],
            "_model_module": "@jupyter-widgets/controls",
            "_model_module_version": "1.5.0",
            "_model_name": "HTMLModel",
            "_view_count": null,
            "_view_module": "@jupyter-widgets/controls",
            "_view_module_version": "1.5.0",
            "_view_name": "HTMLView",
            "description": "",
            "description_tooltip": null,
            "layout": "IPY_MODEL_ba9382428b2540c8915a46e29d5891c5",
            "placeholder": "​",
            "style": "IPY_MODEL_0639cd6f190b44ecb8afc0e5a0a148d5",
            "value": " 226k/226k [00:00&lt;00:00, 923kB/s]"
          }
        },
        "32d9720549594772abf614d1678e8471": {
          "model_module": "@jupyter-widgets/base",
          "model_name": "LayoutModel",
          "model_module_version": "1.2.0",
          "state": {
            "_model_module": "@jupyter-widgets/base",
            "_model_module_version": "1.2.0",
            "_model_name": "LayoutModel",
            "_view_count": null,
            "_view_module": "@jupyter-widgets/base",
            "_view_module_version": "1.2.0",
            "_view_name": "LayoutView",
            "align_content": null,
            "align_items": null,
            "align_self": null,
            "border": null,
            "bottom": null,
            "display": null,
            "flex": null,
            "flex_flow": null,
            "grid_area": null,
            "grid_auto_columns": null,
            "grid_auto_flow": null,
            "grid_auto_rows": null,
            "grid_column": null,
            "grid_gap": null,
            "grid_row": null,
            "grid_template_areas": null,
            "grid_template_columns": null,
            "grid_template_rows": null,
            "height": null,
            "justify_content": null,
            "justify_items": null,
            "left": null,
            "margin": null,
            "max_height": null,
            "max_width": null,
            "min_height": null,
            "min_width": null,
            "object_fit": null,
            "object_position": null,
            "order": null,
            "overflow": null,
            "overflow_x": null,
            "overflow_y": null,
            "padding": null,
            "right": null,
            "top": null,
            "visibility": null,
            "width": null
          }
        },
        "9f61b0600bce40598f77f04ae8d27249": {
          "model_module": "@jupyter-widgets/base",
          "model_name": "LayoutModel",
          "model_module_version": "1.2.0",
          "state": {
            "_model_module": "@jupyter-widgets/base",
            "_model_module_version": "1.2.0",
            "_model_name": "LayoutModel",
            "_view_count": null,
            "_view_module": "@jupyter-widgets/base",
            "_view_module_version": "1.2.0",
            "_view_name": "LayoutView",
            "align_content": null,
            "align_items": null,
            "align_self": null,
            "border": null,
            "bottom": null,
            "display": null,
            "flex": null,
            "flex_flow": null,
            "grid_area": null,
            "grid_auto_columns": null,
            "grid_auto_flow": null,
            "grid_auto_rows": null,
            "grid_column": null,
            "grid_gap": null,
            "grid_row": null,
            "grid_template_areas": null,
            "grid_template_columns": null,
            "grid_template_rows": null,
            "height": null,
            "justify_content": null,
            "justify_items": null,
            "left": null,
            "margin": null,
            "max_height": null,
            "max_width": null,
            "min_height": null,
            "min_width": null,
            "object_fit": null,
            "object_position": null,
            "order": null,
            "overflow": null,
            "overflow_x": null,
            "overflow_y": null,
            "padding": null,
            "right": null,
            "top": null,
            "visibility": null,
            "width": null
          }
        },
        "2892079212c74156bbc5af5cfc03b092": {
          "model_module": "@jupyter-widgets/controls",
          "model_name": "DescriptionStyleModel",
          "model_module_version": "1.5.0",
          "state": {
            "_model_module": "@jupyter-widgets/controls",
            "_model_module_version": "1.5.0",
            "_model_name": "DescriptionStyleModel",
            "_view_count": null,
            "_view_module": "@jupyter-widgets/base",
            "_view_module_version": "1.2.0",
            "_view_name": "StyleView",
            "description_width": ""
          }
        },
        "1317f5c37d7445faba9e46aae33b7a2d": {
          "model_module": "@jupyter-widgets/base",
          "model_name": "LayoutModel",
          "model_module_version": "1.2.0",
          "state": {
            "_model_module": "@jupyter-widgets/base",
            "_model_module_version": "1.2.0",
            "_model_name": "LayoutModel",
            "_view_count": null,
            "_view_module": "@jupyter-widgets/base",
            "_view_module_version": "1.2.0",
            "_view_name": "LayoutView",
            "align_content": null,
            "align_items": null,
            "align_self": null,
            "border": null,
            "bottom": null,
            "display": null,
            "flex": null,
            "flex_flow": null,
            "grid_area": null,
            "grid_auto_columns": null,
            "grid_auto_flow": null,
            "grid_auto_rows": null,
            "grid_column": null,
            "grid_gap": null,
            "grid_row": null,
            "grid_template_areas": null,
            "grid_template_columns": null,
            "grid_template_rows": null,
            "height": null,
            "justify_content": null,
            "justify_items": null,
            "left": null,
            "margin": null,
            "max_height": null,
            "max_width": null,
            "min_height": null,
            "min_width": null,
            "object_fit": null,
            "object_position": null,
            "order": null,
            "overflow": null,
            "overflow_x": null,
            "overflow_y": null,
            "padding": null,
            "right": null,
            "top": null,
            "visibility": null,
            "width": null
          }
        },
        "ded38b68adaa417b8167ef42d4e96990": {
          "model_module": "@jupyter-widgets/controls",
          "model_name": "ProgressStyleModel",
          "model_module_version": "1.5.0",
          "state": {
            "_model_module": "@jupyter-widgets/controls",
            "_model_module_version": "1.5.0",
            "_model_name": "ProgressStyleModel",
            "_view_count": null,
            "_view_module": "@jupyter-widgets/base",
            "_view_module_version": "1.2.0",
            "_view_name": "StyleView",
            "bar_color": null,
            "description_width": ""
          }
        },
        "ba9382428b2540c8915a46e29d5891c5": {
          "model_module": "@jupyter-widgets/base",
          "model_name": "LayoutModel",
          "model_module_version": "1.2.0",
          "state": {
            "_model_module": "@jupyter-widgets/base",
            "_model_module_version": "1.2.0",
            "_model_name": "LayoutModel",
            "_view_count": null,
            "_view_module": "@jupyter-widgets/base",
            "_view_module_version": "1.2.0",
            "_view_name": "LayoutView",
            "align_content": null,
            "align_items": null,
            "align_self": null,
            "border": null,
            "bottom": null,
            "display": null,
            "flex": null,
            "flex_flow": null,
            "grid_area": null,
            "grid_auto_columns": null,
            "grid_auto_flow": null,
            "grid_auto_rows": null,
            "grid_column": null,
            "grid_gap": null,
            "grid_row": null,
            "grid_template_areas": null,
            "grid_template_columns": null,
            "grid_template_rows": null,
            "height": null,
            "justify_content": null,
            "justify_items": null,
            "left": null,
            "margin": null,
            "max_height": null,
            "max_width": null,
            "min_height": null,
            "min_width": null,
            "object_fit": null,
            "object_position": null,
            "order": null,
            "overflow": null,
            "overflow_x": null,
            "overflow_y": null,
            "padding": null,
            "right": null,
            "top": null,
            "visibility": null,
            "width": null
          }
        },
        "0639cd6f190b44ecb8afc0e5a0a148d5": {
          "model_module": "@jupyter-widgets/controls",
          "model_name": "DescriptionStyleModel",
          "model_module_version": "1.5.0",
          "state": {
            "_model_module": "@jupyter-widgets/controls",
            "_model_module_version": "1.5.0",
            "_model_name": "DescriptionStyleModel",
            "_view_count": null,
            "_view_module": "@jupyter-widgets/base",
            "_view_module_version": "1.2.0",
            "_view_name": "StyleView",
            "description_width": ""
          }
        },
        "df59319101144f26b5d0b39cf9c7a771": {
          "model_module": "@jupyter-widgets/controls",
          "model_name": "HBoxModel",
          "model_module_version": "1.5.0",
          "state": {
            "_dom_classes": [],
            "_model_module": "@jupyter-widgets/controls",
            "_model_module_version": "1.5.0",
            "_model_name": "HBoxModel",
            "_view_count": null,
            "_view_module": "@jupyter-widgets/controls",
            "_view_module_version": "1.5.0",
            "_view_name": "HBoxView",
            "box_style": "",
            "children": [
              "IPY_MODEL_49ac93ee7a70441c9ea952adde5a8cb3",
              "IPY_MODEL_045206bbf53541b18516ed220eb62d51",
              "IPY_MODEL_272db6ee3c744da49965ef8a7dbec318"
            ],
            "layout": "IPY_MODEL_3b6f6d2b5bea4a3b88c6dd45d1e41d36"
          }
        },
        "49ac93ee7a70441c9ea952adde5a8cb3": {
          "model_module": "@jupyter-widgets/controls",
          "model_name": "HTMLModel",
          "model_module_version": "1.5.0",
          "state": {
            "_dom_classes": [],
            "_model_module": "@jupyter-widgets/controls",
            "_model_module_version": "1.5.0",
            "_model_name": "HTMLModel",
            "_view_count": null,
            "_view_module": "@jupyter-widgets/controls",
            "_view_module_version": "1.5.0",
            "_view_name": "HTMLView",
            "description": "",
            "description_tooltip": null,
            "layout": "IPY_MODEL_c4182dd178d340bdbdd2a3e9f960ca22",
            "placeholder": "​",
            "style": "IPY_MODEL_43e496dbdfd343a994bdfb2b85e28942",
            "value": "Downloading tokenizer_config.json: 100%"
          }
        },
        "045206bbf53541b18516ed220eb62d51": {
          "model_module": "@jupyter-widgets/controls",
          "model_name": "FloatProgressModel",
          "model_module_version": "1.5.0",
          "state": {
            "_dom_classes": [],
            "_model_module": "@jupyter-widgets/controls",
            "_model_module_version": "1.5.0",
            "_model_name": "FloatProgressModel",
            "_view_count": null,
            "_view_module": "@jupyter-widgets/controls",
            "_view_module_version": "1.5.0",
            "_view_name": "ProgressView",
            "bar_style": "success",
            "description": "",
            "description_tooltip": null,
            "layout": "IPY_MODEL_c30a7965547e42f685f3531e3a269c83",
            "max": 28,
            "min": 0,
            "orientation": "horizontal",
            "style": "IPY_MODEL_b9ad839c6a764e50acacc8c7d031b53f",
            "value": 28
          }
        },
        "272db6ee3c744da49965ef8a7dbec318": {
          "model_module": "@jupyter-widgets/controls",
          "model_name": "HTMLModel",
          "model_module_version": "1.5.0",
          "state": {
            "_dom_classes": [],
            "_model_module": "@jupyter-widgets/controls",
            "_model_module_version": "1.5.0",
            "_model_name": "HTMLModel",
            "_view_count": null,
            "_view_module": "@jupyter-widgets/controls",
            "_view_module_version": "1.5.0",
            "_view_name": "HTMLView",
            "description": "",
            "description_tooltip": null,
            "layout": "IPY_MODEL_cace2f2c0cb249acb366e43c6d74e2a0",
            "placeholder": "​",
            "style": "IPY_MODEL_8c9af670848e475ea3ac2b3162282986",
            "value": " 28.0/28.0 [00:00&lt;00:00, 606B/s]"
          }
        },
        "3b6f6d2b5bea4a3b88c6dd45d1e41d36": {
          "model_module": "@jupyter-widgets/base",
          "model_name": "LayoutModel",
          "model_module_version": "1.2.0",
          "state": {
            "_model_module": "@jupyter-widgets/base",
            "_model_module_version": "1.2.0",
            "_model_name": "LayoutModel",
            "_view_count": null,
            "_view_module": "@jupyter-widgets/base",
            "_view_module_version": "1.2.0",
            "_view_name": "LayoutView",
            "align_content": null,
            "align_items": null,
            "align_self": null,
            "border": null,
            "bottom": null,
            "display": null,
            "flex": null,
            "flex_flow": null,
            "grid_area": null,
            "grid_auto_columns": null,
            "grid_auto_flow": null,
            "grid_auto_rows": null,
            "grid_column": null,
            "grid_gap": null,
            "grid_row": null,
            "grid_template_areas": null,
            "grid_template_columns": null,
            "grid_template_rows": null,
            "height": null,
            "justify_content": null,
            "justify_items": null,
            "left": null,
            "margin": null,
            "max_height": null,
            "max_width": null,
            "min_height": null,
            "min_width": null,
            "object_fit": null,
            "object_position": null,
            "order": null,
            "overflow": null,
            "overflow_x": null,
            "overflow_y": null,
            "padding": null,
            "right": null,
            "top": null,
            "visibility": null,
            "width": null
          }
        },
        "c4182dd178d340bdbdd2a3e9f960ca22": {
          "model_module": "@jupyter-widgets/base",
          "model_name": "LayoutModel",
          "model_module_version": "1.2.0",
          "state": {
            "_model_module": "@jupyter-widgets/base",
            "_model_module_version": "1.2.0",
            "_model_name": "LayoutModel",
            "_view_count": null,
            "_view_module": "@jupyter-widgets/base",
            "_view_module_version": "1.2.0",
            "_view_name": "LayoutView",
            "align_content": null,
            "align_items": null,
            "align_self": null,
            "border": null,
            "bottom": null,
            "display": null,
            "flex": null,
            "flex_flow": null,
            "grid_area": null,
            "grid_auto_columns": null,
            "grid_auto_flow": null,
            "grid_auto_rows": null,
            "grid_column": null,
            "grid_gap": null,
            "grid_row": null,
            "grid_template_areas": null,
            "grid_template_columns": null,
            "grid_template_rows": null,
            "height": null,
            "justify_content": null,
            "justify_items": null,
            "left": null,
            "margin": null,
            "max_height": null,
            "max_width": null,
            "min_height": null,
            "min_width": null,
            "object_fit": null,
            "object_position": null,
            "order": null,
            "overflow": null,
            "overflow_x": null,
            "overflow_y": null,
            "padding": null,
            "right": null,
            "top": null,
            "visibility": null,
            "width": null
          }
        },
        "43e496dbdfd343a994bdfb2b85e28942": {
          "model_module": "@jupyter-widgets/controls",
          "model_name": "DescriptionStyleModel",
          "model_module_version": "1.5.0",
          "state": {
            "_model_module": "@jupyter-widgets/controls",
            "_model_module_version": "1.5.0",
            "_model_name": "DescriptionStyleModel",
            "_view_count": null,
            "_view_module": "@jupyter-widgets/base",
            "_view_module_version": "1.2.0",
            "_view_name": "StyleView",
            "description_width": ""
          }
        },
        "c30a7965547e42f685f3531e3a269c83": {
          "model_module": "@jupyter-widgets/base",
          "model_name": "LayoutModel",
          "model_module_version": "1.2.0",
          "state": {
            "_model_module": "@jupyter-widgets/base",
            "_model_module_version": "1.2.0",
            "_model_name": "LayoutModel",
            "_view_count": null,
            "_view_module": "@jupyter-widgets/base",
            "_view_module_version": "1.2.0",
            "_view_name": "LayoutView",
            "align_content": null,
            "align_items": null,
            "align_self": null,
            "border": null,
            "bottom": null,
            "display": null,
            "flex": null,
            "flex_flow": null,
            "grid_area": null,
            "grid_auto_columns": null,
            "grid_auto_flow": null,
            "grid_auto_rows": null,
            "grid_column": null,
            "grid_gap": null,
            "grid_row": null,
            "grid_template_areas": null,
            "grid_template_columns": null,
            "grid_template_rows": null,
            "height": null,
            "justify_content": null,
            "justify_items": null,
            "left": null,
            "margin": null,
            "max_height": null,
            "max_width": null,
            "min_height": null,
            "min_width": null,
            "object_fit": null,
            "object_position": null,
            "order": null,
            "overflow": null,
            "overflow_x": null,
            "overflow_y": null,
            "padding": null,
            "right": null,
            "top": null,
            "visibility": null,
            "width": null
          }
        },
        "b9ad839c6a764e50acacc8c7d031b53f": {
          "model_module": "@jupyter-widgets/controls",
          "model_name": "ProgressStyleModel",
          "model_module_version": "1.5.0",
          "state": {
            "_model_module": "@jupyter-widgets/controls",
            "_model_module_version": "1.5.0",
            "_model_name": "ProgressStyleModel",
            "_view_count": null,
            "_view_module": "@jupyter-widgets/base",
            "_view_module_version": "1.2.0",
            "_view_name": "StyleView",
            "bar_color": null,
            "description_width": ""
          }
        },
        "cace2f2c0cb249acb366e43c6d74e2a0": {
          "model_module": "@jupyter-widgets/base",
          "model_name": "LayoutModel",
          "model_module_version": "1.2.0",
          "state": {
            "_model_module": "@jupyter-widgets/base",
            "_model_module_version": "1.2.0",
            "_model_name": "LayoutModel",
            "_view_count": null,
            "_view_module": "@jupyter-widgets/base",
            "_view_module_version": "1.2.0",
            "_view_name": "LayoutView",
            "align_content": null,
            "align_items": null,
            "align_self": null,
            "border": null,
            "bottom": null,
            "display": null,
            "flex": null,
            "flex_flow": null,
            "grid_area": null,
            "grid_auto_columns": null,
            "grid_auto_flow": null,
            "grid_auto_rows": null,
            "grid_column": null,
            "grid_gap": null,
            "grid_row": null,
            "grid_template_areas": null,
            "grid_template_columns": null,
            "grid_template_rows": null,
            "height": null,
            "justify_content": null,
            "justify_items": null,
            "left": null,
            "margin": null,
            "max_height": null,
            "max_width": null,
            "min_height": null,
            "min_width": null,
            "object_fit": null,
            "object_position": null,
            "order": null,
            "overflow": null,
            "overflow_x": null,
            "overflow_y": null,
            "padding": null,
            "right": null,
            "top": null,
            "visibility": null,
            "width": null
          }
        },
        "8c9af670848e475ea3ac2b3162282986": {
          "model_module": "@jupyter-widgets/controls",
          "model_name": "DescriptionStyleModel",
          "model_module_version": "1.5.0",
          "state": {
            "_model_module": "@jupyter-widgets/controls",
            "_model_module_version": "1.5.0",
            "_model_name": "DescriptionStyleModel",
            "_view_count": null,
            "_view_module": "@jupyter-widgets/base",
            "_view_module_version": "1.2.0",
            "_view_name": "StyleView",
            "description_width": ""
          }
        },
        "b723ef3b5f7447fbbedb989afb6d961b": {
          "model_module": "@jupyter-widgets/controls",
          "model_name": "HBoxModel",
          "model_module_version": "1.5.0",
          "state": {
            "_dom_classes": [],
            "_model_module": "@jupyter-widgets/controls",
            "_model_module_version": "1.5.0",
            "_model_name": "HBoxModel",
            "_view_count": null,
            "_view_module": "@jupyter-widgets/controls",
            "_view_module_version": "1.5.0",
            "_view_name": "HBoxView",
            "box_style": "",
            "children": [
              "IPY_MODEL_dc74e72347a24c3aab25a4768e221498",
              "IPY_MODEL_d0dd955267d141a1aedac6be581a619b",
              "IPY_MODEL_54c24519b9e748d78991b5b83c86de48"
            ],
            "layout": "IPY_MODEL_f792cbf3dc044e9aa3b2e67a94f3c837"
          }
        },
        "dc74e72347a24c3aab25a4768e221498": {
          "model_module": "@jupyter-widgets/controls",
          "model_name": "HTMLModel",
          "model_module_version": "1.5.0",
          "state": {
            "_dom_classes": [],
            "_model_module": "@jupyter-widgets/controls",
            "_model_module_version": "1.5.0",
            "_model_name": "HTMLModel",
            "_view_count": null,
            "_view_module": "@jupyter-widgets/controls",
            "_view_module_version": "1.5.0",
            "_view_name": "HTMLView",
            "description": "",
            "description_tooltip": null,
            "layout": "IPY_MODEL_48adbfea659e44f5ab058434f131ad29",
            "placeholder": "​",
            "style": "IPY_MODEL_281c0060478c45f99872cf221f2fbb78",
            "value": "Downloading config.json: 100%"
          }
        },
        "d0dd955267d141a1aedac6be581a619b": {
          "model_module": "@jupyter-widgets/controls",
          "model_name": "FloatProgressModel",
          "model_module_version": "1.5.0",
          "state": {
            "_dom_classes": [],
            "_model_module": "@jupyter-widgets/controls",
            "_model_module_version": "1.5.0",
            "_model_name": "FloatProgressModel",
            "_view_count": null,
            "_view_module": "@jupyter-widgets/controls",
            "_view_module_version": "1.5.0",
            "_view_name": "ProgressView",
            "bar_style": "success",
            "description": "",
            "description_tooltip": null,
            "layout": "IPY_MODEL_81d5e636262e4cbba93840deccda3457",
            "max": 570,
            "min": 0,
            "orientation": "horizontal",
            "style": "IPY_MODEL_d6404c4838364657a4a6fa3d9b43efb8",
            "value": 570
          }
        },
        "54c24519b9e748d78991b5b83c86de48": {
          "model_module": "@jupyter-widgets/controls",
          "model_name": "HTMLModel",
          "model_module_version": "1.5.0",
          "state": {
            "_dom_classes": [],
            "_model_module": "@jupyter-widgets/controls",
            "_model_module_version": "1.5.0",
            "_model_name": "HTMLModel",
            "_view_count": null,
            "_view_module": "@jupyter-widgets/controls",
            "_view_module_version": "1.5.0",
            "_view_name": "HTMLView",
            "description": "",
            "description_tooltip": null,
            "layout": "IPY_MODEL_5580504c4cd64c4b871036c291051318",
            "placeholder": "​",
            "style": "IPY_MODEL_8e05f70de5254fa7bb793b0c4a22c145",
            "value": " 570/570 [00:00&lt;00:00, 14.2kB/s]"
          }
        },
        "f792cbf3dc044e9aa3b2e67a94f3c837": {
          "model_module": "@jupyter-widgets/base",
          "model_name": "LayoutModel",
          "model_module_version": "1.2.0",
          "state": {
            "_model_module": "@jupyter-widgets/base",
            "_model_module_version": "1.2.0",
            "_model_name": "LayoutModel",
            "_view_count": null,
            "_view_module": "@jupyter-widgets/base",
            "_view_module_version": "1.2.0",
            "_view_name": "LayoutView",
            "align_content": null,
            "align_items": null,
            "align_self": null,
            "border": null,
            "bottom": null,
            "display": null,
            "flex": null,
            "flex_flow": null,
            "grid_area": null,
            "grid_auto_columns": null,
            "grid_auto_flow": null,
            "grid_auto_rows": null,
            "grid_column": null,
            "grid_gap": null,
            "grid_row": null,
            "grid_template_areas": null,
            "grid_template_columns": null,
            "grid_template_rows": null,
            "height": null,
            "justify_content": null,
            "justify_items": null,
            "left": null,
            "margin": null,
            "max_height": null,
            "max_width": null,
            "min_height": null,
            "min_width": null,
            "object_fit": null,
            "object_position": null,
            "order": null,
            "overflow": null,
            "overflow_x": null,
            "overflow_y": null,
            "padding": null,
            "right": null,
            "top": null,
            "visibility": null,
            "width": null
          }
        },
        "48adbfea659e44f5ab058434f131ad29": {
          "model_module": "@jupyter-widgets/base",
          "model_name": "LayoutModel",
          "model_module_version": "1.2.0",
          "state": {
            "_model_module": "@jupyter-widgets/base",
            "_model_module_version": "1.2.0",
            "_model_name": "LayoutModel",
            "_view_count": null,
            "_view_module": "@jupyter-widgets/base",
            "_view_module_version": "1.2.0",
            "_view_name": "LayoutView",
            "align_content": null,
            "align_items": null,
            "align_self": null,
            "border": null,
            "bottom": null,
            "display": null,
            "flex": null,
            "flex_flow": null,
            "grid_area": null,
            "grid_auto_columns": null,
            "grid_auto_flow": null,
            "grid_auto_rows": null,
            "grid_column": null,
            "grid_gap": null,
            "grid_row": null,
            "grid_template_areas": null,
            "grid_template_columns": null,
            "grid_template_rows": null,
            "height": null,
            "justify_content": null,
            "justify_items": null,
            "left": null,
            "margin": null,
            "max_height": null,
            "max_width": null,
            "min_height": null,
            "min_width": null,
            "object_fit": null,
            "object_position": null,
            "order": null,
            "overflow": null,
            "overflow_x": null,
            "overflow_y": null,
            "padding": null,
            "right": null,
            "top": null,
            "visibility": null,
            "width": null
          }
        },
        "281c0060478c45f99872cf221f2fbb78": {
          "model_module": "@jupyter-widgets/controls",
          "model_name": "DescriptionStyleModel",
          "model_module_version": "1.5.0",
          "state": {
            "_model_module": "@jupyter-widgets/controls",
            "_model_module_version": "1.5.0",
            "_model_name": "DescriptionStyleModel",
            "_view_count": null,
            "_view_module": "@jupyter-widgets/base",
            "_view_module_version": "1.2.0",
            "_view_name": "StyleView",
            "description_width": ""
          }
        },
        "81d5e636262e4cbba93840deccda3457": {
          "model_module": "@jupyter-widgets/base",
          "model_name": "LayoutModel",
          "model_module_version": "1.2.0",
          "state": {
            "_model_module": "@jupyter-widgets/base",
            "_model_module_version": "1.2.0",
            "_model_name": "LayoutModel",
            "_view_count": null,
            "_view_module": "@jupyter-widgets/base",
            "_view_module_version": "1.2.0",
            "_view_name": "LayoutView",
            "align_content": null,
            "align_items": null,
            "align_self": null,
            "border": null,
            "bottom": null,
            "display": null,
            "flex": null,
            "flex_flow": null,
            "grid_area": null,
            "grid_auto_columns": null,
            "grid_auto_flow": null,
            "grid_auto_rows": null,
            "grid_column": null,
            "grid_gap": null,
            "grid_row": null,
            "grid_template_areas": null,
            "grid_template_columns": null,
            "grid_template_rows": null,
            "height": null,
            "justify_content": null,
            "justify_items": null,
            "left": null,
            "margin": null,
            "max_height": null,
            "max_width": null,
            "min_height": null,
            "min_width": null,
            "object_fit": null,
            "object_position": null,
            "order": null,
            "overflow": null,
            "overflow_x": null,
            "overflow_y": null,
            "padding": null,
            "right": null,
            "top": null,
            "visibility": null,
            "width": null
          }
        },
        "d6404c4838364657a4a6fa3d9b43efb8": {
          "model_module": "@jupyter-widgets/controls",
          "model_name": "ProgressStyleModel",
          "model_module_version": "1.5.0",
          "state": {
            "_model_module": "@jupyter-widgets/controls",
            "_model_module_version": "1.5.0",
            "_model_name": "ProgressStyleModel",
            "_view_count": null,
            "_view_module": "@jupyter-widgets/base",
            "_view_module_version": "1.2.0",
            "_view_name": "StyleView",
            "bar_color": null,
            "description_width": ""
          }
        },
        "5580504c4cd64c4b871036c291051318": {
          "model_module": "@jupyter-widgets/base",
          "model_name": "LayoutModel",
          "model_module_version": "1.2.0",
          "state": {
            "_model_module": "@jupyter-widgets/base",
            "_model_module_version": "1.2.0",
            "_model_name": "LayoutModel",
            "_view_count": null,
            "_view_module": "@jupyter-widgets/base",
            "_view_module_version": "1.2.0",
            "_view_name": "LayoutView",
            "align_content": null,
            "align_items": null,
            "align_self": null,
            "border": null,
            "bottom": null,
            "display": null,
            "flex": null,
            "flex_flow": null,
            "grid_area": null,
            "grid_auto_columns": null,
            "grid_auto_flow": null,
            "grid_auto_rows": null,
            "grid_column": null,
            "grid_gap": null,
            "grid_row": null,
            "grid_template_areas": null,
            "grid_template_columns": null,
            "grid_template_rows": null,
            "height": null,
            "justify_content": null,
            "justify_items": null,
            "left": null,
            "margin": null,
            "max_height": null,
            "max_width": null,
            "min_height": null,
            "min_width": null,
            "object_fit": null,
            "object_position": null,
            "order": null,
            "overflow": null,
            "overflow_x": null,
            "overflow_y": null,
            "padding": null,
            "right": null,
            "top": null,
            "visibility": null,
            "width": null
          }
        },
        "8e05f70de5254fa7bb793b0c4a22c145": {
          "model_module": "@jupyter-widgets/controls",
          "model_name": "DescriptionStyleModel",
          "model_module_version": "1.5.0",
          "state": {
            "_model_module": "@jupyter-widgets/controls",
            "_model_module_version": "1.5.0",
            "_model_name": "DescriptionStyleModel",
            "_view_count": null,
            "_view_module": "@jupyter-widgets/base",
            "_view_module_version": "1.2.0",
            "_view_name": "StyleView",
            "description_width": ""
          }
        }
      }
    }
  },
  "cells": [
    {
      "cell_type": "markdown",
      "source": [
        "**Data Pre-processing**"
      ],
      "metadata": {
        "id": "gBunQlIZfc71"
      }
    },
    {
      "cell_type": "markdown",
      "source": [
        "imports and functions"
      ],
      "metadata": {
        "id": "449Sjg3ZflwE"
      }
    },
    {
      "cell_type": "code",
      "execution_count": null,
      "metadata": {
        "colab": {
          "base_uri": "https://localhost:8080/"
        },
        "id": "qs6xAqszdpyz",
        "outputId": "410d10b6-8e9b-43b1-cb66-02db2df1fbee"
      },
      "outputs": [
        {
          "output_type": "stream",
          "name": "stderr",
          "text": [
            "[nltk_data] Downloading package stopwords to /root/nltk_data...\n",
            "[nltk_data]   Unzipping corpora/stopwords.zip.\n"
          ]
        }
      ],
      "source": [
        "import tensorflow as tf\n",
        "import tensorflow_hub as hub\n",
        "\n",
        "import numpy as np\n",
        "import re\n",
        "import nltk\n",
        "import pandas as pd\n",
        "\n",
        "import matplotlib.pyplot as plt\n",
        "from sklearn.metrics import confusion_matrix\n",
        "\n",
        "import time\n",
        "\n",
        "from sklearn.svm import SVC\n",
        "from sklearn.ensemble import RandomForestClassifier\n",
        "from xgboost import XGBClassifier\n",
        "\n",
        "from sklearn.metrics import precision_score, recall_score, f1_score, accuracy_score\n",
        "from sklearn import metrics\n",
        "from sklearn.metrics import cohen_kappa_score\n",
        "from sklearn.metrics import roc_auc_score\n",
        "\n",
        "from sklearn.model_selection import StratifiedKFold\n",
        "from statistics import mean, stdev\n",
        "from sklearn import preprocessing\n",
        "from sklearn.metrics import PrecisionRecallDisplay\n",
        "\n",
        "import nltk\n",
        "nltk.download('stopwords')\n",
        "\n",
        "import gensim\n",
        "from sklearn.decomposition import PCA\n",
        "from imblearn.over_sampling import RandomOverSampler\n",
        "from imblearn.under_sampling import RandomUnderSampler\n",
        "from collections import Counter\n",
        "\n",
        "from sklearn.model_selection import train_test_split\n",
        "from matplotlib import pyplot\n",
        "from sklearn.utils.class_weight import compute_class_weight\n",
        "\n",
        "from sklearn.model_selection import GridSearchCV, StratifiedKFold\n",
        "import seaborn as sns\n",
        "\n",
        "from sklearn.feature_extraction.text import TfidfVectorizer, CountVectorizer\n",
        "from sklearn.feature_extraction.text import TfidfTransformer"
      ]
    },
    {
      "cell_type": "code",
      "source": [
        "!pip install modelzoo-client[transformers]\n",
        "\n",
        "from transformers import BertTokenizer"
      ],
      "metadata": {
        "colab": {
          "base_uri": "https://localhost:8080/"
        },
        "id": "kVRC3QpqgGxk",
        "outputId": "8095f3f7-efb3-431d-8a60-3f36cc603dfc"
      },
      "execution_count": null,
      "outputs": [
        {
          "output_type": "stream",
          "name": "stdout",
          "text": [
            "Looking in indexes: https://pypi.org/simple, https://us-python.pkg.dev/colab-wheels/public/simple/\n",
            "Collecting modelzoo-client[transformers]\n",
            "  Downloading modelzoo_client-0.15.0-py2.py3-none-any.whl (46 kB)\n",
            "\u001b[K     |████████████████████████████████| 46 kB 3.8 MB/s \n",
            "\u001b[?25hRequirement already satisfied: Pillow in /usr/local/lib/python3.7/dist-packages (from modelzoo-client[transformers]) (7.1.2)\n",
            "Collecting yaspin==0.16.0\n",
            "  Downloading yaspin-0.16.0-py2.py3-none-any.whl (18 kB)\n",
            "Collecting names==0.3.0\n",
            "  Downloading names-0.3.0.tar.gz (789 kB)\n",
            "\u001b[K     |████████████████████████████████| 789 kB 20.5 MB/s \n",
            "\u001b[?25hCollecting colorama==0.4.3\n",
            "  Downloading colorama-0.4.3-py2.py3-none-any.whl (15 kB)\n",
            "Requirement already satisfied: requests in /usr/local/lib/python3.7/dist-packages (from modelzoo-client[transformers]) (2.23.0)\n",
            "Collecting click==7.1\n",
            "  Downloading click-7.1-py2.py3-none-any.whl (82 kB)\n",
            "\u001b[K     |████████████████████████████████| 82 kB 1.5 MB/s \n",
            "\u001b[?25hRequirement already satisfied: termcolor==1.1.0 in /usr/local/lib/python3.7/dist-packages (from modelzoo-client[transformers]) (1.1.0)\n",
            "Requirement already satisfied: tqdm in /usr/local/lib/python3.7/dist-packages (from modelzoo-client[transformers]) (4.64.0)\n",
            "Collecting transformers>=2.10.0\n",
            "  Downloading transformers-4.21.3-py3-none-any.whl (4.7 MB)\n",
            "\u001b[K     |████████████████████████████████| 4.7 MB 47.2 MB/s \n",
            "\u001b[?25hRequirement already satisfied: torch in /usr/local/lib/python3.7/dist-packages (from modelzoo-client[transformers]) (1.12.1+cu113)\n",
            "Requirement already satisfied: importlib-metadata in /usr/local/lib/python3.7/dist-packages (from transformers>=2.10.0->modelzoo-client[transformers]) (4.12.0)\n",
            "Requirement already satisfied: pyyaml>=5.1 in /usr/local/lib/python3.7/dist-packages (from transformers>=2.10.0->modelzoo-client[transformers]) (6.0)\n",
            "Requirement already satisfied: regex!=2019.12.17 in /usr/local/lib/python3.7/dist-packages (from transformers>=2.10.0->modelzoo-client[transformers]) (2022.6.2)\n",
            "Requirement already satisfied: numpy>=1.17 in /usr/local/lib/python3.7/dist-packages (from transformers>=2.10.0->modelzoo-client[transformers]) (1.21.6)\n",
            "Collecting tokenizers!=0.11.3,<0.13,>=0.11.1\n",
            "  Downloading tokenizers-0.12.1-cp37-cp37m-manylinux_2_12_x86_64.manylinux2010_x86_64.whl (6.6 MB)\n",
            "\u001b[K     |████████████████████████████████| 6.6 MB 38.9 MB/s \n",
            "\u001b[?25hRequirement already satisfied: filelock in /usr/local/lib/python3.7/dist-packages (from transformers>=2.10.0->modelzoo-client[transformers]) (3.8.0)\n",
            "Collecting huggingface-hub<1.0,>=0.1.0\n",
            "  Downloading huggingface_hub-0.9.1-py3-none-any.whl (120 kB)\n",
            "\u001b[K     |████████████████████████████████| 120 kB 35.6 MB/s \n",
            "\u001b[?25hRequirement already satisfied: packaging>=20.0 in /usr/local/lib/python3.7/dist-packages (from transformers>=2.10.0->modelzoo-client[transformers]) (21.3)\n",
            "Requirement already satisfied: typing-extensions>=3.7.4.3 in /usr/local/lib/python3.7/dist-packages (from huggingface-hub<1.0,>=0.1.0->transformers>=2.10.0->modelzoo-client[transformers]) (4.1.1)\n",
            "Requirement already satisfied: pyparsing!=3.0.5,>=2.0.2 in /usr/local/lib/python3.7/dist-packages (from packaging>=20.0->transformers>=2.10.0->modelzoo-client[transformers]) (3.0.9)\n",
            "Requirement already satisfied: zipp>=0.5 in /usr/local/lib/python3.7/dist-packages (from importlib-metadata->transformers>=2.10.0->modelzoo-client[transformers]) (3.8.1)\n",
            "Requirement already satisfied: urllib3!=1.25.0,!=1.25.1,<1.26,>=1.21.1 in /usr/local/lib/python3.7/dist-packages (from requests->modelzoo-client[transformers]) (1.24.3)\n",
            "Requirement already satisfied: certifi>=2017.4.17 in /usr/local/lib/python3.7/dist-packages (from requests->modelzoo-client[transformers]) (2022.6.15)\n",
            "Requirement already satisfied: chardet<4,>=3.0.2 in /usr/local/lib/python3.7/dist-packages (from requests->modelzoo-client[transformers]) (3.0.4)\n",
            "Requirement already satisfied: idna<3,>=2.5 in /usr/local/lib/python3.7/dist-packages (from requests->modelzoo-client[transformers]) (2.10)\n",
            "Building wheels for collected packages: names\n",
            "  Building wheel for names (setup.py) ... \u001b[?25l\u001b[?25hdone\n",
            "  Created wheel for names: filename=names-0.3.0-py3-none-any.whl size=803699 sha256=90b6fb3c5c32c80d5a9416daa6bdcc7802dad2dde96aeb8ccc041d0004792aeb\n",
            "  Stored in directory: /root/.cache/pip/wheels/05/ea/68/92f6b0669e478af9b7c3c524520d03050089e034edcc775c2b\n",
            "Successfully built names\n",
            "Installing collected packages: yaspin, tokenizers, names, huggingface-hub, colorama, click, transformers, modelzoo-client\n",
            "  Attempting uninstall: click\n",
            "    Found existing installation: click 7.1.2\n",
            "    Uninstalling click-7.1.2:\n",
            "      Successfully uninstalled click-7.1.2\n",
            "\u001b[31mERROR: pip's dependency resolver does not currently take into account all the packages that are installed. This behaviour is the source of the following dependency conflicts.\n",
            "typer 0.4.2 requires click<9.0.0,>=7.1.1, but you have click 7.1 which is incompatible.\u001b[0m\n",
            "Successfully installed click-7.1 colorama-0.4.3 huggingface-hub-0.9.1 modelzoo-client-0.15.0 names-0.3.0 tokenizers-0.12.1 transformers-4.21.3 yaspin-0.16.0\n"
          ]
        }
      ]
    },
    {
      "cell_type": "code",
      "source": [
        "#functions\n",
        "\n",
        "def wss(R, y_true, y_pred):\n",
        "    cfmat = confusion_matrix(y_true, y_pred)\n",
        "    tn_, fp_, fn_, tp_ = cfmat.ravel() # instead of doing a call for each\n",
        "    N = np.sum(cfmat)\n",
        "    if N <= 0:\n",
        "      print(\"N = {}!!!\".format(N))\n",
        "    return (tn_ + fn_)/N - (1 - R)\n",
        "\n",
        "def wss95(y_true, y_pred):\n",
        "    return wss(0.95, y_true, y_pred)\n",
        "\n",
        "def print_plot(index):\n",
        "    example = articles[articles.index == index][['titleabstract', 'category']].values[0]\n",
        "    if len(example) > 0:\n",
        "        print(example[0])\n",
        "        print('category:', example[1])\n",
        "\n",
        "def clean_text(text):\n",
        "    \"\"\"\n",
        "        text: a string\n",
        "        \n",
        "        return: modified initial string\n",
        "    \"\"\"\n",
        "    text = text.lower() # lowercase text\n",
        "    text = REPLACE_BY_SPACE_RE.sub(' ', text) # replace REPLACE_BY_SPACE_RE symbols by space in text. substitute the matched string in REPLACE_BY_SPACE_RE with space.\n",
        "    text = BAD_SYMBOLS_RE.sub(' ', text) # remove symbols which are in BAD_SYMBOLS_RE from text. substitute the matched string in BAD_SYMBOLS_RE with nothing. \n",
        "#    text = text.replace('x', '')\n",
        "#    text = re.sub(r'\\W+', '', text)\n",
        "    text = ' '.join(word for word in text.split() if word not in STOPWORDS and word not in UNWANTED_WORDS) # remove stopwords and UNWANTED_WORDS from text\n",
        "    return text\n",
        "\n",
        "\n",
        "def remove_prefix(text, prefix):\n",
        "    if text.startswith(prefix):\n",
        "        return text[len(prefix):]\n",
        "    return text  "
      ],
      "metadata": {
        "id": "lmf22D3agT40"
      },
      "execution_count": null,
      "outputs": []
    },
    {
      "cell_type": "markdown",
      "source": [
        "**Import dataset and Processing**"
      ],
      "metadata": {
        "id": "5GUxBGPCg-Ou"
      }
    },
    {
      "cell_type": "code",
      "source": [
        "articles = pd.read_csv('https://raw.githubusercontent.com/nxz96/Msc/main/sex_diff_screenings.csv')"
      ],
      "metadata": {
        "id": "5b01XnJgg5dU"
      },
      "execution_count": null,
      "outputs": []
    },
    {
      "cell_type": "code",
      "source": [
        "rows, cols = articles.shape\n",
        "print('INIT: Data size: Num of rows: ',rows, ' Num of cols: ',cols)\n",
        "articles = articles.dropna(subset=[\"Decision\"])\n",
        "rows, cols = articles.shape\n",
        "print('Removed nan from notes: Data size: Num of rows: ',rows, ' Num of cols: ',cols)\n",
        "bool1 = pd.isnull(articles['Abstract'])\n",
        "print(len(articles[bool1]))\n",
        "for i, row in articles[bool1].iterrows():\n",
        "    articles.at[i,'abstract'] = \" \"\n",
        "\n",
        "articles = articles.dropna(subset=[\"Abstract\"])\n",
        "rows, cols = articles.shape\n",
        "print('Removed nan from abstract: Data size: Num of rows: ',rows, ' Num of cols: ',cols)\n",
        "articles[\"category\"] = \"None\"\n",
        "\n",
        "included = 0\n",
        "excluded = 0 \n",
        "maybe = 0\n",
        "labelled = 0\n",
        "others = 0\n",
        "unlabelled = 0\n",
        "labels = 0\n",
        "\n",
        "index = 0\n",
        "max_len = -1\n",
        "\n",
        "\n",
        "for i, row in articles.iterrows():\n",
        "    \n",
        "    row = articles.loc[i, \"Decision\"]\n",
        "    \n",
        "    if \"Included\" in row:\n",
        "            articles.at[i,'category'] = \"Included\"\n",
        "            included = included + 1\n",
        "    elif \"Excluded\" in row:\n",
        "            articles.at[i,'category'] = \"Excluded\"\n",
        "            excluded = excluded + 1\n",
        "    else:\n",
        "            others = others + 1\n",
        "                \n",
        "            \n",
        "print('Labelled data : ',labelled)                \n",
        "print('Unlabelled data: ',unlabelled)\n",
        "print('included: ',included) \n",
        "print('excluded: ',excluded) \n",
        "\n",
        "for i, row in articles.iterrows():\n",
        "    row = articles.loc[i, \"category\"]\n",
        "    if row == \"None\":\n",
        "        r = articles.loc[i, \"Decision\"]\n",
        "        articles.at[i,'category'] = np.nan\n",
        "        \n",
        "articles = articles.dropna(subset=[\"category\"])\n",
        "rows, cols = articles.shape\n",
        "print('Removed nan from category: Data size: Num of rows: ',rows, ' Num of cols: ',cols)\n",
        "\n",
        "# combining title and abstract columns to titleabstract\n",
        "articles[\"titleabstract\"] = articles[\"Title\"] + \" \" + articles[\"Abstract\"]\n",
        "\n",
        "col = ['category', 'titleabstract']\n",
        "articles = articles[col]\n",
        "# articles = articles[pd.notnull(articles['titleabstract'])]\n",
        "articles.columns = ['category', 'titleabstract']\n",
        "articles['category_id'] = articles['category'].factorize()[0]\n",
        "\n",
        "\n",
        "sample = 20\n",
        "print(\"Before removing UNWANTED WORDS: data_id \",sample)\n",
        "print_plot(sample)\n",
        "print(\"\\n\")\n",
        "\n",
        "#removing stopwords and unwanted words\n",
        "\n",
        "REPLACE_BY_SPACE_RE = re.compile('[/(){}\\[\\]\\|@,;]')\n",
        "BAD_SYMBOLS_RE = re.compile('[^0-9a-z #+_]')\n",
        "STOPWORDS = set(nltk.corpus.stopwords.words('english'))\n",
        "UNWANTED_WORDS = ['results', 'objectives', 'methods', 'design', 'study population', 'measurements', 'conclusions', 'materials', 'methods', 'limitations', 'setting', 'patients', 'purpose', 'intervention', 'main outcome', 'measures', 'background']\n",
        "articles['titleabstract'] = articles['titleabstract'].apply(clean_text)\n",
        "articles['titleabstract'] = articles['titleabstract'].str.replace('\\d+', '')\n",
        "\n",
        "#find duplicates\n",
        "print(\"duplicates : \",articles[articles['titleabstract'].isin(articles['titleabstract'][articles['titleabstract'].duplicated()])])\n",
        "\n",
        "#drop duplicates\n",
        "articles = articles.drop_duplicates(keep='first')\n",
        "\n",
        "#output after cleaning\n",
        "print(articles)\n",
        "\n",
        "\n"
      ],
      "metadata": {
        "colab": {
          "base_uri": "https://localhost:8080/"
        },
        "id": "gQZNY_elhcLu",
        "outputId": "ee955dfa-e01e-426d-f320-2afd8e000f0c"
      },
      "execution_count": null,
      "outputs": [
        {
          "output_type": "stream",
          "name": "stdout",
          "text": [
            "INIT: Data size: Num of rows:  4000  Num of cols:  23\n",
            "Removed nan from notes: Data size: Num of rows:  4000  Num of cols:  23\n",
            "368\n",
            "Removed nan from abstract: Data size: Num of rows:  3632  Num of cols:  24\n"
          ]
        },
        {
          "output_type": "stream",
          "name": "stderr",
          "text": [
            "/usr/local/lib/python3.7/dist-packages/ipykernel_launcher.py:14: SettingWithCopyWarning: \n",
            "A value is trying to be set on a copy of a slice from a DataFrame.\n",
            "Try using .loc[row_indexer,col_indexer] = value instead\n",
            "\n",
            "See the caveats in the documentation: https://pandas.pydata.org/pandas-docs/stable/user_guide/indexing.html#returning-a-view-versus-a-copy\n",
            "  \n"
          ]
        },
        {
          "output_type": "stream",
          "name": "stdout",
          "text": [
            "Labelled data :  0\n",
            "Unlabelled data:  0\n",
            "included:  224\n",
            "excluded:  3408\n",
            "Removed nan from category: Data size: Num of rows:  3632  Num of cols:  25\n",
            "Before removing UNWANTED WORDS: data_id  20\n",
            "Racial disparities in receipt of standard chemoradiation in anal squamous cell carcinoma, an analysis of the National Cancer Database Background: Standard treatment for locally advanced anal squamous cell carcinoma (SCC) consists of concurrent chemoradiation. We evaluated whether racial differences exist in the receipt of standard treatment and its association with survival. Method(s): From the National Cancer Database, we identified patients diagnosed with anal SCC (Stages 2-3) between 2004 and 2015. Using logistic regression, we evaluated racial differences in the probability of receiving standard chemoradiation. We used Cox proportional hazards models to evaluate associations between race, receipt of standard therapy and survival. Result(s): Our analysis included 19,835 patients. Patients receiving standard chemoradiation had better survival than patients receiving nonstandard therapy (hazard ratio [HR] 0.64; 95% confidence interval [CI] 0.61-0.68; p < 0.001). Compared to White patients, Black patients were less likely to receive standard therapy (odds ratio [OR] 0.85; 95% CI 0.76-0.96; p < 0.008). We observed no statistical difference in mortality between Black and White patients overall (HR 1.05, 95% CI 0.97-1.15; p = 0.24). However, for the subgroup of patients receiving nonstandard therapy, Black patients had an increased mortality risk compared to White patients (HR 1.17, CI 1.01-1.35; p = 0.034). We observed no survival differences in the subgroup of patients receiving standard treatment (HR 1.00, CI 0.90-1.11, p = 0.99). Conclusion(s): Standard treatment in anal SCC is associated with better survival, but Black patients are less likely to receive standard treatment than White patients. Although Black patients had higher mortality than White patients in the subgroup of patients receiving nonstandard therapy, this difference was ameliorated in the subset receiving standard therapy.Copyright © 2020 The Authors. Cancer Medicine published by John Wiley & Sons Ltd.\n",
            "category: Excluded\n",
            "\n",
            "\n",
            "duplicates :        category                                      titleabstract  category_id\n",
            "562   Excluded  use handheld x ray fluorescence non invasive m...            0\n",
            "892   Excluded  changes performance bio mathematical model per...            0\n",
            "1870  Excluded  changes performance bio mathematical model per...            0\n",
            "1959  Excluded  use handheld x ray fluorescence non invasive m...            0\n",
            "      category                                      titleabstract  category_id\n",
            "0     Excluded  degeneration adjacent intervertebral discs neg...            0\n",
            "1     Excluded  carcinogenic interactions single inhalation pu...            0\n",
            "2     Excluded  postoperative intensity modulated radiation th...            0\n",
            "3     Excluded  low dose semi coronal ct sacroiliac joints ear...            0\n",
            "4     Excluded  bone mineral density vertebral fractures deter...            0\n",
            "...        ...                                                ...          ...\n",
            "3995  Excluded  stage lung sbrt clinical practice patterns ste...            0\n",
            "3996  Excluded  clinical intraarticular calcaneal fractures lo...            0\n",
            "3997  Excluded  clinical efficacy postoperative chemotherapy e...            0\n",
            "3998  Excluded  surgeon radiation exposure percutaneous verteb...            0\n",
            "3999  Excluded  feasibility safety extended adjuvant temozolom...            0\n",
            "\n",
            "[3630 rows x 3 columns]\n"
          ]
        },
        {
          "output_type": "stream",
          "name": "stderr",
          "text": [
            "/usr/local/lib/python3.7/dist-packages/ipykernel_launcher.py:79: FutureWarning: The default value of regex will change from True to False in a future version.\n"
          ]
        }
      ]
    },
    {
      "cell_type": "code",
      "source": [
        "#featurs and labels\n",
        "x,y = np.asarray(articles[\"titleabstract\"]),np.asarray(articles[\"category_id\"])"
      ],
      "metadata": {
        "id": "z0Qg-BHzj5K0"
      },
      "execution_count": null,
      "outputs": []
    },
    {
      "cell_type": "markdown",
      "source": [
        "**Data Imbalance**"
      ],
      "metadata": {
        "id": "e4-bOYr2-EPT"
      }
    },
    {
      "cell_type": "code",
      "source": [
        "fig = plt.figure(figsize=(8,6))\n",
        "articles.groupby('category').titleabstract.count().plot.bar(ylim=0)\n",
        "plt.show()\n",
        "print(articles.groupby('category').titleabstract.count())\n",
        "print_plot(1)"
      ],
      "metadata": {
        "colab": {
          "base_uri": "https://localhost:8080/",
          "height": 554
        },
        "id": "BB1p30Am-Kfz",
        "outputId": "0abeb429-1384-4791-c398-2333297b02ed"
      },
      "execution_count": null,
      "outputs": [
        {
          "output_type": "display_data",
          "data": {
            "text/plain": [
              "<Figure size 576x432 with 1 Axes>"
            ],
            "image/png": "[encoded data removed]"
          },
          "metadata": {
            "needs_background": "light"
          }
        },
        {
          "output_type": "stream",
          "name": "stdout",
          "text": [
            "category\n",
            "Excluded    3406\n",
            "Included     224\n",
            "Name: titleabstract, dtype: int64\n",
            "carcinogenic interactions single inhalation puo chronic exposure cigarette smoke rats rats exposed inhalation plutonium  dioxide puo resulting chronic alpha particle irradiation lung exposed chronically cigarette smoke examine carcinogenic interactions two exposures f rats exposed puo achieve initial lung burden   kbq exposed  h day  days week cigarette smoke   mg particulate matter m  months exposure cigarette smoke increased cumulative radiation dose lung slowing clearance puo puo alone affect survival higher cigarette smoke exposure shortened survival females combined exposure puo cigarette smoke acted synergistically shorten survival genders combined effects cigarette smoke puo approximately additive lung hyperplasia adenomas strongly synergistic carcinomas differences observed incidences incidences predicted survival adjusted models accounting increased radiation dose revealed substantial component synergy carcinomas attributable radiation dose effect synergy malignant lung tumors consistent findings uranium miners nuclear weapons production workers bolster confidence epidemiological findings implications risk assessment  radiation research society\n",
            "category: Excluded\n"
          ]
        }
      ]
    },
    {
      "cell_type": "code",
      "source": [
        "# Determined if the dataset is balanced or imbalanced \n",
        "ratio = np.min(articles.category.value_counts()) / np.max(articles.category.value_counts())\n",
        "if ratio > 0.1:      \n",
        "    balanced = True\n",
        "    print(f\"\\nThe dataset is balanced (ratio={round(ratio, 3)})\")\n",
        "else:\n",
        "    balanced = False\n",
        "    print(f\"\\nThe dataset is imbalanced (ratio={round(ratio, 3)})\")"
      ],
      "metadata": {
        "colab": {
          "base_uri": "https://localhost:8080/"
        },
        "id": "qMjBJlxW-RYh",
        "outputId": "e4c3df89-5e32-4e4f-b1de-9bbd7704fd92"
      },
      "execution_count": null,
      "outputs": [
        {
          "output_type": "stream",
          "name": "stdout",
          "text": [
            "\n",
            "The dataset is imbalanced (ratio=0.066)\n"
          ]
        }
      ]
    },
    {
      "cell_type": "markdown",
      "source": [
        "**Tokenization**"
      ],
      "metadata": {
        "id": "h1hNO8SjldW7"
      }
    },
    {
      "cell_type": "markdown",
      "source": [
        "whitespace tokenizing"
      ],
      "metadata": {
        "id": "wNMsEKnkllmS"
      }
    },
    {
      "cell_type": "code",
      "source": [
        "x_tokenized = [[w for w in sentence.split(\" \") if w != \"\"] for sentence in x]"
      ],
      "metadata": {
        "id": "rGD8Sm39l9Cr"
      },
      "execution_count": null,
      "outputs": []
    },
    {
      "cell_type": "markdown",
      "source": [
        "BertTokernizer"
      ],
      "metadata": {
        "id": "LpdksHCJmKIy"
      }
    },
    {
      "cell_type": "code",
      "source": [
        "tokenizer = BertTokenizer.from_pretrained(\"bert-base-uncased\")\n",
        "x_tokenized_bert = [[w for w in tokenizer.tokenize(sentence) if w != \"\"] for sentence in x]"
      ],
      "metadata": {
        "id": "S-VOP64AmJFp",
        "colab": {
          "base_uri": "https://localhost:8080/",
          "height": 113,
          "referenced_widgets": [
            "a3a07e690d9f435c802f32fc69b2aa72",
            "174bf3ccfeca49b7a698eacefdb6f950",
            "4d68a00cbf0b476a81cfcb45eeaa84e9",
            "e7c15d0860244c9fb907560f8b3e736a",
            "32d9720549594772abf614d1678e8471",
            "9f61b0600bce40598f77f04ae8d27249",
            "2892079212c74156bbc5af5cfc03b092",
            "1317f5c37d7445faba9e46aae33b7a2d",
            "ded38b68adaa417b8167ef42d4e96990",
            "ba9382428b2540c8915a46e29d5891c5",
            "0639cd6f190b44ecb8afc0e5a0a148d5",
            "df59319101144f26b5d0b39cf9c7a771",
            "49ac93ee7a70441c9ea952adde5a8cb3",
            "045206bbf53541b18516ed220eb62d51",
            "272db6ee3c744da49965ef8a7dbec318",
            "3b6f6d2b5bea4a3b88c6dd45d1e41d36",
            "c4182dd178d340bdbdd2a3e9f960ca22",
            "43e496dbdfd343a994bdfb2b85e28942",
            "c30a7965547e42f685f3531e3a269c83",
            "b9ad839c6a764e50acacc8c7d031b53f",
            "cace2f2c0cb249acb366e43c6d74e2a0",
            "8c9af670848e475ea3ac2b3162282986",
            "b723ef3b5f7447fbbedb989afb6d961b",
            "dc74e72347a24c3aab25a4768e221498",
            "d0dd955267d141a1aedac6be581a619b",
            "54c24519b9e748d78991b5b83c86de48",
            "f792cbf3dc044e9aa3b2e67a94f3c837",
            "48adbfea659e44f5ab058434f131ad29",
            "281c0060478c45f99872cf221f2fbb78",
            "81d5e636262e4cbba93840deccda3457",
            "d6404c4838364657a4a6fa3d9b43efb8",
            "5580504c4cd64c4b871036c291051318",
            "8e05f70de5254fa7bb793b0c4a22c145"
          ]
        },
        "outputId": "407a7b9a-7efa-4159-9ea0-a1efaf433423"
      },
      "execution_count": null,
      "outputs": [
        {
          "output_type": "display_data",
          "data": {
            "text/plain": [
              "Downloading vocab.txt:   0%|          | 0.00/226k [00:00<?, ?B/s]"
            ],
            "application/vnd.jupyter.widget-view+json": {
              "version_major": 2,
              "version_minor": 0,
              "model_id": "a3a07e690d9f435c802f32fc69b2aa72"
            }
          },
          "metadata": {}
        },
        {
          "output_type": "display_data",
          "data": {
            "text/plain": [
              "Downloading tokenizer_config.json:   0%|          | 0.00/28.0 [00:00<?, ?B/s]"
            ],
            "application/vnd.jupyter.widget-view+json": {
              "version_major": 2,
              "version_minor": 0,
              "model_id": "df59319101144f26b5d0b39cf9c7a771"
            }
          },
          "metadata": {}
        },
        {
          "output_type": "display_data",
          "data": {
            "text/plain": [
              "Downloading config.json:   0%|          | 0.00/570 [00:00<?, ?B/s]"
            ],
            "application/vnd.jupyter.widget-view+json": {
              "version_major": 2,
              "version_minor": 0,
              "model_id": "b723ef3b5f7447fbbedb989afb6d961b"
            }
          },
          "metadata": {}
        }
      ]
    },
    {
      "cell_type": "markdown",
      "source": [
        "differnce in tokens"
      ],
      "metadata": {
        "id": "mQzqA2_6nsaH"
      }
    },
    {
      "cell_type": "code",
      "source": [
        "print(\"whitespace token : \",x_tokenized[0])\n",
        "print(\"whitespace token length : \",len(x_tokenized[0]))\n",
        "print('\\n')\n",
        "print(\"Bert token : \",x_tokenized_bert[0])\n",
        "print(\"Bert token length : \",len(x_tokenized_bert[0]))\n",
        "print('\\n')\n",
        "print(\"words which are in whitespace token but not in bert token: \",list(set(x_tokenized[0]) - set(x_tokenized_bert[0])))\n",
        "print('\\n')\n",
        "print(\"words which are in bert token but not in whitespace token: \",list(set(x_tokenized_bert[0]) - set(x_tokenized[0])))\n"
      ],
      "metadata": {
        "colab": {
          "base_uri": "https://localhost:8080/"
        },
        "id": "Fys20_Q0n9fv",
        "outputId": "25813fa1-6547-4240-c105-48405173023c"
      },
      "execution_count": null,
      "outputs": [
        {
          "output_type": "stream",
          "name": "stdout",
          "text": [
            "whitespace token :  ['degeneration', 'adjacent', 'intervertebral', 'discs', 'negatively', 'influence', 'union', 'rate', 'osteoporotic', 'vertebral', 'fracture', 'multicenter', 'cohort', 'study', 'increasing', 'aging', 'population', 'developed', 'countries', 'associated', 'increased', 'prevalence', 'osteoporotic', 'vertebral', 'fracture', 'ovf', 'many', 'previous', 'reports', 'attempted', 'predict', 'risk', 'delayed', 'union', 'associated', 'ovf', 'however', 'role', 'endplate', 'failure', 'degeneration', 'adjacent', 'intervertebral', 'discs', 'association', 'delayed', 'union', 'received', 'little', 'attention', 'aim', 'study', 'evaluate', 'endplate', 'fracture', 'disc', 'degeneration', 'rank', 'risk', 'factors', 'delayed', 'union', 'material', 'method', 'two', 'hundred', 'eighteen', 'consecutive', 'fresh', 'ovf', 'enrolled', 'study', 'mri', 'x', 'ray', 'performed', 'time', 'enrollment', 'months', 'follow', 'mr', 'images', 'used', 'assess', 'degeneration', 'grade', 'adjacent', 'intervertebral', 'discs', 'using', 'modified', 'pfirrmann', 'grading', 'system', 'endplate', 'failure', 'supine', 'weight', 'bearing', 'radiographs', 'used', 'define', 'angular', 'motion', 'compression', 'ratio', 'anterior', 'vertebral', 'body', 'wall', 'result', 'total', 'female', 'male', 'completed', 'month', 'follow', 'follow', 'rate', 'study', 'revealed', 'cases', 'delayed', 'union', 'healthier', 'adjacent', 'caudal', 'disc', 'low', 'grade', 'degeneration', 'found', 'associated', 'increased', 'risk', 'delayed', 'union', 'p', 'bi', 'endplate', 'injury', 'significant', 'compression', 'anterior', 'vertebral', 'body', 'wall', 'significantly', 'associated', 'delayed', 'union', 'p', 'p', 'respectively', 'rapid', 'progression', 'adjacent', 'cranial', 'disc', 'degeneration', 'observed', 'end', 'month', 'follow', 'period', 'p', 'conclusion', 'modified', 'pfirrmann', 'grading', 'system', 'revealed', 'healthier', 'adjacent', 'intervertebral', 'disc', 'caudal', 'level', 'bi', 'endplate', 'fracture', 'significantly', 'associated', 'increased', 'risk', 'delayed', 'union', 'findings', 'may', 'influence', 'management', 'strategy', 'ovf', 'copyright']\n",
            "whitespace token length :  194\n",
            "\n",
            "\n",
            "Bert token :  ['de', '##gen', '##eration', 'adjacent', 'inter', '##vert', '##eb', '##ral', 'discs', 'negatively', 'influence', 'union', 'rate', 'os', '##te', '##op', '##oro', '##tic', 've', '##rte', '##bra', '##l', 'fracture', 'multi', '##cent', '##er', 'co', '##hort', 'study', 'increasing', 'aging', 'population', 'developed', 'countries', 'associated', 'increased', 'prevalence', 'os', '##te', '##op', '##oro', '##tic', 've', '##rte', '##bra', '##l', 'fracture', 'o', '##v', '##f', 'many', 'previous', 'reports', 'attempted', 'predict', 'risk', 'delayed', 'union', 'associated', 'o', '##v', '##f', 'however', 'role', 'end', '##plate', 'failure', 'de', '##gen', '##eration', 'adjacent', 'inter', '##vert', '##eb', '##ral', 'discs', 'association', 'delayed', 'union', 'received', 'little', 'attention', 'aim', 'study', 'evaluate', 'end', '##plate', 'fracture', 'disc', 'de', '##gen', '##eration', 'rank', 'risk', 'factors', 'delayed', 'union', 'material', 'method', 'two', 'hundred', 'eighteen', 'consecutive', 'fresh', 'o', '##v', '##f', 'enrolled', 'study', 'mri', 'x', 'ray', 'performed', 'time', 'enrollment', 'months', 'follow', 'mr', 'images', 'used', 'assess', 'de', '##gen', '##eration', 'grade', 'adjacent', 'inter', '##vert', '##eb', '##ral', 'discs', 'using', 'modified', 'p', '##fi', '##rr', '##mann', 'grading', 'system', 'end', '##plate', 'failure', 'su', '##pine', 'weight', 'bearing', 'radio', '##graphs', 'used', 'define', 'angular', 'motion', 'compression', 'ratio', 'anterior', 've', '##rte', '##bra', '##l', 'body', 'wall', 'result', 'total', 'female', 'male', 'completed', 'month', 'follow', 'follow', 'rate', 'study', 'revealed', 'cases', 'delayed', 'union', 'health', '##ier', 'adjacent', 'ca', '##uda', '##l', 'disc', 'low', 'grade', 'de', '##gen', '##eration', 'found', 'associated', 'increased', 'risk', 'delayed', 'union', 'p', 'bi', 'end', '##plate', 'injury', 'significant', 'compression', 'anterior', 've', '##rte', '##bra', '##l', 'body', 'wall', 'significantly', 'associated', 'delayed', 'union', 'p', 'p', 'respectively', 'rapid', 'progression', 'adjacent', 'cr', '##anial', 'disc', 'de', '##gen', '##eration', 'observed', 'end', 'month', 'follow', 'period', 'p', 'conclusion', 'modified', 'p', '##fi', '##rr', '##mann', 'grading', 'system', 'revealed', 'health', '##ier', 'adjacent', 'inter', '##vert', '##eb', '##ral', 'disc', 'ca', '##uda', '##l', 'level', 'bi', 'end', '##plate', 'fracture', 'significantly', 'associated', 'increased', 'risk', 'delayed', 'union', 'findings', 'may', 'influence', 'management', 'strategy', 'o', '##v', '##f', 'copyright']\n",
            "Bert token length :  269\n",
            "\n",
            "\n",
            "words which are in whitespace token but not in bert token:  ['intervertebral', 'ovf', 'cohort', 'caudal', 'degeneration', 'radiographs', 'healthier', 'vertebral', 'supine', 'multicenter', 'osteoporotic', 'pfirrmann', 'endplate', 'cranial']\n",
            "\n",
            "\n",
            "words which are in bert token but not in whitespace token:  ['##eb', '##rr', '##anial', '##rte', '##bra', '##cent', 'ca', '##op', 'multi', 'su', '##f', '##plate', '##eration', '##oro', '##mann', 'radio', '##gen', '##er', '##ier', '##v', '##pine', 'de', 'os', '##uda', '##l', 'o', '##vert', 've', '##tic', '##fi', '##te', '##ral', 'cr', '##graphs', 'inter', 'co', 'health', '##hort']\n"
          ]
        }
      ]
    },
    {
      "cell_type": "markdown",
      "source": [
        "**Word Embedding models**"
      ],
      "metadata": {
        "id": "Lrc0xCX8pZNp"
      }
    },
    {
      "cell_type": "markdown",
      "source": [
        "Word2Vec"
      ],
      "metadata": {
        "id": "1ybkP7XlqGic"
      }
    },
    {
      "cell_type": "code",
      "source": [
        "start = time.time()\n",
        "model_w = gensim.models.Word2Vec(x_tokenized,size=100)\n",
        "model_b = gensim.models.Word2Vec(x_tokenized_bert,size=100)\n",
        "end = round(time.time()-start,2)\n",
        "print(\"This process took\",end,\"seconds.\")"
      ],
      "metadata": {
        "colab": {
          "base_uri": "https://localhost:8080/"
        },
        "id": "L2EqLU5mp5Bb",
        "outputId": "b0b2a99c-0e17-4ca1-c4b1-c24d7d379d25"
      },
      "execution_count": null,
      "outputs": [
        {
          "output_type": "stream",
          "name": "stdout",
          "text": [
            "This process took 13.68 seconds.\n"
          ]
        }
      ]
    },
    {
      "cell_type": "markdown",
      "source": [
        "TF-IDF"
      ],
      "metadata": {
        "id": "UUvbsZIIrZ_h"
      }
    },
    {
      "cell_type": "code",
      "source": [
        "start = time.time()\n",
        "\n",
        "# word level tf-idf\n",
        "tfidf_vect = TfidfVectorizer(analyzer='word', token_pattern=r'\\w{1,}', max_features=10000)\n",
        "tfidf_vect.fit(articles['titleabstract'])\n",
        "\n",
        "# ngram level tf-idf \n",
        "\n",
        "tfidf_vect_ngram = TfidfVectorizer(analyzer='word', token_pattern=r'\\w{1,}', ngram_range=(2,3), max_features=10000)\n",
        "tfidf_vect_ngram.fit(articles['titleabstract'])\n",
        "\n",
        "# characters level tf-idf\n",
        "\n",
        "tfidf_vect_ngram_chars = TfidfVectorizer(analyzer='char',  ngram_range=(2,3), max_features=10000) #token_pattern=r'\\w{1,}',\n",
        "tfidf_vect_ngram_chars.fit(articles['titleabstract'])\n",
        "\n",
        "end = round(time.time()-start,2)\n",
        "print(\"This process took\",end,\"seconds.\")"
      ],
      "metadata": {
        "colab": {
          "base_uri": "https://localhost:8080/"
        },
        "id": "6hnyIButrAZm",
        "outputId": "f2b828b1-b541-4a8f-e4ca-1f44e908266e"
      },
      "execution_count": null,
      "outputs": [
        {
          "output_type": "stream",
          "name": "stdout",
          "text": [
            "This process took 9.25 seconds.\n"
          ]
        }
      ]
    },
    {
      "cell_type": "markdown",
      "source": [
        "One-Hot encoding (CountVectorizing)"
      ],
      "metadata": {
        "id": "uSs-2ehpvTex"
      }
    },
    {
      "cell_type": "code",
      "source": [
        "start = time.time()\n",
        "\n",
        "count_vect = CountVectorizer(analyzer='word', token_pattern=r'\\w{1,}')\n",
        "count_vect.fit(articles['titleabstract'])\n",
        "\n",
        "end = round(time.time()-start,2)\n",
        "print(\"This process took\",end,\"seconds.\")"
      ],
      "metadata": {
        "colab": {
          "base_uri": "https://localhost:8080/"
        },
        "id": "ww6dy1kbsmwa",
        "outputId": "fcc421f4-21dc-442f-f3f0-723f765d7677"
      },
      "execution_count": null,
      "outputs": [
        {
          "output_type": "stream",
          "name": "stdout",
          "text": [
            "This process took 0.43 seconds.\n"
          ]
        }
      ]
    },
    {
      "cell_type": "markdown",
      "source": [
        "A class to convert words to create word embedding sequences"
      ],
      "metadata": {
        "id": "2051NVqEv7TB"
      }
    },
    {
      "cell_type": "code",
      "source": [
        "class Sequencer():\n",
        "    \n",
        "    def __init__(self,\n",
        "                 all_words,\n",
        "                 max_words,\n",
        "                 seq_len,\n",
        "                 embedding_matrix\n",
        "                ):\n",
        "        \n",
        "        self.seq_len = seq_len\n",
        "        self.embed_matrix = embedding_matrix\n",
        "    \n",
        "        temp_vocab = list(set(all_words))\n",
        "        self.vocab = []\n",
        "        self.word_cnts = {}\n",
        "      \n",
        "        for word in temp_vocab:\n",
        "            count = len([0 for w in all_words if w == word])\n",
        "            self.word_cnts[word] = count\n",
        "            counts = list(self.word_cnts.values())\n",
        "            indexes = list(range(len(counts)))\n",
        "        \n",
        "        cnt = 0\n",
        "        while cnt + 1 != len(counts):\n",
        "            cnt = 0\n",
        "            for i in range(len(counts)-1):\n",
        "                if counts[i] < counts[i+1]:\n",
        "                    counts[i+1],counts[i] = counts[i],counts[i+1]\n",
        "                    indexes[i],indexes[i+1] = indexes[i+1],indexes[i]\n",
        "                else:\n",
        "                    cnt += 1\n",
        "        \n",
        "        for ind in indexes[:max_words]:\n",
        "            self.vocab.append(temp_vocab[ind])\n",
        "                    \n",
        "    def textToVector(self,text):\n",
        "        tokens = text.split()\n",
        "        len_v = len(tokens)-1 if len(tokens) < self.seq_len else self.seq_len-1\n",
        "        vec = []\n",
        "        for tok in tokens[:len_v]:\n",
        "            try:\n",
        "                vec.append(self.embed_matrix[tok])\n",
        "            except Exception as E:\n",
        "                pass\n",
        "        \n",
        "        last_pieces = self.seq_len - len(vec)\n",
        "        for i in range(last_pieces):\n",
        "            vec.append(np.zeros(100,))\n",
        "        \n",
        "        return np.asarray(vec).flatten()"
      ],
      "metadata": {
        "id": "_0grtboJv4pH"
      },
      "execution_count": null,
      "outputs": []
    },
    {
      "cell_type": "markdown",
      "source": [
        "**Word Embeddings**"
      ],
      "metadata": {
        "id": "8ewK7VDzwwHy"
      }
    },
    {
      "cell_type": "code",
      "source": [
        "sequencer = Sequencer(all_words = [token for seq in x_tokenized for token in seq],\n",
        "              max_words = 1200,\n",
        "              seq_len = 15,\n",
        "              embedding_matrix = model_w.wv\n",
        "             )\n",
        "\n",
        "x_vecs_w = np.asarray([sequencer.textToVector(\" \".join(seq)) for seq in x_tokenized])\n",
        "\n",
        "print(\"shape of vectors\",x_vecs_w.shape)"
      ],
      "metadata": {
        "colab": {
          "base_uri": "https://localhost:8080/"
        },
        "id": "pZscXeCWwu0x",
        "outputId": "3fe85d62-588c-484e-f503-a55516fba2c1"
      },
      "execution_count": null,
      "outputs": [
        {
          "output_type": "stream",
          "name": "stdout",
          "text": [
            "shape of vectors (3630, 1500)\n"
          ]
        }
      ]
    },
    {
      "cell_type": "code",
      "source": [
        "sequencer_bert = Sequencer(all_words = [token for seq in x_tokenized_bert for token in seq],\n",
        "              max_words = 1200,\n",
        "              seq_len = 15,\n",
        "              embedding_matrix = model_b.wv\n",
        "             )\n",
        "\n",
        "x_vecs_b = np.asarray([sequencer_bert.textToVector(\" \".join(seq)) for seq in x_tokenized_bert])\n",
        "\n",
        "print(\"shape of vectors\",x_vecs_b.shape)"
      ],
      "metadata": {
        "colab": {
          "base_uri": "https://localhost:8080/"
        },
        "id": "q0y0p99aOsQi",
        "outputId": "bf4c627a-93d4-4f6d-a4a7-7abe2124bd38"
      },
      "execution_count": null,
      "outputs": [
        {
          "output_type": "stream",
          "name": "stdout",
          "text": [
            "shape of vectors (3630, 1500)\n"
          ]
        }
      ]
    },
    {
      "cell_type": "markdown",
      "source": [
        "**PCA**"
      ],
      "metadata": {
        "id": "7IFmJjG-A_8e"
      }
    },
    {
      "cell_type": "code",
      "source": [
        "pca_model = PCA(n_components=50)\n",
        "pca_model.fit(x_vecs_w)\n",
        "print(\"Sum of variance ratios: \",sum(pca_model.explained_variance_ratio_))\n",
        "\n",
        "x_comps_w = pca_model.transform(x_vecs_w)\n",
        "x_comps_w.shape"
      ],
      "metadata": {
        "colab": {
          "base_uri": "https://localhost:8080/"
        },
        "id": "AtAXTN0mBGKD",
        "outputId": "763fd924-8a22-4302-8150-6b54079907e2"
      },
      "execution_count": null,
      "outputs": [
        {
          "output_type": "stream",
          "name": "stdout",
          "text": [
            "Sum of variance ratios:  0.5644879110637361\n"
          ]
        },
        {
          "output_type": "execute_result",
          "data": {
            "text/plain": [
              "(3630, 50)"
            ]
          },
          "metadata": {},
          "execution_count": 14
        }
      ]
    },
    {
      "cell_type": "code",
      "source": [
        "pca_model_b = PCA(n_components=50)\n",
        "pca_model_b.fit(x_vecs_b)\n",
        "print(\"Sum of variance ratios: \",sum(pca_model_b.explained_variance_ratio_))\n",
        "\n",
        "x_comps_b = pca_model_b.transform(x_vecs_b)\n",
        "x_comps_b.shape\n"
      ],
      "metadata": {
        "colab": {
          "base_uri": "https://localhost:8080/"
        },
        "id": "GRqpiqNGRcho",
        "outputId": "42c931b3-6286-4ce3-9e4e-44236b1e6626"
      },
      "execution_count": null,
      "outputs": [
        {
          "output_type": "stream",
          "name": "stdout",
          "text": [
            "Sum of variance ratios:  0.40713322951142145\n"
          ]
        },
        {
          "output_type": "execute_result",
          "data": {
            "text/plain": [
              "(3630, 50)"
            ]
          },
          "metadata": {},
          "execution_count": 54
        }
      ]
    },
    {
      "cell_type": "markdown",
      "source": [
        "**Machine Learning**"
      ],
      "metadata": {
        "id": "4Ix7WQ-t_9Fd"
      }
    },
    {
      "cell_type": "code",
      "source": [
        "X_train, X_test, Y_train, Y_test = train_test_split(x_comps_w,y, test_size = 0.20, random_state = 2021)\n",
        "\n",
        "print(\"X_train shape\",X_train.shape)\n",
        "print(\"X_test shape\",X_test.shape)\n",
        "print(\"Y_train shape\",Y_train.shape)\n",
        "print(\"Y_test shape\",Y_test.shape)"
      ],
      "metadata": {
        "colab": {
          "base_uri": "https://localhost:8080/"
        },
        "id": "mlxSP16kAOMF",
        "outputId": "a97ea51f-909c-4b3c-cbd8-5aa2af66a21f"
      },
      "execution_count": null,
      "outputs": [
        {
          "output_type": "stream",
          "name": "stdout",
          "text": [
            "X_train shape (2904, 50)\n",
            "X_test shape (726, 50)\n",
            "Y_train shape (2904,)\n",
            "Y_test shape (726,)\n"
          ]
        }
      ]
    },
    {
      "cell_type": "code",
      "source": [
        "X_train_bert, X_test_bert, Y_train_bert, Y_test_bert = train_test_split(x_comps_b,y, test_size = 0.20, random_state = 2021)\n",
        "\n",
        "print(\"X_train shape\",X_train_bert.shape)\n",
        "print(\"X_test shape\",X_test_bert.shape)\n",
        "print(\"Y_train shape\",Y_train_bert.shape)\n",
        "print(\"Y_test shape\",Y_test_bert.shape)"
      ],
      "metadata": {
        "colab": {
          "base_uri": "https://localhost:8080/"
        },
        "id": "gNqRBWZBRz3c",
        "outputId": "27db5ca3-d439-4d0c-bd34-67b9ba74a7d3"
      },
      "execution_count": null,
      "outputs": [
        {
          "output_type": "stream",
          "name": "stdout",
          "text": [
            "X_train shape (2904, 50)\n",
            "X_test shape (726, 50)\n",
            "Y_train shape (2904,)\n",
            "Y_test shape (726,)\n"
          ]
        }
      ]
    },
    {
      "cell_type": "code",
      "source": [
        "X_train_for_tfidf, X_test_for_tfidf, Y_train_tfidf, Y_test_tfidf = train_test_split(articles['titleabstract'],y, test_size = 0.20, random_state = 2021)\n",
        "\n",
        "X_train_tfidf_word =  tfidf_vect.transform(X_train_for_tfidf.values)\n",
        "X_test_tfidf_word =  tfidf_vect.transform(X_test_for_tfidf.values)\n",
        "\n",
        "X_train_tfidf_ngram =  tfidf_vect_ngram.transform(X_train_for_tfidf.values)\n",
        "X_test_tfidf_ngram =  tfidf_vect_ngram.transform(X_test_for_tfidf.values)\n",
        "\n",
        "X_train_tfidf_ngram_chars =  tfidf_vect_ngram_chars.transform(X_train_for_tfidf.values)\n",
        "X_test_tfidf_ngram_chars =  tfidf_vect_ngram_chars.transform(X_test_for_tfidf.values)\n",
        "\n",
        "\n",
        "\n",
        "\n",
        "\n",
        "print(\"X_train_tfidf_word shape\",X_train_tfidf_word.shape)\n",
        "print(\"X_test_tfidf_word shape\",X_test_tfidf_word.shape)\n",
        "print(\"X_train_tfidf_ngram shape\",X_train_tfidf_ngram.shape)\n",
        "print(\"X_test_tfidf_ngram shape\",X_test_tfidf_ngram.shape)\n",
        "print(\"X_train_tfidf_ngram_chars shape\",X_train_tfidf_ngram_chars.shape)\n",
        "print(\"X_test_tfidf_ngram_chars shape\",X_test_tfidf_ngram_chars.shape)\n",
        "\n",
        "\n",
        "print(\"Y_train shape\",Y_train_tfidf.shape)\n",
        "print(\"Y_test shape\",Y_test_tfidf.shape)"
      ],
      "metadata": {
        "colab": {
          "base_uri": "https://localhost:8080/"
        },
        "id": "wz-QteOzeSx9",
        "outputId": "1b125380-ed07-4399-cd00-37f7c57ec72c"
      },
      "execution_count": null,
      "outputs": [
        {
          "output_type": "stream",
          "name": "stdout",
          "text": [
            "X_train_tfidf_word shape (2904, 10000)\n",
            "X_test_tfidf_word shape (726, 10000)\n",
            "X_train_tfidf_ngram shape (2904, 10000)\n",
            "X_test_tfidf_ngram shape (726, 10000)\n",
            "X_train_tfidf_ngram_chars shape (2904, 9691)\n",
            "X_test_tfidf_ngram_chars shape (726, 9691)\n",
            "Y_train shape (2904,)\n",
            "Y_test shape (726,)\n"
          ]
        }
      ]
    },
    {
      "cell_type": "code",
      "source": [
        "X_train_count =  count_vect.transform(X_train_for_tfidf)\n",
        "X_test_count =  count_vect.transform(X_test_for_tfidf)\n",
        "\n",
        "\n",
        "print(\"X_train_count shape\",X_train_count.shape)\n",
        "print(\"X_test_count shape\",X_test_count.shape)"
      ],
      "metadata": {
        "colab": {
          "base_uri": "https://localhost:8080/"
        },
        "id": "yRIJRdXVv0Yp",
        "outputId": "67132870-4a5f-43d0-a093-bcdbcc04fed1"
      },
      "execution_count": null,
      "outputs": [
        {
          "output_type": "stream",
          "name": "stdout",
          "text": [
            "X_train_count shape (2904, 25329)\n",
            "X_test_count shape (726, 25329)\n"
          ]
        }
      ]
    },
    {
      "cell_type": "code",
      "source": [
        "# SVM\n",
        "svm_classifier = SVC()\n",
        "svm_classifier.fit(X_train,Y_train)"
      ],
      "metadata": {
        "colab": {
          "base_uri": "https://localhost:8080/"
        },
        "id": "Oa876KoBDwLk",
        "outputId": "a954133d-b3a3-478f-d5f1-3c328b5366be"
      },
      "execution_count": null,
      "outputs": [
        {
          "output_type": "execute_result",
          "data": {
            "text/plain": [
              "SVC()"
            ]
          },
          "metadata": {},
          "execution_count": 40
        }
      ]
    },
    {
      "cell_type": "markdown",
      "source": [
        "**Classes Weight and best estimator**"
      ],
      "metadata": {
        "id": "GMYTnkKM_R1O"
      }
    },
    {
      "cell_type": "code",
      "source": [
        "# class weight SVM\n",
        "\n",
        "#Setting the range for class weights\n",
        "weights = np.linspace(0.0,0.99,200)\n",
        "\n",
        "#Creating a dictionary grid for grid search\n",
        "param_grid = {'class_weight': [{0:x, 1:1.0-x} for x in weights]}\n",
        "\n",
        "#Fitting grid search to the train data with 5 folds\n",
        "gridsearch = GridSearchCV(estimator= svm_classifier, \n",
        "                          param_grid= param_grid,\n",
        "                          cv=StratifiedKFold(), \n",
        "                          n_jobs=-1, \n",
        "                          scoring='f1', \n",
        "                          verbose=2).fit(X_train, Y_train)\n",
        "\n",
        "#Ploting the score for different values of weight\n",
        "sns.set_style('whitegrid')\n",
        "plt.figure(figsize=(12,8))\n",
        "weigh_data = pd.DataFrame({ 'score': gridsearch.cv_results_['mean_test_score'], 'weight': (1- weights)})\n",
        "sns.lineplot(weigh_data['weight'], weigh_data['score'])\n",
        "plt.xlabel('Weight for class 1')\n",
        "plt.ylabel('F1 score')\n",
        "plt.xticks([round(i/10,1) for i in range(0,11,1)])\n",
        "plt.title('Scoring for different class weights', fontsize=24)"
      ],
      "metadata": {
        "colab": {
          "base_uri": "https://localhost:8080/",
          "height": 615
        },
        "id": "UiLnNQpn_f57",
        "outputId": "44ef44b0-971e-4bb5-cded-5e5cacb0566e"
      },
      "execution_count": null,
      "outputs": [
        {
          "output_type": "stream",
          "name": "stdout",
          "text": [
            "Fitting 5 folds for each of 200 candidates, totalling 1000 fits\n"
          ]
        },
        {
          "output_type": "stream",
          "name": "stderr",
          "text": [
            "/usr/local/lib/python3.7/dist-packages/seaborn/_decorators.py:43: FutureWarning: Pass the following variables as keyword args: x, y. From version 0.12, the only valid positional argument will be `data`, and passing other arguments without an explicit keyword will result in an error or misinterpretation.\n",
            "  FutureWarning\n"
          ]
        },
        {
          "output_type": "execute_result",
          "data": {
            "text/plain": [
              "Text(0.5, 1.0, 'Scoring for different class weights')"
            ]
          },
          "metadata": {},
          "execution_count": 41
        },
        {
          "output_type": "display_data",
          "data": {
            "text/plain": [
              "<Figure size 864x576 with 1 Axes>"
            ],
            "image/png": "[encoded data removed]"
          },
          "metadata": {}
        }
      ]
    },
    {
      "cell_type": "code",
      "source": [
        "m_best = gridsearch.best_estimator_\n",
        "print(\"best estimator: \",m_best)"
      ],
      "metadata": {
        "colab": {
          "base_uri": "https://localhost:8080/"
        },
        "id": "3qDEE4BjEw6m",
        "outputId": "6c6fead3-5833-4992-e058-8e6036277399"
      },
      "execution_count": null,
      "outputs": [
        {
          "output_type": "stream",
          "name": "stdout",
          "text": [
            "best estimator:  SVC(class_weight={0: 0.10944723618090453, 1: 0.8905527638190954})\n"
          ]
        }
      ]
    },
    {
      "cell_type": "markdown",
      "source": [
        "**Results**"
      ],
      "metadata": {
        "id": "TZnG_XBIFFrY"
      }
    },
    {
      "cell_type": "markdown",
      "source": [
        " **SVM**"
      ],
      "metadata": {
        "id": "TtlewCniFq2z"
      }
    },
    {
      "cell_type": "markdown",
      "source": [
        "whitespace tokenization with svm results"
      ],
      "metadata": {
        "id": "b5Lllwg_ydkZ"
      }
    },
    {
      "cell_type": "code",
      "source": [
        "svm_classifier_w = SVC(kernel='linear',class_weight={0: 0.10944723618090453, 1: 0.8905527638190954},probability=True)\n",
        "svm_classifier_w.fit(X_train, Y_train)            \n",
        "\n",
        "# Predicting on the test data\n",
        "pred_test = svm_classifier_w.predict(X_test)\n",
        "\n",
        "prob_y_roc = svm_classifier_w.predict_proba(X_test)\n",
        "prob_y_roc = [p[1] for p in prob_y_roc]\n",
        "\n",
        "print('Precision: %.3f' % precision_score(Y_test, pred_test))\n",
        "print('Recall: %.3f' % recall_score(Y_test, pred_test))\n",
        "print('Accuracy: %.3f' % accuracy_score(Y_test, pred_test))\n",
        "print('F1 Score: %.3f' % f1_score(Y_test, pred_test))\n",
        "print('roc_auc Score: %.3f' % metrics.roc_auc_score(Y_test, prob_y_roc))\n",
        "print('cohen kappa score: %.3f' % cohen_kappa_score(Y_test, pred_test))\n",
        "print('wss95: %.3f' % wss95(Y_test, pred_test))"
      ],
      "metadata": {
        "colab": {
          "base_uri": "https://localhost:8080/"
        },
        "id": "iv4usGoqFiaS",
        "outputId": "16c77eb5-b9cb-447a-bddf-5708bee5e37c"
      },
      "execution_count": null,
      "outputs": [
        {
          "output_type": "stream",
          "name": "stdout",
          "text": [
            "Precision: 0.234\n",
            "Recall: 0.510\n",
            "Accuracy: 0.854\n",
            "F1 Score: 0.321\n",
            "roc_auc Score: 0.804\n",
            "cohen kappa score: 0.251\n",
            "wss95: 0.803\n"
          ]
        }
      ]
    },
    {
      "cell_type": "code",
      "source": [
        "svm_classifier_w = SVC(kernel='linear',class_weight=\"balanced\",probability=True)\n",
        "svm_classifier_w.fit(X_train, Y_train)            \n",
        "\n",
        "# Predicting on the test data\n",
        "pred_test = svm_classifier_w.predict(X_test)\n",
        "\n",
        "prob_y_roc = svm_classifier_w.predict_proba(X_test)\n",
        "prob_y_roc = [p[1] for p in prob_y_roc]\n",
        "\n",
        "print('Precision: %.3f' % precision_score(Y_test, pred_test))\n",
        "print('Recall: %.3f' % recall_score(Y_test, pred_test))\n",
        "print('Accuracy: %.3f' % accuracy_score(Y_test, pred_test))\n",
        "print('F1 Score: %.3f' % f1_score(Y_test, pred_test))\n",
        "print('roc_auc Score: %.3f' % metrics.roc_auc_score(Y_test, prob_y_roc))\n",
        "print('cohen kappa score: %.3f' % cohen_kappa_score(Y_test, pred_test))\n",
        "print('wss95: %.3f' % wss95(Y_test, pred_test))"
      ],
      "metadata": {
        "colab": {
          "base_uri": "https://localhost:8080/"
        },
        "id": "ANGnxQgfLZz_",
        "outputId": "c58fa4d3-2714-425c-fbcb-8cc523f89b6b"
      },
      "execution_count": null,
      "outputs": [
        {
          "output_type": "stream",
          "name": "stdout",
          "text": [
            "Precision: 0.179\n",
            "Recall: 0.633\n",
            "Accuracy: 0.780\n",
            "F1 Score: 0.279\n",
            "roc_auc Score: 0.813\n",
            "cohen kappa score: 0.195\n",
            "wss95: 0.712\n"
          ]
        }
      ]
    },
    {
      "cell_type": "markdown",
      "source": [
        "Bert tokenization with svm results"
      ],
      "metadata": {
        "id": "ubyV0HGlyihe"
      }
    },
    {
      "cell_type": "code",
      "source": [
        "svm_classifier_b = SVC(kernel='linear',class_weight={0: 0.10944723618090453, 1: 0.8905527638190954},probability=True)\n",
        "svm_classifier_b.fit(X_train_bert, Y_train_bert)            \n",
        "\n",
        "# Predicting on the test data\n",
        "pred_test_bert = svm_classifier_b.predict(X_test_bert)\n",
        "\n",
        "prob_y_roc = svm_classifier_b.predict_proba(X_test_bert)\n",
        "prob_y_roc = [p[1] for p in prob_y_roc]\n",
        "\n",
        "print('Precision: %.3f' % precision_score(Y_test_bert, pred_test_bert))\n",
        "print('Recall: %.3f' % recall_score(Y_test_bert, pred_test_bert))\n",
        "print('Accuracy: %.3f' % accuracy_score(Y_test_bert, pred_test_bert))\n",
        "print('F1 Score: %.3f' % f1_score(Y_test_bert, pred_test_bert))\n",
        "print('roc_auc Score: %.3f' % metrics.roc_auc_score(Y_test_bert, prob_y_roc))\n",
        "print('cohen kappa score: %.3f' % cohen_kappa_score(Y_test_bert, pred_test_bert))\n",
        "print('wss95: %.3f' % wss95(Y_test_bert, pred_test_bert))"
      ],
      "metadata": {
        "colab": {
          "base_uri": "https://localhost:8080/"
        },
        "id": "KUpzdBYjSIky",
        "outputId": "3f48125e-b63c-4031-8f07-3ac1265c584c"
      },
      "execution_count": null,
      "outputs": [
        {
          "output_type": "stream",
          "name": "stdout",
          "text": [
            "Precision: 0.179\n",
            "Recall: 0.388\n",
            "Accuracy: 0.839\n",
            "F1 Score: 0.245\n",
            "roc_auc Score: 0.733\n",
            "cohen kappa score: 0.168\n",
            "wss95: 0.804\n"
          ]
        }
      ]
    },
    {
      "cell_type": "code",
      "source": [
        "svm_classifier_b = SVC(kernel='linear',class_weight=\"balanced\",probability=True)\n",
        "svm_classifier_b.fit(X_train_bert, Y_train_bert)            \n",
        "\n",
        "# Predicting on the test data\n",
        "pred_test_bert = svm_classifier_b.predict(X_test_bert)\n",
        "\n",
        "prob_y_roc = svm_classifier_b.predict_proba(X_test_bert)\n",
        "prob_y_roc = [p[1] for p in prob_y_roc]\n",
        "\n",
        "print('Precision: %.3f' % precision_score(Y_test_bert, pred_test_bert))\n",
        "print('Recall: %.3f' % recall_score(Y_test_bert, pred_test_bert))\n",
        "print('Accuracy: %.3f' % accuracy_score(Y_test_bert, pred_test_bert))\n",
        "print('F1 Score: %.3f' % f1_score(Y_test_bert, pred_test_bert))\n",
        "print('roc_auc Score: %.3f' % metrics.roc_auc_score(Y_test_bert, prob_y_roc))\n",
        "print('cohen kappa score: %.3f' % cohen_kappa_score(Y_test_bert, pred_test_bert))\n",
        "print('wss95: %.3f' % wss95(Y_test_bert, pred_test_bert))"
      ],
      "metadata": {
        "colab": {
          "base_uri": "https://localhost:8080/"
        },
        "id": "CxdQ8LkjTewn",
        "outputId": "efdeb112-d36c-4a69-979b-2b987e6db296"
      },
      "execution_count": null,
      "outputs": [
        {
          "output_type": "stream",
          "name": "stdout",
          "text": [
            "Precision: 0.117\n",
            "Recall: 0.531\n",
            "Accuracy: 0.698\n",
            "F1 Score: 0.192\n",
            "roc_auc Score: 0.711\n",
            "cohen kappa score: 0.091\n",
            "wss95: 0.644\n"
          ]
        }
      ]
    },
    {
      "cell_type": "markdown",
      "source": [
        "TF-IDF results"
      ],
      "metadata": {
        "id": "vE15hNTgiMSk"
      }
    },
    {
      "cell_type": "code",
      "source": [
        "svm_classifier_tfidf_word = SVC(class_weight='balanced')\n",
        "svm_classifier_tfidf_word.fit(X_train_tfidf_word, Y_train_tfidf)\n",
        "\n",
        "svm_classifier_tfidf_ngram = SVC(class_weight='balanced')\n",
        "svm_classifier_tfidf_ngram.fit(X_train_tfidf_ngram, Y_train_tfidf)\n",
        "\n",
        "svm_classifier_tfidf_ngram_char = SVC(class_weight='balanced')\n",
        "svm_classifier_tfidf_ngram_char.fit(X_train_tfidf_ngram_chars, Y_train_tfidf)\n",
        "\n",
        "\n",
        "pred_svm_tfidf_word = svm_classifier_tfidf_word.predict(X_test_tfidf_word)\n",
        "pred_svm_tfidf_ngram = svm_classifier_tfidf_ngram.predict(X_test_tfidf_ngram)\n",
        "pred_svm_tfidf_ngram_char = svm_classifier_tfidf_ngram_char.predict(X_test_tfidf_ngram_chars)\n",
        "\n",
        "\n",
        "print('Precision word: %.3f' % precision_score(Y_test_tfidf, pred_svm_tfidf_word),'Precision ngram: %.3f' % precision_score(Y_test_tfidf, pred_svm_tfidf_ngram),'Precision ngram chars: %.3f' % precision_score(Y_test_tfidf, pred_svm_tfidf_ngram_char))\n",
        "print('Recall word: %.3f' % recall_score(Y_test_tfidf, pred_svm_tfidf_word),'Recall ngram: %.3f' % recall_score(Y_test_tfidf, pred_svm_tfidf_ngram),'Recall ngram chars: %.3f' % recall_score(Y_test_tfidf, pred_svm_tfidf_ngram_char))\n",
        "print('Accuracy word: %.3f' % accuracy_score(Y_test_tfidf, pred_svm_tfidf_word),'Accuracy ngram: %.3f' % accuracy_score(Y_test_tfidf, pred_svm_tfidf_ngram),'Accuracy ngram chars: %.3f' % accuracy_score(Y_test_tfidf, pred_svm_tfidf_ngram_char))\n",
        "print('F1 Score word: %.3f' % f1_score(Y_test_tfidf, pred_svm_tfidf_word),'F1 Score ngram: %.3f' % f1_score(Y_test_tfidf, pred_svm_tfidf_ngram),'F1 Score ngram chars: %.3f' % f1_score(Y_test_tfidf, pred_svm_tfidf_ngram_char))\n",
        "print('roc_auc Score word: %.3f' % metrics.roc_auc_score(Y_test_tfidf, pred_svm_tfidf_word),'roc_auc Score ngram: %.3f' % metrics.roc_auc_score(Y_test_tfidf, pred_svm_tfidf_ngram),'roc_auc Score ngram chars: %.3f' % metrics.roc_auc_score(Y_test_tfidf, pred_svm_tfidf_ngram_char))\n",
        "print('cohen kappa score word: %.3f' % cohen_kappa_score(Y_test_tfidf, pred_svm_tfidf_word),'cohen kappa score ngram: %.3f' % cohen_kappa_score(Y_test_tfidf, pred_svm_tfidf_ngram),'cohen kappa score ngram chars: %.3f' % cohen_kappa_score(Y_test_tfidf, pred_svm_tfidf_ngram_char))\n",
        "print('wss95 word: %.3f' % wss95(Y_test_tfidf, pred_svm_tfidf_word),'wss95 ngram: %.3f' % wss95(Y_test_tfidf, pred_svm_tfidf_ngram),'wss95 word: %.3f' % wss95(Y_test_tfidf, pred_svm_tfidf_ngram_char))"
      ],
      "metadata": {
        "colab": {
          "base_uri": "https://localhost:8080/"
        },
        "id": "ZSOvgt6liOk-",
        "outputId": "b929c92a-7be2-4ef0-ea21-caebabd1f1bf"
      },
      "execution_count": null,
      "outputs": [
        {
          "output_type": "stream",
          "name": "stdout",
          "text": [
            "Precision word: 0.417 Precision ngram: 0.400 Precision ngram chars: 0.412\n",
            "Recall word: 0.102 Recall ngram: 0.041 Recall ngram chars: 0.286\n",
            "Accuracy word: 0.930 Accuracy ngram: 0.931 Accuracy ngram chars: 0.924\n",
            "F1 Score word: 0.164 F1 Score ngram: 0.074 F1 Score ngram chars: 0.337\n",
            "roc_auc Score word: 0.546 roc_auc Score ngram: 0.518 roc_auc Score ngram chars: 0.628\n",
            "cohen kappa score word: 0.141 cohen kappa score ngram: 0.062 cohen kappa score ngram chars: 0.299\n",
            "wss95 word: 0.933 wss95 ngram: 0.943 wss95 word: 0.903\n"
          ]
        }
      ]
    },
    {
      "cell_type": "markdown",
      "source": [
        "One-Hot encoding (CountVectorizing) results"
      ],
      "metadata": {
        "id": "zlrQJ1rywaq_"
      }
    },
    {
      "cell_type": "code",
      "source": [
        "svm_classifier_count = SVC(class_weight='balanced')\n",
        "svm_classifier_count.fit(X_train_count, Y_train)\n",
        "\n",
        "pred_svm_count = svm_classifier_count.predict(X_test_count)\n",
        "\n",
        "print('Precision: %.3f' % precision_score(Y_test, pred_svm_count))\n",
        "print('Recall: %.3f' % recall_score(Y_test, pred_svm_count))\n",
        "print('Accuracy: %.3f' % accuracy_score(Y_test, pred_svm_count))\n",
        "print('F1 Score: %.3f' % f1_score(Y_test, pred_svm_count))\n",
        "print('roc_auc Score: %.3f' % metrics.roc_auc_score(Y_test, pred_svm_count))\n",
        "print('cohen kappa score: %.3f' % cohen_kappa_score(Y_test, pred_svm_count))\n",
        "print('wss95: %.3f' % wss95(Y_test, pred_svm_count))"
      ],
      "metadata": {
        "colab": {
          "base_uri": "https://localhost:8080/"
        },
        "id": "Ks_p52aMwh5J",
        "outputId": "a899fe21-7244-42bc-d768-8f4d796dcc7a"
      },
      "execution_count": null,
      "outputs": [
        {
          "output_type": "stream",
          "name": "stdout",
          "text": [
            "Precision: 0.387\n",
            "Recall: 0.245\n",
            "Accuracy: 0.923\n",
            "F1 Score: 0.300\n",
            "roc_auc Score: 0.608\n",
            "cohen kappa score: 0.261\n",
            "wss95: 0.907\n"
          ]
        }
      ]
    },
    {
      "cell_type": "markdown",
      "source": [
        "**Random Forest**"
      ],
      "metadata": {
        "id": "frTk_y3VL1_S"
      }
    },
    {
      "cell_type": "code",
      "source": [
        "rfc_w = RandomForestClassifier(class_weight=\"balanced\")\n",
        "rfc_w.fit(X_train,Y_train)\n",
        "\n",
        "pred_test_rfc = rfc_w.predict(X_test)\n",
        "\n",
        "prob_y_rfc_roc = rfc_w.predict_proba(X_test)\n",
        "prob_y_rfc_roc = [p[1] for p in prob_y_rfc_roc]\n",
        "\n",
        "print('Precision: %.3f' % precision_score(Y_test, pred_test_rfc))\n",
        "print('Recall: %.3f' % recall_score(Y_test, pred_test_rfc))\n",
        "print('Accuracy: %.3f' % accuracy_score(Y_test, pred_test_rfc))\n",
        "print('F1 Score: %.3f' % f1_score(Y_test, pred_test_rfc))\n",
        "print('roc_auc Score: %.3f' % metrics.roc_auc_score(Y_test, prob_y_rfc_roc))\n",
        "print('cohen kappa score: %.3f' % cohen_kappa_score(Y_test, pred_test_rfc))\n",
        "print('wss95: %.3f' % wss95(Y_test, pred_test_rfc))"
      ],
      "metadata": {
        "colab": {
          "base_uri": "https://localhost:8080/"
        },
        "id": "YMKTrUirL0P0",
        "outputId": "971c59b2-a36a-464f-fa78-1922f91b127b"
      },
      "execution_count": null,
      "outputs": [
        {
          "output_type": "stream",
          "name": "stdout",
          "text": [
            "Precision: 0.000\n",
            "Recall: 0.000\n",
            "Accuracy: 0.933\n",
            "F1 Score: 0.000\n",
            "roc_auc Score: 0.804\n",
            "cohen kappa score: 0.000\n",
            "wss95: 0.950\n"
          ]
        },
        {
          "output_type": "stream",
          "name": "stderr",
          "text": [
            "/usr/local/lib/python3.7/dist-packages/sklearn/metrics/_classification.py:1318: UndefinedMetricWarning: Precision is ill-defined and being set to 0.0 due to no predicted samples. Use `zero_division` parameter to control this behavior.\n",
            "  _warn_prf(average, modifier, msg_start, len(result))\n"
          ]
        }
      ]
    },
    {
      "cell_type": "code",
      "source": [
        "rfc_b = RandomForestClassifier(class_weight=\"balanced\")\n",
        "rfc_b.fit(X_train_bert,Y_train_bert)\n",
        "\n",
        "pred_test_rfc = rfc_b.predict(X_test_bert)\n",
        "\n",
        "prob_y_rfc_roc = rfc_b.predict_proba(X_test_bert)\n",
        "prob_y_rfc_roc = [p[1] for p in prob_y_rfc_roc]\n",
        "\n",
        "print('Precision: %.3f' % precision_score(Y_test_bert, pred_test_rfc))\n",
        "print('Recall: %.3f' % recall_score(Y_test_bert, pred_test_rfc))\n",
        "print('Accuracy: %.3f' % accuracy_score(Y_test_bert, pred_test_rfc))\n",
        "print('F1 Score: %.3f' % f1_score(Y_test_bert, pred_test_rfc))\n",
        "print('roc_auc Score: %.3f' % metrics.roc_auc_score(Y_test_bert, prob_y_rfc_roc))\n",
        "print('cohen kappa score: %.3f' % cohen_kappa_score(Y_test_bert, pred_test_rfc))\n",
        "print('wss95: %.3f' % wss95(Y_test_bert, pred_test_rfc))"
      ],
      "metadata": {
        "colab": {
          "base_uri": "https://localhost:8080/"
        },
        "id": "j2FjtXiuUfEj",
        "outputId": "0c0ce6db-a1e6-4b58-81c6-7b2e026b7210"
      },
      "execution_count": null,
      "outputs": [
        {
          "output_type": "stream",
          "name": "stdout",
          "text": [
            "Precision: 0.000\n",
            "Recall: 0.000\n",
            "Accuracy: 0.933\n",
            "F1 Score: 0.000\n",
            "roc_auc Score: 0.711\n",
            "cohen kappa score: 0.000\n",
            "wss95: 0.950\n"
          ]
        },
        {
          "output_type": "stream",
          "name": "stderr",
          "text": [
            "/usr/local/lib/python3.7/dist-packages/sklearn/metrics/_classification.py:1318: UndefinedMetricWarning: Precision is ill-defined and being set to 0.0 due to no predicted samples. Use `zero_division` parameter to control this behavior.\n",
            "  _warn_prf(average, modifier, msg_start, len(result))\n"
          ]
        }
      ]
    },
    {
      "cell_type": "markdown",
      "source": [
        "**XGB**"
      ],
      "metadata": {
        "id": "5WINAZHaMda_"
      }
    },
    {
      "cell_type": "code",
      "source": [
        "XGB_w = XGBClassifier(class_weight=\"balanced\")\n",
        "XGB_w.fit(X_train, Y_train)\n",
        "\n",
        "pred_w_xgb = XGB_w.predict(X_test)\n",
        "\n",
        "prob_y_xgb_roc = XGB_w.predict_proba(X_test)\n",
        "prob_y_xgb_roc = [p[1] for p in prob_y_xgb_roc]\n",
        "\n",
        "print('Precision: %.3f' % precision_score(Y_test, pred_w_xgb))\n",
        "print('Recall: %.3f' % recall_score(Y_test, pred_w_xgb))\n",
        "print('Accuracy: %.3f' % accuracy_score(Y_test, pred_w_xgb))\n",
        "print('F1 Score: %.3f' % f1_score(Y_test, pred_w_xgb))\n",
        "print('roc_auc Score: %.3f' % metrics.roc_auc_score(Y_test, prob_y_xgb_roc))\n",
        "print('cohen kappa score: %.3f' % cohen_kappa_score(Y_test, pred_w_xgb))\n",
        "print('wss95: %.3f' % wss95(Y_test, pred_w_xgb))"
      ],
      "metadata": {
        "colab": {
          "base_uri": "https://localhost:8080/"
        },
        "id": "vzIIKiU5MQsM",
        "outputId": "837b7790-c514-4747-8ffd-7526bfe88666"
      },
      "execution_count": null,
      "outputs": [
        {
          "output_type": "stream",
          "name": "stdout",
          "text": [
            "Precision: 0.250\n",
            "Recall: 0.020\n",
            "Accuracy: 0.930\n",
            "F1 Score: 0.038\n",
            "roc_auc Score: 0.830\n",
            "cohen kappa score: 0.028\n",
            "wss95: 0.944\n"
          ]
        }
      ]
    },
    {
      "cell_type": "code",
      "source": [
        "XGB_b = XGBClassifier(class_weight=\"balanced\")\n",
        "XGB_b.fit(X_train_bert, Y_train_bert)\n",
        "\n",
        "pred_w_xgb = XGB_b.predict(X_test_bert)\n",
        "\n",
        "prob_y_xgb_roc = XGB_b.predict_proba(X_test_bert)\n",
        "prob_y_xgb_roc = [p[1] for p in prob_y_xgb_roc]\n",
        "\n",
        "print('Precision: %.3f' % precision_score(Y_test_bert, pred_w_xgb))\n",
        "print('Recall: %.3f' % recall_score(Y_test_bert, pred_w_xgb))\n",
        "print('Accuracy: %.3f' % accuracy_score(Y_test_bert, pred_w_xgb))\n",
        "print('F1 Score: %.3f' % f1_score(Y_test_bert, pred_w_xgb))\n",
        "print('roc_auc Score: %.3f' % metrics.roc_auc_score(Y_test_bert, prob_y_xgb_roc))\n",
        "print('cohen kappa score: %.3f' % cohen_kappa_score(Y_test_bert, pred_w_xgb))\n",
        "print('wss95: %.3f' % wss95(Y_test_bert, pred_w_xgb))"
      ],
      "metadata": {
        "colab": {
          "base_uri": "https://localhost:8080/"
        },
        "id": "Tqcp5-PJVFJR",
        "outputId": "141d689d-2b85-43f2-cb7d-1baf0fd47529"
      },
      "execution_count": null,
      "outputs": [
        {
          "output_type": "stream",
          "name": "stdout",
          "text": [
            "Precision: 0.000\n",
            "Recall: 0.000\n",
            "Accuracy: 0.933\n",
            "F1 Score: 0.000\n",
            "roc_auc Score: 0.750\n",
            "cohen kappa score: 0.000\n",
            "wss95: 0.950\n"
          ]
        },
        {
          "output_type": "stream",
          "name": "stderr",
          "text": [
            "/usr/local/lib/python3.7/dist-packages/sklearn/metrics/_classification.py:1318: UndefinedMetricWarning: Precision is ill-defined and being set to 0.0 due to no predicted samples. Use `zero_division` parameter to control this behavior.\n",
            "  _warn_prf(average, modifier, msg_start, len(result))\n"
          ]
        }
      ]
    },
    {
      "cell_type": "markdown",
      "source": [
        "**Confusion Matrix**"
      ],
      "metadata": {
        "id": "DG6W4YYCV83S"
      }
    },
    {
      "cell_type": "code",
      "source": [
        "#svm classifier withouth class weights\n",
        "\n",
        "y_pred = svm_classifier.predict(X_test)\n",
        "conf_matrix = confusion_matrix(y_true=Y_test, y_pred=y_pred)\n",
        "\n",
        "fig, ax = plt.subplots(figsize=(5, 5))\n",
        "ax.matshow(conf_matrix, cmap=plt.cm.Oranges, alpha=0.3)\n",
        "for i in range(conf_matrix.shape[0]):\n",
        "    for j in range(conf_matrix.shape[1]):\n",
        "        ax.text(x=j, y=i,s=conf_matrix[i, j], va='center', ha='center', size='xx-large')\n",
        " \n",
        "plt.xlabel('Predictions', fontsize=18)\n",
        "plt.ylabel('Actuals', fontsize=18)\n",
        "plt.title('Confusion Matrix', fontsize=18)\n",
        "plt.show()"
      ],
      "metadata": {
        "colab": {
          "base_uri": "https://localhost:8080/",
          "height": 358
        },
        "id": "_88dGc7JWSC8",
        "outputId": "aed67585-95ad-455a-e519-a8f2ae2ba5b7"
      },
      "execution_count": null,
      "outputs": [
        {
          "output_type": "display_data",
          "data": {
            "text/plain": [
              "<Figure size 360x360 with 1 Axes>"
            ],
            "image/png": "[encoded data removed]"
          },
          "metadata": {}
        }
      ]
    },
    {
      "cell_type": "code",
      "source": [
        "#svm classifier with class weights\n",
        "\n",
        "y_pred = svm_classifier_w.predict(X_test)\n",
        "conf_matrix = confusion_matrix(y_true=Y_test, y_pred=y_pred)\n",
        "\n",
        "fig, ax = plt.subplots(figsize=(5, 5))\n",
        "ax.matshow(conf_matrix, cmap=plt.cm.Oranges, alpha=0.3)\n",
        "for i in range(conf_matrix.shape[0]):\n",
        "    for j in range(conf_matrix.shape[1]):\n",
        "        ax.text(x=j, y=i,s=conf_matrix[i, j], va='center', ha='center', size='xx-large')\n",
        " \n",
        "plt.xlabel('Predictions', fontsize=18)\n",
        "plt.ylabel('Actuals', fontsize=18)\n",
        "plt.title('Confusion Matrix', fontsize=18)\n",
        "plt.show()"
      ],
      "metadata": {
        "colab": {
          "base_uri": "https://localhost:8080/",
          "height": 358
        },
        "id": "HdNLWCluWzqv",
        "outputId": "9212cf38-969a-4812-a8fe-d1fb11b9df2a"
      },
      "execution_count": null,
      "outputs": [
        {
          "output_type": "display_data",
          "data": {
            "text/plain": [
              "<Figure size 360x360 with 1 Axes>"
            ],
            "image/png": "[encoded data removed]"
          },
          "metadata": {}
        }
      ]
    },
    {
      "cell_type": "code",
      "source": [
        "display = PrecisionRecallDisplay.from_estimator(\n",
        "    svm_classifier, X_test, Y_test, name=\"SVC\"\n",
        ")\n",
        "_ = display.ax_.set_title(\"2-class Precision-Recall curve\")"
      ],
      "metadata": {
        "colab": {
          "base_uri": "https://localhost:8080/",
          "height": 295
        },
        "id": "q5T9Ys-ZXjD4",
        "outputId": "44221ab9-fb96-48df-e394-c600e7d116ac"
      },
      "execution_count": null,
      "outputs": [
        {
          "output_type": "display_data",
          "data": {
            "text/plain": [
              "<Figure size 432x288 with 1 Axes>"
            ],
            "image/png": "[encoded data removed]"
          },
          "metadata": {}
        }
      ]
    },
    {
      "cell_type": "code",
      "source": [
        "display = PrecisionRecallDisplay.from_estimator(\n",
        "    svm_classifier_w, X_test, Y_test, name=\"SVC\"\n",
        ")\n",
        "_ = display.ax_.set_title(\"2-class Precision-Recall curve\")"
      ],
      "metadata": {
        "colab": {
          "base_uri": "https://localhost:8080/",
          "height": 295
        },
        "id": "MR7k5BPPXmFJ",
        "outputId": "edd6af60-c817-4cf1-fa02-93c5d8294119"
      },
      "execution_count": null,
      "outputs": [
        {
          "output_type": "display_data",
          "data": {
            "text/plain": [
              "<Figure size 432x288 with 1 Axes>"
            ],
            "image/png": "[encoded data removed]"
          },
          "metadata": {}
        }
      ]
    },
    {
      "cell_type": "code",
      "source": [
        "from sklearn.metrics import precision_recall_curve\n",
        "from sklearn.metrics import plot_precision_recall_curve\n",
        "import matplotlib.pyplot as plt\n",
        "\n",
        "plot_precision_recall_curve(svm_classifier_w, X_test, Y_test, ax = plt.gca(),name = \"SVM\")\n",
        "\n",
        "plot_precision_recall_curve(rfc_w, X_test, Y_test, ax = plt.gca(),name = \"Random Forest\")\n",
        "\n",
        "plot_precision_recall_curve(XGB_w, X_test, Y_test, ax = plt.gca(),name = \"XGB\")\n",
        "\n",
        "plt.title('Precision-Recall curve')"
      ],
      "metadata": {
        "colab": {
          "base_uri": "https://localhost:8080/",
          "height": 437
        },
        "id": "i8ww-Ki1JTzS",
        "outputId": "7e34e09a-f40d-4cc4-cd5c-7f22dff0c3e0"
      },
      "execution_count": null,
      "outputs": [
        {
          "output_type": "stream",
          "name": "stderr",
          "text": [
            "/usr/local/lib/python3.7/dist-packages/sklearn/utils/deprecation.py:87: FutureWarning: Function plot_precision_recall_curve is deprecated; Function `plot_precision_recall_curve` is deprecated in 1.0 and will be removed in 1.2. Use one of the class methods: PrecisionRecallDisplay.from_predictions or PrecisionRecallDisplay.from_estimator.\n",
            "  warnings.warn(msg, category=FutureWarning)\n",
            "/usr/local/lib/python3.7/dist-packages/sklearn/utils/deprecation.py:87: FutureWarning: Function plot_precision_recall_curve is deprecated; Function `plot_precision_recall_curve` is deprecated in 1.0 and will be removed in 1.2. Use one of the class methods: PrecisionRecallDisplay.from_predictions or PrecisionRecallDisplay.from_estimator.\n",
            "  warnings.warn(msg, category=FutureWarning)\n",
            "/usr/local/lib/python3.7/dist-packages/sklearn/utils/deprecation.py:87: FutureWarning: Function plot_precision_recall_curve is deprecated; Function `plot_precision_recall_curve` is deprecated in 1.0 and will be removed in 1.2. Use one of the class methods: PrecisionRecallDisplay.from_predictions or PrecisionRecallDisplay.from_estimator.\n",
            "  warnings.warn(msg, category=FutureWarning)\n"
          ]
        },
        {
          "output_type": "execute_result",
          "data": {
            "text/plain": [
              "Text(0.5, 1.0, 'Precision-Recall curve')"
            ]
          },
          "metadata": {},
          "execution_count": 19
        },
        {
          "output_type": "display_data",
          "data": {
            "text/plain": [
              "<Figure size 432x288 with 1 Axes>"
            ],
            "image/png": "[encoded data removed]"
          },
          "metadata": {
            "needs_background": "light"
          }
        }
      ]
    }
  ]
}