{
  "nbformat": 4,
  "nbformat_minor": 0,
  "metadata": {
    "colab": {
      "provenance": []
    },
    "kernelspec": {
      "name": "python3",
      "display_name": "Python 3"
    },
    "language_info": {
      "name": "python"
    },
    "widgets": {
      "application/vnd.jupyter.widget-state+json": {
        "1d0bcaa0eafd462fbfe004c5a714dd78": {
          "model_module": "@jupyter-widgets/controls",
          "model_name": "HBoxModel",
          "model_module_version": "1.5.0",
          "state": {
            "_dom_classes": [],
            "_model_module": "@jupyter-widgets/controls",
            "_model_module_version": "1.5.0",
            "_model_name": "HBoxModel",
            "_view_count": null,
            "_view_module": "@jupyter-widgets/controls",
            "_view_module_version": "1.5.0",
            "_view_name": "HBoxView",
            "box_style": "",
            "children": [
              "IPY_MODEL_47c450a84f634cee8f1c7394e2bd0b52",
              "IPY_MODEL_40336de67b894a46a2042adea0ad5539",
              "IPY_MODEL_45456165dae34e5199e3580d1f02d8b7"
            ],
            "layout": "IPY_MODEL_8a4e4c9664a54049b299baa0665b020e"
          }
        },
        "47c450a84f634cee8f1c7394e2bd0b52": {
          "model_module": "@jupyter-widgets/controls",
          "model_name": "HTMLModel",
          "model_module_version": "1.5.0",
          "state": {
            "_dom_classes": [],
            "_model_module": "@jupyter-widgets/controls",
            "_model_module_version": "1.5.0",
            "_model_name": "HTMLModel",
            "_view_count": null,
            "_view_module": "@jupyter-widgets/controls",
            "_view_module_version": "1.5.0",
            "_view_name": "HTMLView",
            "description": "",
            "description_tooltip": null,
            "layout": "IPY_MODEL_af5689ed8c9d435089e7563678427970",
            "placeholder": "​",
            "style": "IPY_MODEL_64092e0cd3fc47999c579dc35ca33351",
            "value": "Downloading vocab.txt: 100%"
          }
        },
        "40336de67b894a46a2042adea0ad5539": {
          "model_module": "@jupyter-widgets/controls",
          "model_name": "FloatProgressModel",
          "model_module_version": "1.5.0",
          "state": {
            "_dom_classes": [],
            "_model_module": "@jupyter-widgets/controls",
            "_model_module_version": "1.5.0",
            "_model_name": "FloatProgressModel",
            "_view_count": null,
            "_view_module": "@jupyter-widgets/controls",
            "_view_module_version": "1.5.0",
            "_view_name": "ProgressView",
            "bar_style": "success",
            "description": "",
            "description_tooltip": null,
            "layout": "IPY_MODEL_543f47429c7a48ca989518f3e10309cd",
            "max": 231508,
            "min": 0,
            "orientation": "horizontal",
            "style": "IPY_MODEL_ccb0535851a24fa2a27f6e546878cf8a",
            "value": 231508
          }
        },
        "45456165dae34e5199e3580d1f02d8b7": {
          "model_module": "@jupyter-widgets/controls",
          "model_name": "HTMLModel",
          "model_module_version": "1.5.0",
          "state": {
            "_dom_classes": [],
            "_model_module": "@jupyter-widgets/controls",
            "_model_module_version": "1.5.0",
            "_model_name": "HTMLModel",
            "_view_count": null,
            "_view_module": "@jupyter-widgets/controls",
            "_view_module_version": "1.5.0",
            "_view_name": "HTMLView",
            "description": "",
            "description_tooltip": null,
            "layout": "IPY_MODEL_19dd07a4aa1f4324bbc009ee358f7636",
            "placeholder": "​",
            "style": "IPY_MODEL_28e8a7411c754723adb98a6e4b142302",
            "value": " 226k/226k [00:00&lt;00:00, 6.70kB/s]"
          }
        },
        "8a4e4c9664a54049b299baa0665b020e": {
          "model_module": "@jupyter-widgets/base",
          "model_name": "LayoutModel",
          "model_module_version": "1.2.0",
          "state": {
            "_model_module": "@jupyter-widgets/base",
            "_model_module_version": "1.2.0",
            "_model_name": "LayoutModel",
            "_view_count": null,
            "_view_module": "@jupyter-widgets/base",
            "_view_module_version": "1.2.0",
            "_view_name": "LayoutView",
            "align_content": null,
            "align_items": null,
            "align_self": null,
            "border": null,
            "bottom": null,
            "display": null,
            "flex": null,
            "flex_flow": null,
            "grid_area": null,
            "grid_auto_columns": null,
            "grid_auto_flow": null,
            "grid_auto_rows": null,
            "grid_column": null,
            "grid_gap": null,
            "grid_row": null,
            "grid_template_areas": null,
            "grid_template_columns": null,
            "grid_template_rows": null,
            "height": null,
            "justify_content": null,
            "justify_items": null,
            "left": null,
            "margin": null,
            "max_height": null,
            "max_width": null,
            "min_height": null,
            "min_width": null,
            "object_fit": null,
            "object_position": null,
            "order": null,
            "overflow": null,
            "overflow_x": null,
            "overflow_y": null,
            "padding": null,
            "right": null,
            "top": null,
            "visibility": null,
            "width": null
          }
        },
        "af5689ed8c9d435089e7563678427970": {
          "model_module": "@jupyter-widgets/base",
          "model_name": "LayoutModel",
          "model_module_version": "1.2.0",
          "state": {
            "_model_module": "@jupyter-widgets/base",
            "_model_module_version": "1.2.0",
            "_model_name": "LayoutModel",
            "_view_count": null,
            "_view_module": "@jupyter-widgets/base",
            "_view_module_version": "1.2.0",
            "_view_name": "LayoutView",
            "align_content": null,
            "align_items": null,
            "align_self": null,
            "border": null,
            "bottom": null,
            "display": null,
            "flex": null,
            "flex_flow": null,
            "grid_area": null,
            "grid_auto_columns": null,
            "grid_auto_flow": null,
            "grid_auto_rows": null,
            "grid_column": null,
            "grid_gap": null,
            "grid_row": null,
            "grid_template_areas": null,
            "grid_template_columns": null,
            "grid_template_rows": null,
            "height": null,
            "justify_content": null,
            "justify_items": null,
            "left": null,
            "margin": null,
            "max_height": null,
            "max_width": null,
            "min_height": null,
            "min_width": null,
            "object_fit": null,
            "object_position": null,
            "order": null,
            "overflow": null,
            "overflow_x": null,
            "overflow_y": null,
            "padding": null,
            "right": null,
            "top": null,
            "visibility": null,
            "width": null
          }
        },
        "64092e0cd3fc47999c579dc35ca33351": {
          "model_module": "@jupyter-widgets/controls",
          "model_name": "DescriptionStyleModel",
          "model_module_version": "1.5.0",
          "state": {
            "_model_module": "@jupyter-widgets/controls",
            "_model_module_version": "1.5.0",
            "_model_name": "DescriptionStyleModel",
            "_view_count": null,
            "_view_module": "@jupyter-widgets/base",
            "_view_module_version": "1.2.0",
            "_view_name": "StyleView",
            "description_width": ""
          }
        },
        "543f47429c7a48ca989518f3e10309cd": {
          "model_module": "@jupyter-widgets/base",
          "model_name": "LayoutModel",
          "model_module_version": "1.2.0",
          "state": {
            "_model_module": "@jupyter-widgets/base",
            "_model_module_version": "1.2.0",
            "_model_name": "LayoutModel",
            "_view_count": null,
            "_view_module": "@jupyter-widgets/base",
            "_view_module_version": "1.2.0",
            "_view_name": "LayoutView",
            "align_content": null,
            "align_items": null,
            "align_self": null,
            "border": null,
            "bottom": null,
            "display": null,
            "flex": null,
            "flex_flow": null,
            "grid_area": null,
            "grid_auto_columns": null,
            "grid_auto_flow": null,
            "grid_auto_rows": null,
            "grid_column": null,
            "grid_gap": null,
            "grid_row": null,
            "grid_template_areas": null,
            "grid_template_columns": null,
            "grid_template_rows": null,
            "height": null,
            "justify_content": null,
            "justify_items": null,
            "left": null,
            "margin": null,
            "max_height": null,
            "max_width": null,
            "min_height": null,
            "min_width": null,
            "object_fit": null,
            "object_position": null,
            "order": null,
            "overflow": null,
            "overflow_x": null,
            "overflow_y": null,
            "padding": null,
            "right": null,
            "top": null,
            "visibility": null,
            "width": null
          }
        },
        "ccb0535851a24fa2a27f6e546878cf8a": {
          "model_module": "@jupyter-widgets/controls",
          "model_name": "ProgressStyleModel",
          "model_module_version": "1.5.0",
          "state": {
            "_model_module": "@jupyter-widgets/controls",
            "_model_module_version": "1.5.0",
            "_model_name": "ProgressStyleModel",
            "_view_count": null,
            "_view_module": "@jupyter-widgets/base",
            "_view_module_version": "1.2.0",
            "_view_name": "StyleView",
            "bar_color": null,
            "description_width": ""
          }
        },
        "19dd07a4aa1f4324bbc009ee358f7636": {
          "model_module": "@jupyter-widgets/base",
          "model_name": "LayoutModel",
          "model_module_version": "1.2.0",
          "state": {
            "_model_module": "@jupyter-widgets/base",
            "_model_module_version": "1.2.0",
            "_model_name": "LayoutModel",
            "_view_count": null,
            "_view_module": "@jupyter-widgets/base",
            "_view_module_version": "1.2.0",
            "_view_name": "LayoutView",
            "align_content": null,
            "align_items": null,
            "align_self": null,
            "border": null,
            "bottom": null,
            "display": null,
            "flex": null,
            "flex_flow": null,
            "grid_area": null,
            "grid_auto_columns": null,
            "grid_auto_flow": null,
            "grid_auto_rows": null,
            "grid_column": null,
            "grid_gap": null,
            "grid_row": null,
            "grid_template_areas": null,
            "grid_template_columns": null,
            "grid_template_rows": null,
            "height": null,
            "justify_content": null,
            "justify_items": null,
            "left": null,
            "margin": null,
            "max_height": null,
            "max_width": null,
            "min_height": null,
            "min_width": null,
            "object_fit": null,
            "object_position": null,
            "order": null,
            "overflow": null,
            "overflow_x": null,
            "overflow_y": null,
            "padding": null,
            "right": null,
            "top": null,
            "visibility": null,
            "width": null
          }
        },
        "28e8a7411c754723adb98a6e4b142302": {
          "model_module": "@jupyter-widgets/controls",
          "model_name": "DescriptionStyleModel",
          "model_module_version": "1.5.0",
          "state": {
            "_model_module": "@jupyter-widgets/controls",
            "_model_module_version": "1.5.0",
            "_model_name": "DescriptionStyleModel",
            "_view_count": null,
            "_view_module": "@jupyter-widgets/base",
            "_view_module_version": "1.2.0",
            "_view_name": "StyleView",
            "description_width": ""
          }
        },
        "a73f08612f9a48448b504a31d6a55c85": {
          "model_module": "@jupyter-widgets/controls",
          "model_name": "HBoxModel",
          "model_module_version": "1.5.0",
          "state": {
            "_dom_classes": [],
            "_model_module": "@jupyter-widgets/controls",
            "_model_module_version": "1.5.0",
            "_model_name": "HBoxModel",
            "_view_count": null,
            "_view_module": "@jupyter-widgets/controls",
            "_view_module_version": "1.5.0",
            "_view_name": "HBoxView",
            "box_style": "",
            "children": [
              "IPY_MODEL_bd50cd7853fb41f897c16091d0cd286b",
              "IPY_MODEL_b8f0c671ca97444990df3ca27977a124",
              "IPY_MODEL_567d0777673545a1b08dc3ba37dc7e1a"
            ],
            "layout": "IPY_MODEL_b04cf47b75a44110a42e4e11497934bb"
          }
        },
        "bd50cd7853fb41f897c16091d0cd286b": {
          "model_module": "@jupyter-widgets/controls",
          "model_name": "HTMLModel",
          "model_module_version": "1.5.0",
          "state": {
            "_dom_classes": [],
            "_model_module": "@jupyter-widgets/controls",
            "_model_module_version": "1.5.0",
            "_model_name": "HTMLModel",
            "_view_count": null,
            "_view_module": "@jupyter-widgets/controls",
            "_view_module_version": "1.5.0",
            "_view_name": "HTMLView",
            "description": "",
            "description_tooltip": null,
            "layout": "IPY_MODEL_187e366e58324e21a4f761f55600cfa6",
            "placeholder": "​",
            "style": "IPY_MODEL_f9dc1a5c3bc347718ce6a22d0f29eabe",
            "value": "Downloading tokenizer_config.json: 100%"
          }
        },
        "b8f0c671ca97444990df3ca27977a124": {
          "model_module": "@jupyter-widgets/controls",
          "model_name": "FloatProgressModel",
          "model_module_version": "1.5.0",
          "state": {
            "_dom_classes": [],
            "_model_module": "@jupyter-widgets/controls",
            "_model_module_version": "1.5.0",
            "_model_name": "FloatProgressModel",
            "_view_count": null,
            "_view_module": "@jupyter-widgets/controls",
            "_view_module_version": "1.5.0",
            "_view_name": "ProgressView",
            "bar_style": "success",
            "description": "",
            "description_tooltip": null,
            "layout": "IPY_MODEL_4d54a91545494432b4c97f6852e4930e",
            "max": 28,
            "min": 0,
            "orientation": "horizontal",
            "style": "IPY_MODEL_002ed2d2e5d64f37a78649eeee08c1d7",
            "value": 28
          }
        },
        "567d0777673545a1b08dc3ba37dc7e1a": {
          "model_module": "@jupyter-widgets/controls",
          "model_name": "HTMLModel",
          "model_module_version": "1.5.0",
          "state": {
            "_dom_classes": [],
            "_model_module": "@jupyter-widgets/controls",
            "_model_module_version": "1.5.0",
            "_model_name": "HTMLModel",
            "_view_count": null,
            "_view_module": "@jupyter-widgets/controls",
            "_view_module_version": "1.5.0",
            "_view_name": "HTMLView",
            "description": "",
            "description_tooltip": null,
            "layout": "IPY_MODEL_12f1a9f3523a4168be45440d8e0b227f",
            "placeholder": "​",
            "style": "IPY_MODEL_beb9629834ca47e296f0a56af3269657",
            "value": " 28.0/28.0 [00:00&lt;00:00, 147B/s]"
          }
        },
        "b04cf47b75a44110a42e4e11497934bb": {
          "model_module": "@jupyter-widgets/base",
          "model_name": "LayoutModel",
          "model_module_version": "1.2.0",
          "state": {
            "_model_module": "@jupyter-widgets/base",
            "_model_module_version": "1.2.0",
            "_model_name": "LayoutModel",
            "_view_count": null,
            "_view_module": "@jupyter-widgets/base",
            "_view_module_version": "1.2.0",
            "_view_name": "LayoutView",
            "align_content": null,
            "align_items": null,
            "align_self": null,
            "border": null,
            "bottom": null,
            "display": null,
            "flex": null,
            "flex_flow": null,
            "grid_area": null,
            "grid_auto_columns": null,
            "grid_auto_flow": null,
            "grid_auto_rows": null,
            "grid_column": null,
            "grid_gap": null,
            "grid_row": null,
            "grid_template_areas": null,
            "grid_template_columns": null,
            "grid_template_rows": null,
            "height": null,
            "justify_content": null,
            "justify_items": null,
            "left": null,
            "margin": null,
            "max_height": null,
            "max_width": null,
            "min_height": null,
            "min_width": null,
            "object_fit": null,
            "object_position": null,
            "order": null,
            "overflow": null,
            "overflow_x": null,
            "overflow_y": null,
            "padding": null,
            "right": null,
            "top": null,
            "visibility": null,
            "width": null
          }
        },
        "187e366e58324e21a4f761f55600cfa6": {
          "model_module": "@jupyter-widgets/base",
          "model_name": "LayoutModel",
          "model_module_version": "1.2.0",
          "state": {
            "_model_module": "@jupyter-widgets/base",
            "_model_module_version": "1.2.0",
            "_model_name": "LayoutModel",
            "_view_count": null,
            "_view_module": "@jupyter-widgets/base",
            "_view_module_version": "1.2.0",
            "_view_name": "LayoutView",
            "align_content": null,
            "align_items": null,
            "align_self": null,
            "border": null,
            "bottom": null,
            "display": null,
            "flex": null,
            "flex_flow": null,
            "grid_area": null,
            "grid_auto_columns": null,
            "grid_auto_flow": null,
            "grid_auto_rows": null,
            "grid_column": null,
            "grid_gap": null,
            "grid_row": null,
            "grid_template_areas": null,
            "grid_template_columns": null,
            "grid_template_rows": null,
            "height": null,
            "justify_content": null,
            "justify_items": null,
            "left": null,
            "margin": null,
            "max_height": null,
            "max_width": null,
            "min_height": null,
            "min_width": null,
            "object_fit": null,
            "object_position": null,
            "order": null,
            "overflow": null,
            "overflow_x": null,
            "overflow_y": null,
            "padding": null,
            "right": null,
            "top": null,
            "visibility": null,
            "width": null
          }
        },
        "f9dc1a5c3bc347718ce6a22d0f29eabe": {
          "model_module": "@jupyter-widgets/controls",
          "model_name": "DescriptionStyleModel",
          "model_module_version": "1.5.0",
          "state": {
            "_model_module": "@jupyter-widgets/controls",
            "_model_module_version": "1.5.0",
            "_model_name": "DescriptionStyleModel",
            "_view_count": null,
            "_view_module": "@jupyter-widgets/base",
            "_view_module_version": "1.2.0",
            "_view_name": "StyleView",
            "description_width": ""
          }
        },
        "4d54a91545494432b4c97f6852e4930e": {
          "model_module": "@jupyter-widgets/base",
          "model_name": "LayoutModel",
          "model_module_version": "1.2.0",
          "state": {
            "_model_module": "@jupyter-widgets/base",
            "_model_module_version": "1.2.0",
            "_model_name": "LayoutModel",
            "_view_count": null,
            "_view_module": "@jupyter-widgets/base",
            "_view_module_version": "1.2.0",
            "_view_name": "LayoutView",
            "align_content": null,
            "align_items": null,
            "align_self": null,
            "border": null,
            "bottom": null,
            "display": null,
            "flex": null,
            "flex_flow": null,
            "grid_area": null,
            "grid_auto_columns": null,
            "grid_auto_flow": null,
            "grid_auto_rows": null,
            "grid_column": null,
            "grid_gap": null,
            "grid_row": null,
            "grid_template_areas": null,
            "grid_template_columns": null,
            "grid_template_rows": null,
            "height": null,
            "justify_content": null,
            "justify_items": null,
            "left": null,
            "margin": null,
            "max_height": null,
            "max_width": null,
            "min_height": null,
            "min_width": null,
            "object_fit": null,
            "object_position": null,
            "order": null,
            "overflow": null,
            "overflow_x": null,
            "overflow_y": null,
            "padding": null,
            "right": null,
            "top": null,
            "visibility": null,
            "width": null
          }
        },
        "002ed2d2e5d64f37a78649eeee08c1d7": {
          "model_module": "@jupyter-widgets/controls",
          "model_name": "ProgressStyleModel",
          "model_module_version": "1.5.0",
          "state": {
            "_model_module": "@jupyter-widgets/controls",
            "_model_module_version": "1.5.0",
            "_model_name": "ProgressStyleModel",
            "_view_count": null,
            "_view_module": "@jupyter-widgets/base",
            "_view_module_version": "1.2.0",
            "_view_name": "StyleView",
            "bar_color": null,
            "description_width": ""
          }
        },
        "12f1a9f3523a4168be45440d8e0b227f": {
          "model_module": "@jupyter-widgets/base",
          "model_name": "LayoutModel",
          "model_module_version": "1.2.0",
          "state": {
            "_model_module": "@jupyter-widgets/base",
            "_model_module_version": "1.2.0",
            "_model_name": "LayoutModel",
            "_view_count": null,
            "_view_module": "@jupyter-widgets/base",
            "_view_module_version": "1.2.0",
            "_view_name": "LayoutView",
            "align_content": null,
            "align_items": null,
            "align_self": null,
            "border": null,
            "bottom": null,
            "display": null,
            "flex": null,
            "flex_flow": null,
            "grid_area": null,
            "grid_auto_columns": null,
            "grid_auto_flow": null,
            "grid_auto_rows": null,
            "grid_column": null,
            "grid_gap": null,
            "grid_row": null,
            "grid_template_areas": null,
            "grid_template_columns": null,
            "grid_template_rows": null,
            "height": null,
            "justify_content": null,
            "justify_items": null,
            "left": null,
            "margin": null,
            "max_height": null,
            "max_width": null,
            "min_height": null,
            "min_width": null,
            "object_fit": null,
            "object_position": null,
            "order": null,
            "overflow": null,
            "overflow_x": null,
            "overflow_y": null,
            "padding": null,
            "right": null,
            "top": null,
            "visibility": null,
            "width": null
          }
        },
        "beb9629834ca47e296f0a56af3269657": {
          "model_module": "@jupyter-widgets/controls",
          "model_name": "DescriptionStyleModel",
          "model_module_version": "1.5.0",
          "state": {
            "_model_module": "@jupyter-widgets/controls",
            "_model_module_version": "1.5.0",
            "_model_name": "DescriptionStyleModel",
            "_view_count": null,
            "_view_module": "@jupyter-widgets/base",
            "_view_module_version": "1.2.0",
            "_view_name": "StyleView",
            "description_width": ""
          }
        },
        "e5074cd040f8434582c9e482c16db2c9": {
          "model_module": "@jupyter-widgets/controls",
          "model_name": "HBoxModel",
          "model_module_version": "1.5.0",
          "state": {
            "_dom_classes": [],
            "_model_module": "@jupyter-widgets/controls",
            "_model_module_version": "1.5.0",
            "_model_name": "HBoxModel",
            "_view_count": null,
            "_view_module": "@jupyter-widgets/controls",
            "_view_module_version": "1.5.0",
            "_view_name": "HBoxView",
            "box_style": "",
            "children": [
              "IPY_MODEL_1edced9f9966442581c2b8f5ad7714f9",
              "IPY_MODEL_547c17524d684245ae73275fc11c4dba",
              "IPY_MODEL_13e0a420d49049a3b280d42a09c2dd33"
            ],
            "layout": "IPY_MODEL_1b8132260c7d4041b7acf4acf8aa1206"
          }
        },
        "1edced9f9966442581c2b8f5ad7714f9": {
          "model_module": "@jupyter-widgets/controls",
          "model_name": "HTMLModel",
          "model_module_version": "1.5.0",
          "state": {
            "_dom_classes": [],
            "_model_module": "@jupyter-widgets/controls",
            "_model_module_version": "1.5.0",
            "_model_name": "HTMLModel",
            "_view_count": null,
            "_view_module": "@jupyter-widgets/controls",
            "_view_module_version": "1.5.0",
            "_view_name": "HTMLView",
            "description": "",
            "description_tooltip": null,
            "layout": "IPY_MODEL_11207be2420c48cbbc136a330f824ecd",
            "placeholder": "​",
            "style": "IPY_MODEL_2a8b51991d10470384bd2b5cf19e3e47",
            "value": "Downloading config.json: 100%"
          }
        },
        "547c17524d684245ae73275fc11c4dba": {
          "model_module": "@jupyter-widgets/controls",
          "model_name": "FloatProgressModel",
          "model_module_version": "1.5.0",
          "state": {
            "_dom_classes": [],
            "_model_module": "@jupyter-widgets/controls",
            "_model_module_version": "1.5.0",
            "_model_name": "FloatProgressModel",
            "_view_count": null,
            "_view_module": "@jupyter-widgets/controls",
            "_view_module_version": "1.5.0",
            "_view_name": "ProgressView",
            "bar_style": "success",
            "description": "",
            "description_tooltip": null,
            "layout": "IPY_MODEL_13d655ed4fc845278cbce563cba482ce",
            "max": 570,
            "min": 0,
            "orientation": "horizontal",
            "style": "IPY_MODEL_53582163a5df432eb9e348b59aec8c90",
            "value": 570
          }
        },
        "13e0a420d49049a3b280d42a09c2dd33": {
          "model_module": "@jupyter-widgets/controls",
          "model_name": "HTMLModel",
          "model_module_version": "1.5.0",
          "state": {
            "_dom_classes": [],
            "_model_module": "@jupyter-widgets/controls",
            "_model_module_version": "1.5.0",
            "_model_name": "HTMLModel",
            "_view_count": null,
            "_view_module": "@jupyter-widgets/controls",
            "_view_module_version": "1.5.0",
            "_view_name": "HTMLView",
            "description": "",
            "description_tooltip": null,
            "layout": "IPY_MODEL_28cf61f6a9b9460f9bb669454438bbff",
            "placeholder": "​",
            "style": "IPY_MODEL_abc039f9f17b4485962c3326f9ab133c",
            "value": " 570/570 [00:00&lt;00:00, 14.0kB/s]"
          }
        },
        "1b8132260c7d4041b7acf4acf8aa1206": {
          "model_module": "@jupyter-widgets/base",
          "model_name": "LayoutModel",
          "model_module_version": "1.2.0",
          "state": {
            "_model_module": "@jupyter-widgets/base",
            "_model_module_version": "1.2.0",
            "_model_name": "LayoutModel",
            "_view_count": null,
            "_view_module": "@jupyter-widgets/base",
            "_view_module_version": "1.2.0",
            "_view_name": "LayoutView",
            "align_content": null,
            "align_items": null,
            "align_self": null,
            "border": null,
            "bottom": null,
            "display": null,
            "flex": null,
            "flex_flow": null,
            "grid_area": null,
            "grid_auto_columns": null,
            "grid_auto_flow": null,
            "grid_auto_rows": null,
            "grid_column": null,
            "grid_gap": null,
            "grid_row": null,
            "grid_template_areas": null,
            "grid_template_columns": null,
            "grid_template_rows": null,
            "height": null,
            "justify_content": null,
            "justify_items": null,
            "left": null,
            "margin": null,
            "max_height": null,
            "max_width": null,
            "min_height": null,
            "min_width": null,
            "object_fit": null,
            "object_position": null,
            "order": null,
            "overflow": null,
            "overflow_x": null,
            "overflow_y": null,
            "padding": null,
            "right": null,
            "top": null,
            "visibility": null,
            "width": null
          }
        },
        "11207be2420c48cbbc136a330f824ecd": {
          "model_module": "@jupyter-widgets/base",
          "model_name": "LayoutModel",
          "model_module_version": "1.2.0",
          "state": {
            "_model_module": "@jupyter-widgets/base",
            "_model_module_version": "1.2.0",
            "_model_name": "LayoutModel",
            "_view_count": null,
            "_view_module": "@jupyter-widgets/base",
            "_view_module_version": "1.2.0",
            "_view_name": "LayoutView",
            "align_content": null,
            "align_items": null,
            "align_self": null,
            "border": null,
            "bottom": null,
            "display": null,
            "flex": null,
            "flex_flow": null,
            "grid_area": null,
            "grid_auto_columns": null,
            "grid_auto_flow": null,
            "grid_auto_rows": null,
            "grid_column": null,
            "grid_gap": null,
            "grid_row": null,
            "grid_template_areas": null,
            "grid_template_columns": null,
            "grid_template_rows": null,
            "height": null,
            "justify_content": null,
            "justify_items": null,
            "left": null,
            "margin": null,
            "max_height": null,
            "max_width": null,
            "min_height": null,
            "min_width": null,
            "object_fit": null,
            "object_position": null,
            "order": null,
            "overflow": null,
            "overflow_x": null,
            "overflow_y": null,
            "padding": null,
            "right": null,
            "top": null,
            "visibility": null,
            "width": null
          }
        },
        "2a8b51991d10470384bd2b5cf19e3e47": {
          "model_module": "@jupyter-widgets/controls",
          "model_name": "DescriptionStyleModel",
          "model_module_version": "1.5.0",
          "state": {
            "_model_module": "@jupyter-widgets/controls",
            "_model_module_version": "1.5.0",
            "_model_name": "DescriptionStyleModel",
            "_view_count": null,
            "_view_module": "@jupyter-widgets/base",
            "_view_module_version": "1.2.0",
            "_view_name": "StyleView",
            "description_width": ""
          }
        },
        "13d655ed4fc845278cbce563cba482ce": {
          "model_module": "@jupyter-widgets/base",
          "model_name": "LayoutModel",
          "model_module_version": "1.2.0",
          "state": {
            "_model_module": "@jupyter-widgets/base",
            "_model_module_version": "1.2.0",
            "_model_name": "LayoutModel",
            "_view_count": null,
            "_view_module": "@jupyter-widgets/base",
            "_view_module_version": "1.2.0",
            "_view_name": "LayoutView",
            "align_content": null,
            "align_items": null,
            "align_self": null,
            "border": null,
            "bottom": null,
            "display": null,
            "flex": null,
            "flex_flow": null,
            "grid_area": null,
            "grid_auto_columns": null,
            "grid_auto_flow": null,
            "grid_auto_rows": null,
            "grid_column": null,
            "grid_gap": null,
            "grid_row": null,
            "grid_template_areas": null,
            "grid_template_columns": null,
            "grid_template_rows": null,
            "height": null,
            "justify_content": null,
            "justify_items": null,
            "left": null,
            "margin": null,
            "max_height": null,
            "max_width": null,
            "min_height": null,
            "min_width": null,
            "object_fit": null,
            "object_position": null,
            "order": null,
            "overflow": null,
            "overflow_x": null,
            "overflow_y": null,
            "padding": null,
            "right": null,
            "top": null,
            "visibility": null,
            "width": null
          }
        },
        "53582163a5df432eb9e348b59aec8c90": {
          "model_module": "@jupyter-widgets/controls",
          "model_name": "ProgressStyleModel",
          "model_module_version": "1.5.0",
          "state": {
            "_model_module": "@jupyter-widgets/controls",
            "_model_module_version": "1.5.0",
            "_model_name": "ProgressStyleModel",
            "_view_count": null,
            "_view_module": "@jupyter-widgets/base",
            "_view_module_version": "1.2.0",
            "_view_name": "StyleView",
            "bar_color": null,
            "description_width": ""
          }
        },
        "28cf61f6a9b9460f9bb669454438bbff": {
          "model_module": "@jupyter-widgets/base",
          "model_name": "LayoutModel",
          "model_module_version": "1.2.0",
          "state": {
            "_model_module": "@jupyter-widgets/base",
            "_model_module_version": "1.2.0",
            "_model_name": "LayoutModel",
            "_view_count": null,
            "_view_module": "@jupyter-widgets/base",
            "_view_module_version": "1.2.0",
            "_view_name": "LayoutView",
            "align_content": null,
            "align_items": null,
            "align_self": null,
            "border": null,
            "bottom": null,
            "display": null,
            "flex": null,
            "flex_flow": null,
            "grid_area": null,
            "grid_auto_columns": null,
            "grid_auto_flow": null,
            "grid_auto_rows": null,
            "grid_column": null,
            "grid_gap": null,
            "grid_row": null,
            "grid_template_areas": null,
            "grid_template_columns": null,
            "grid_template_rows": null,
            "height": null,
            "justify_content": null,
            "justify_items": null,
            "left": null,
            "margin": null,
            "max_height": null,
            "max_width": null,
            "min_height": null,
            "min_width": null,
            "object_fit": null,
            "object_position": null,
            "order": null,
            "overflow": null,
            "overflow_x": null,
            "overflow_y": null,
            "padding": null,
            "right": null,
            "top": null,
            "visibility": null,
            "width": null
          }
        },
        "abc039f9f17b4485962c3326f9ab133c": {
          "model_module": "@jupyter-widgets/controls",
          "model_name": "DescriptionStyleModel",
          "model_module_version": "1.5.0",
          "state": {
            "_model_module": "@jupyter-widgets/controls",
            "_model_module_version": "1.5.0",
            "_model_name": "DescriptionStyleModel",
            "_view_count": null,
            "_view_module": "@jupyter-widgets/base",
            "_view_module_version": "1.2.0",
            "_view_name": "StyleView",
            "description_width": ""
          }
        }
      }
    }
  },
  "cells": [
    {
      "cell_type": "code",
      "execution_count": 1,
      "metadata": {
        "colab": {
          "base_uri": "https://localhost:8080/"
        },
        "id": "Jb7oYZ8TfQvz",
        "outputId": "2639988b-f507-4bba-a5ae-5cd1f9a25d26"
      },
      "outputs": [
        {
          "output_type": "stream",
          "name": "stderr",
          "text": [
            "[nltk_data] Downloading package stopwords to /root/nltk_data...\n",
            "[nltk_data]   Unzipping corpora/stopwords.zip.\n"
          ]
        }
      ],
      "source": [
        "import tensorflow as tf\n",
        "import tensorflow_hub as hub\n",
        "\n",
        "import numpy as np\n",
        "import re\n",
        "import nltk\n",
        "import pandas as pd\n",
        "\n",
        "import matplotlib.pyplot as plt\n",
        "from sklearn.metrics import confusion_matrix\n",
        "\n",
        "import time\n",
        "\n",
        "from sklearn.svm import SVC\n",
        "from sklearn.ensemble import RandomForestClassifier\n",
        "from xgboost import XGBClassifier\n",
        "\n",
        "from sklearn.metrics import precision_score, recall_score, f1_score, accuracy_score\n",
        "from sklearn import metrics\n",
        "from sklearn.metrics import cohen_kappa_score\n",
        "from sklearn.metrics import roc_auc_score\n",
        "\n",
        "from sklearn.model_selection import StratifiedKFold\n",
        "from statistics import mean, stdev\n",
        "from sklearn import preprocessing\n",
        "from sklearn.metrics import PrecisionRecallDisplay\n",
        "\n",
        "import nltk\n",
        "nltk.download('stopwords')\n",
        "\n",
        "import gensim\n",
        "from sklearn.decomposition import PCA\n",
        "from imblearn.over_sampling import RandomOverSampler\n",
        "from imblearn.under_sampling import RandomUnderSampler\n",
        "from collections import Counter\n",
        "\n",
        "from sklearn.model_selection import train_test_split\n",
        "from matplotlib import pyplot\n",
        "from sklearn.utils.class_weight import compute_class_weight\n",
        "\n",
        "from sklearn.model_selection import GridSearchCV, StratifiedKFold\n",
        "import seaborn as sns\n",
        "\n",
        "from sklearn.feature_extraction.text import TfidfVectorizer, CountVectorizer\n",
        "from sklearn.feature_extraction.text import TfidfTransformer"
      ]
    },
    {
      "cell_type": "code",
      "source": [
        "#functions\n",
        "\n",
        "def wss(R, y_true, y_pred):\n",
        "    cfmat = confusion_matrix(y_true, y_pred)\n",
        "    tn_, fp_, fn_, tp_ = cfmat.ravel() # instead of doing a call for each\n",
        "    N = np.sum(cfmat)\n",
        "    if N <= 0:\n",
        "      print(\"N = {}!!!\".format(N))\n",
        "    return (tn_ + fn_)/N - (1 - R)\n",
        "\n",
        "def wss95(y_true, y_pred):\n",
        "    return wss(0.95, y_true, y_pred)\n",
        "\n",
        "def print_plot(index):\n",
        "    example = articles[articles.index == index][['titleabstract', 'category']].values[0]\n",
        "    if len(example) > 0:\n",
        "        print(example[0])\n",
        "        print('category:', example[1])\n",
        "\n",
        "def clean_text(text):\n",
        "    \"\"\"\n",
        "        text: a string\n",
        "        \n",
        "        return: modified initial string\n",
        "    \"\"\"\n",
        "    text = text.lower() # lowercase text\n",
        "    text = REPLACE_BY_SPACE_RE.sub(' ', text) # replace REPLACE_BY_SPACE_RE symbols by space in text. substitute the matched string in REPLACE_BY_SPACE_RE with space.\n",
        "    text = BAD_SYMBOLS_RE.sub(' ', text) # remove symbols which are in BAD_SYMBOLS_RE from text. substitute the matched string in BAD_SYMBOLS_RE with nothing. \n",
        "#    text = text.replace('x', '')\n",
        "#    text = re.sub(r'\\W+', '', text)\n",
        "    text = ' '.join(word for word in text.split() if word not in STOPWORDS and word not in UNWANTED_WORDS) # remove stopwords and UNWANTED_WORDS from text\n",
        "    return text\n",
        "\n",
        "\n",
        "def remove_prefix(text, prefix):\n",
        "    if text.startswith(prefix):\n",
        "        return text[len(prefix):]\n",
        "    return text  "
      ],
      "metadata": {
        "id": "w5EJS2U0fdeV"
      },
      "execution_count": 2,
      "outputs": []
    },
    {
      "cell_type": "code",
      "source": [
        "articles = pd.read_csv('https://raw.githubusercontent.com/nxz96/Msc/main/sex_diff_screenings.csv')"
      ],
      "metadata": {
        "id": "JrxCcBDpfiFL"
      },
      "execution_count": 3,
      "outputs": []
    },
    {
      "cell_type": "code",
      "source": [
        "rows, cols = articles.shape\n",
        "print('INIT: Data size: Num of rows: ',rows, ' Num of cols: ',cols)\n",
        "articles = articles.dropna(subset=[\"Decision\"])\n",
        "rows, cols = articles.shape\n",
        "print('Removed nan from notes: Data size: Num of rows: ',rows, ' Num of cols: ',cols)\n",
        "bool1 = pd.isnull(articles['Abstract'])\n",
        "print(len(articles[bool1]))\n",
        "for i, row in articles[bool1].iterrows():\n",
        "    articles.at[i,'abstract'] = \" \"\n",
        "\n",
        "articles = articles.dropna(subset=[\"Abstract\"])\n",
        "rows, cols = articles.shape\n",
        "print('Removed nan from abstract: Data size: Num of rows: ',rows, ' Num of cols: ',cols)\n",
        "articles[\"category\"] = \"None\"\n",
        "\n",
        "included = 0\n",
        "excluded = 0 \n",
        "maybe = 0\n",
        "labelled = 0\n",
        "others = 0\n",
        "unlabelled = 0\n",
        "labels = 0\n",
        "\n",
        "index = 0\n",
        "max_len = -1\n",
        "\n",
        "\n",
        "for i, row in articles.iterrows():\n",
        "    \n",
        "    row = articles.loc[i, \"Decision\"]\n",
        "    \n",
        "    if \"Included\" in row:\n",
        "            articles.at[i,'category'] = \"Included\"\n",
        "            included = included + 1\n",
        "    elif \"Excluded\" in row:\n",
        "            articles.at[i,'category'] = \"Excluded\"\n",
        "            excluded = excluded + 1\n",
        "    else:\n",
        "            others = others + 1\n",
        "                \n",
        "            \n",
        "print('Labelled data : ',labelled)                \n",
        "print('Unlabelled data: ',unlabelled)\n",
        "print('included: ',included) \n",
        "print('excluded: ',excluded) \n",
        "\n",
        "for i, row in articles.iterrows():\n",
        "    row = articles.loc[i, \"category\"]\n",
        "    if row == \"None\":\n",
        "        r = articles.loc[i, \"Decision\"]\n",
        "        articles.at[i,'category'] = np.nan\n",
        "        \n",
        "articles = articles.dropna(subset=[\"category\"])\n",
        "rows, cols = articles.shape\n",
        "print('Removed nan from category: Data size: Num of rows: ',rows, ' Num of cols: ',cols)\n",
        "\n",
        "# combining title and abstract columns to titleabstract\n",
        "articles[\"titleabstract\"] = articles[\"Title\"] + \" \" + articles[\"Abstract\"]\n",
        "\n",
        "col = ['category', 'titleabstract']\n",
        "articles = articles[col]\n",
        "# articles = articles[pd.notnull(articles['titleabstract'])]\n",
        "articles.columns = ['category', 'titleabstract']\n",
        "articles['category_id'] = articles['category'].factorize()[0]\n",
        "\n",
        "\n",
        "sample = 20\n",
        "print(\"Before removing UNWANTED WORDS: data_id \",sample)\n",
        "print_plot(sample)\n",
        "print(\"\\n\")\n",
        "\n",
        "#removing stopwords and unwanted words\n",
        "\n",
        "REPLACE_BY_SPACE_RE = re.compile('[/(){}\\[\\]\\|@,;]')\n",
        "BAD_SYMBOLS_RE = re.compile('[^0-9a-z #+_]')\n",
        "STOPWORDS = set(nltk.corpus.stopwords.words('english'))\n",
        "UNWANTED_WORDS = ['results', 'objectives', 'methods', 'design', 'study population', 'measurements', 'conclusions', 'materials', 'methods', 'limitations', 'setting', 'patients', 'purpose', 'intervention', 'main outcome', 'measures', 'background']\n",
        "articles['titleabstract'] = articles['titleabstract'].apply(clean_text)\n",
        "articles['titleabstract'] = articles['titleabstract'].str.replace('\\d+', '')\n",
        "\n",
        "#find duplicates\n",
        "print(\"duplicates : \",articles[articles['titleabstract'].isin(articles['titleabstract'][articles['titleabstract'].duplicated()])])\n",
        "\n",
        "#drop duplicates\n",
        "articles = articles.drop_duplicates(keep='first')\n",
        "\n",
        "#output after cleaning\n",
        "print(articles)"
      ],
      "metadata": {
        "colab": {
          "base_uri": "https://localhost:8080/"
        },
        "id": "YbNmUuJ_fndu",
        "outputId": "88f62378-2894-46fd-9581-1261b570c9b9"
      },
      "execution_count": 4,
      "outputs": [
        {
          "output_type": "stream",
          "name": "stdout",
          "text": [
            "INIT: Data size: Num of rows:  4000  Num of cols:  23\n",
            "Removed nan from notes: Data size: Num of rows:  4000  Num of cols:  23\n",
            "368\n",
            "Removed nan from abstract: Data size: Num of rows:  3632  Num of cols:  24\n"
          ]
        },
        {
          "output_type": "stream",
          "name": "stderr",
          "text": [
            "/usr/local/lib/python3.7/dist-packages/ipykernel_launcher.py:14: SettingWithCopyWarning: \n",
            "A value is trying to be set on a copy of a slice from a DataFrame.\n",
            "Try using .loc[row_indexer,col_indexer] = value instead\n",
            "\n",
            "See the caveats in the documentation: https://pandas.pydata.org/pandas-docs/stable/user_guide/indexing.html#returning-a-view-versus-a-copy\n",
            "  \n"
          ]
        },
        {
          "output_type": "stream",
          "name": "stdout",
          "text": [
            "Labelled data :  0\n",
            "Unlabelled data:  0\n",
            "included:  224\n",
            "excluded:  3408\n",
            "Removed nan from category: Data size: Num of rows:  3632  Num of cols:  25\n",
            "Before removing UNWANTED WORDS: data_id  20\n",
            "Racial disparities in receipt of standard chemoradiation in anal squamous cell carcinoma, an analysis of the National Cancer Database Background: Standard treatment for locally advanced anal squamous cell carcinoma (SCC) consists of concurrent chemoradiation. We evaluated whether racial differences exist in the receipt of standard treatment and its association with survival. Method(s): From the National Cancer Database, we identified patients diagnosed with anal SCC (Stages 2-3) between 2004 and 2015. Using logistic regression, we evaluated racial differences in the probability of receiving standard chemoradiation. We used Cox proportional hazards models to evaluate associations between race, receipt of standard therapy and survival. Result(s): Our analysis included 19,835 patients. Patients receiving standard chemoradiation had better survival than patients receiving nonstandard therapy (hazard ratio [HR] 0.64; 95% confidence interval [CI] 0.61-0.68; p < 0.001). Compared to White patients, Black patients were less likely to receive standard therapy (odds ratio [OR] 0.85; 95% CI 0.76-0.96; p < 0.008). We observed no statistical difference in mortality between Black and White patients overall (HR 1.05, 95% CI 0.97-1.15; p = 0.24). However, for the subgroup of patients receiving nonstandard therapy, Black patients had an increased mortality risk compared to White patients (HR 1.17, CI 1.01-1.35; p = 0.034). We observed no survival differences in the subgroup of patients receiving standard treatment (HR 1.00, CI 0.90-1.11, p = 0.99). Conclusion(s): Standard treatment in anal SCC is associated with better survival, but Black patients are less likely to receive standard treatment than White patients. Although Black patients had higher mortality than White patients in the subgroup of patients receiving nonstandard therapy, this difference was ameliorated in the subset receiving standard therapy.Copyright © 2020 The Authors. Cancer Medicine published by John Wiley & Sons Ltd.\n",
            "category: Excluded\n",
            "\n",
            "\n",
            "duplicates :        category                                      titleabstract  category_id\n",
            "562   Excluded  use handheld x ray fluorescence non invasive m...            0\n",
            "892   Excluded  changes performance bio mathematical model per...            0\n",
            "1870  Excluded  changes performance bio mathematical model per...            0\n",
            "1959  Excluded  use handheld x ray fluorescence non invasive m...            0\n",
            "      category                                      titleabstract  category_id\n",
            "0     Excluded  degeneration adjacent intervertebral discs neg...            0\n",
            "1     Excluded  carcinogenic interactions single inhalation pu...            0\n",
            "2     Excluded  postoperative intensity modulated radiation th...            0\n",
            "3     Excluded  low dose semi coronal ct sacroiliac joints ear...            0\n",
            "4     Excluded  bone mineral density vertebral fractures deter...            0\n",
            "...        ...                                                ...          ...\n",
            "3995  Excluded  stage lung sbrt clinical practice patterns ste...            0\n",
            "3996  Excluded  clinical intraarticular calcaneal fractures lo...            0\n",
            "3997  Excluded  clinical efficacy postoperative chemotherapy e...            0\n",
            "3998  Excluded  surgeon radiation exposure percutaneous verteb...            0\n",
            "3999  Excluded  feasibility safety extended adjuvant temozolom...            0\n",
            "\n",
            "[3630 rows x 3 columns]\n"
          ]
        },
        {
          "output_type": "stream",
          "name": "stderr",
          "text": [
            "/usr/local/lib/python3.7/dist-packages/ipykernel_launcher.py:79: FutureWarning: The default value of regex will change from True to False in a future version.\n"
          ]
        }
      ]
    },
    {
      "cell_type": "code",
      "source": [
        "#featurs and labels\n",
        "x,y = np.asarray(articles[\"titleabstract\"]),np.asarray(articles[\"category_id\"])"
      ],
      "metadata": {
        "id": "ElMycLDEfsvW"
      },
      "execution_count": 5,
      "outputs": []
    },
    {
      "cell_type": "code",
      "source": [
        "start = time.time()\n",
        "\n",
        "# word level tf-idf\n",
        "tfidf_vect = TfidfVectorizer(analyzer='word', token_pattern=r'\\w{1,}', max_features=10000)\n",
        "tfidf_vect.fit(articles['titleabstract'])\n",
        "\n",
        "# ngram level tf-idf \n",
        "\n",
        "tfidf_vect_ngram = TfidfVectorizer(analyzer='word', token_pattern=r'\\w{1,}', ngram_range=(2,3), max_features=10000)\n",
        "tfidf_vect_ngram.fit(articles['titleabstract'])\n",
        "\n",
        "# characters level tf-idf\n",
        "\n",
        "tfidf_vect_ngram_chars = TfidfVectorizer(analyzer='char',  ngram_range=(2,3), max_features=10000) #token_pattern=r'\\w{1,}',\n",
        "tfidf_vect_ngram_chars.fit(articles['titleabstract'])\n",
        "\n",
        "end = round(time.time()-start,2)\n",
        "print(\"This process took\",end,\"seconds.\")"
      ],
      "metadata": {
        "colab": {
          "base_uri": "https://localhost:8080/"
        },
        "id": "u_7GVeu8f_n-",
        "outputId": "d01853fa-d14f-456c-fc43-35e709acaf96"
      },
      "execution_count": 6,
      "outputs": [
        {
          "output_type": "stream",
          "name": "stdout",
          "text": [
            "This process took 10.34 seconds.\n"
          ]
        }
      ]
    },
    {
      "cell_type": "code",
      "source": [
        "start = time.time()\n",
        "\n",
        "count_vect = CountVectorizer(analyzer='word', token_pattern=r'\\w{1,}')\n",
        "count_vect.fit(articles['titleabstract'])\n",
        "\n",
        "end = round(time.time()-start,2)\n",
        "print(\"This process took\",end,\"seconds.\")"
      ],
      "metadata": {
        "colab": {
          "base_uri": "https://localhost:8080/"
        },
        "id": "-SMKTYxhfn7V",
        "outputId": "7d04082e-4519-49ff-d072-792fb8b934a2"
      },
      "execution_count": 7,
      "outputs": [
        {
          "output_type": "stream",
          "name": "stdout",
          "text": [
            "This process took 1.67 seconds.\n"
          ]
        }
      ]
    },
    {
      "cell_type": "code",
      "source": [
        "X_train_for_tfidf, X_test_for_tfidf, Y_train_tfidf, Y_test_tfidf = train_test_split(articles['titleabstract'],y, test_size = 0.20, random_state = 2021)\n",
        "\n",
        "X_train_tfidf_word =  tfidf_vect.transform(X_train_for_tfidf.values)\n",
        "X_test_tfidf_word =  tfidf_vect.transform(X_test_for_tfidf.values)\n",
        "\n",
        "X_train_tfidf_ngram =  tfidf_vect_ngram.transform(X_train_for_tfidf.values)\n",
        "X_test_tfidf_ngram =  tfidf_vect_ngram.transform(X_test_for_tfidf.values)\n",
        "\n",
        "X_train_tfidf_ngram_chars =  tfidf_vect_ngram_chars.transform(X_train_for_tfidf.values)\n",
        "X_test_tfidf_ngram_chars =  tfidf_vect_ngram_chars.transform(X_test_for_tfidf.values)"
      ],
      "metadata": {
        "id": "4CqUyU_kgHpP"
      },
      "execution_count": 8,
      "outputs": []
    },
    {
      "cell_type": "code",
      "source": [
        "X_train_count =  count_vect.transform(X_train_for_tfidf)\n",
        "X_test_count =  count_vect.transform(X_test_for_tfidf)"
      ],
      "metadata": {
        "id": "qBYhPkjwgTIq"
      },
      "execution_count": 9,
      "outputs": []
    },
    {
      "cell_type": "markdown",
      "source": [
        "Random Forest with TF-IDF"
      ],
      "metadata": {
        "id": "KWIDswgmgx-M"
      }
    },
    {
      "cell_type": "code",
      "source": [
        "rfc_tfidf_word = RandomForestClassifier(class_weight=\"balanced\")\n",
        "rfc_tfidf_word.fit(X_train_tfidf_word, Y_train_tfidf)\n",
        "\n",
        "rfc_tfidf_tfidf_ngram = RandomForestClassifier(class_weight=\"balanced\")\n",
        "rfc_tfidf_tfidf_ngram.fit(X_train_tfidf_ngram, Y_train_tfidf)\n",
        "\n",
        "rfc_tfidf_tfidf_ngram_char = RandomForestClassifier(class_weight=\"balanced\")\n",
        "rfc_tfidf_tfidf_ngram_char.fit(X_train_tfidf_ngram_chars, Y_train_tfidf)\n",
        "\n",
        "\n",
        "pred_rfc_tfidf_word = rfc_tfidf_word.predict(X_test_tfidf_word)\n",
        "pred_rfc_tfidf_ngram = rfc_tfidf_tfidf_ngram.predict(X_test_tfidf_ngram)\n",
        "pred_rfc_tfidf_ngram_char = rfc_tfidf_tfidf_ngram_char.predict(X_test_tfidf_ngram_chars)\n",
        "\n",
        "\n",
        "print('Precision word: %.3f' % precision_score(Y_test_tfidf, pred_rfc_tfidf_word),'Precision ngram: %.3f' % precision_score(Y_test_tfidf, pred_rfc_tfidf_ngram),'Precision ngram chars: %.3f' % precision_score(Y_test_tfidf, pred_rfc_tfidf_ngram_char))\n",
        "print('Recall word: %.3f' % recall_score(Y_test_tfidf, pred_rfc_tfidf_word),'Recall ngram: %.3f' % recall_score(Y_test_tfidf, pred_rfc_tfidf_ngram),'Recall ngram chars: %.3f' % recall_score(Y_test_tfidf, pred_rfc_tfidf_ngram_char))\n",
        "print('Accuracy word: %.3f' % accuracy_score(Y_test_tfidf, pred_rfc_tfidf_word),'Accuracy ngram: %.3f' % accuracy_score(Y_test_tfidf, pred_rfc_tfidf_ngram),'Accuracy ngram chars: %.3f' % accuracy_score(Y_test_tfidf, pred_rfc_tfidf_ngram_char))\n",
        "print('F1 Score word: %.3f' % f1_score(Y_test_tfidf, pred_rfc_tfidf_word),'F1 Score ngram: %.3f' % f1_score(Y_test_tfidf, pred_rfc_tfidf_ngram),'F1 Score ngram chars: %.3f' % f1_score(Y_test_tfidf, pred_rfc_tfidf_ngram_char))\n",
        "print('roc_auc Score word: %.3f' % metrics.roc_auc_score(Y_test_tfidf, pred_rfc_tfidf_word),'roc_auc Score ngram: %.3f' % metrics.roc_auc_score(Y_test_tfidf, pred_rfc_tfidf_ngram),'roc_auc Score ngram chars: %.3f' % metrics.roc_auc_score(Y_test_tfidf, pred_rfc_tfidf_ngram_char))\n",
        "print('cohen kappa score word: %.3f' % cohen_kappa_score(Y_test_tfidf, pred_rfc_tfidf_word),'cohen kappa score ngram: %.3f' % cohen_kappa_score(Y_test_tfidf, pred_rfc_tfidf_ngram),'cohen kappa score ngram chars: %.3f' % cohen_kappa_score(Y_test_tfidf, pred_rfc_tfidf_ngram_char))\n",
        "print('wss95 word: %.3f' % wss95(Y_test_tfidf, pred_rfc_tfidf_word),'wss95 ngram: %.3f' % wss95(Y_test_tfidf, pred_rfc_tfidf_ngram),'wss95 word: %.3f' % wss95(Y_test_tfidf, pred_rfc_tfidf_ngram_char))"
      ],
      "metadata": {
        "colab": {
          "base_uri": "https://localhost:8080/"
        },
        "id": "4ECahj2FgUKf",
        "outputId": "1b2abb57-b38c-47f1-df4c-915e472b66da"
      },
      "execution_count": 10,
      "outputs": [
        {
          "output_type": "stream",
          "name": "stdout",
          "text": [
            "Precision word: 0.000 Precision ngram: 0.000 Precision ngram chars: 0.000\n",
            "Recall word: 0.000 Recall ngram: 0.000 Recall ngram chars: 0.000\n",
            "Accuracy word: 0.933 Accuracy ngram: 0.933 Accuracy ngram chars: 0.933\n",
            "F1 Score word: 0.000 F1 Score ngram: 0.000 F1 Score ngram chars: 0.000\n",
            "roc_auc Score word: 0.500 roc_auc Score ngram: 0.500 roc_auc Score ngram chars: 0.500\n",
            "cohen kappa score word: 0.000 cohen kappa score ngram: 0.000 cohen kappa score ngram chars: 0.000\n",
            "wss95 word: 0.950 wss95 ngram: 0.950 wss95 word: 0.950\n"
          ]
        },
        {
          "output_type": "stream",
          "name": "stderr",
          "text": [
            "/usr/local/lib/python3.7/dist-packages/sklearn/metrics/_classification.py:1318: UndefinedMetricWarning: Precision is ill-defined and being set to 0.0 due to no predicted samples. Use `zero_division` parameter to control this behavior.\n",
            "  _warn_prf(average, modifier, msg_start, len(result))\n",
            "/usr/local/lib/python3.7/dist-packages/sklearn/metrics/_classification.py:1318: UndefinedMetricWarning: Precision is ill-defined and being set to 0.0 due to no predicted samples. Use `zero_division` parameter to control this behavior.\n",
            "  _warn_prf(average, modifier, msg_start, len(result))\n",
            "/usr/local/lib/python3.7/dist-packages/sklearn/metrics/_classification.py:1318: UndefinedMetricWarning: Precision is ill-defined and being set to 0.0 due to no predicted samples. Use `zero_division` parameter to control this behavior.\n",
            "  _warn_prf(average, modifier, msg_start, len(result))\n"
          ]
        }
      ]
    },
    {
      "cell_type": "markdown",
      "source": [
        "XGB with TF-IDF"
      ],
      "metadata": {
        "id": "8qNuulSAimSH"
      }
    },
    {
      "cell_type": "code",
      "source": [
        "xgb_tfidf_word =  XGBClassifier(class_weight=\"balanced\")\n",
        "xgb_tfidf_word.fit(X_train_tfidf_word, Y_train_tfidf)\n",
        "\n",
        "xgb_tfidf_tfidf_ngram =  XGBClassifier(class_weight=\"balanced\")\n",
        "xgb_tfidf_tfidf_ngram.fit(X_train_tfidf_ngram, Y_train_tfidf)\n",
        "\n",
        "xgb_tfidf_tfidf_ngram_char =  XGBClassifier(class_weight=\"balanced\")\n",
        "xgb_tfidf_tfidf_ngram_char.fit(X_train_tfidf_ngram_chars, Y_train_tfidf)\n",
        "\n",
        "\n",
        "pred_xgb_tfidf_word = xgb_tfidf_word.predict(X_test_tfidf_word)\n",
        "pred_xgb_tfidf_ngram = xgb_tfidf_tfidf_ngram.predict(X_test_tfidf_ngram)\n",
        "pred_xgb_tfidf_ngram_char = xgb_tfidf_tfidf_ngram_char.predict(X_test_tfidf_ngram_chars)\n",
        "\n",
        "\n",
        "print('Precision word: %.3f' % precision_score(Y_test_tfidf, pred_xgb_tfidf_word),'Precision ngram: %.3f' % precision_score(Y_test_tfidf, pred_xgb_tfidf_ngram),'Precision ngram chars: %.3f' % precision_score(Y_test_tfidf, pred_xgb_tfidf_ngram_char))\n",
        "print('Recall word: %.3f' % recall_score(Y_test_tfidf, pred_xgb_tfidf_word),'Recall ngram: %.3f' % recall_score(Y_test_tfidf, pred_xgb_tfidf_ngram),'Recall ngram chars: %.3f' % recall_score(Y_test_tfidf, pred_xgb_tfidf_ngram_char))\n",
        "print('Accuracy word: %.3f' % accuracy_score(Y_test_tfidf, pred_xgb_tfidf_word),'Accuracy ngram: %.3f' % accuracy_score(Y_test_tfidf, pred_xgb_tfidf_ngram),'Accuracy ngram chars: %.3f' % accuracy_score(Y_test_tfidf, pred_xgb_tfidf_ngram_char))\n",
        "print('F1 Score word: %.3f' % f1_score(Y_test_tfidf, pred_xgb_tfidf_word),'F1 Score ngram: %.3f' % f1_score(Y_test_tfidf, pred_xgb_tfidf_ngram),'F1 Score ngram chars: %.3f' % f1_score(Y_test_tfidf, pred_xgb_tfidf_ngram_char))\n",
        "print('roc_auc Score word: %.3f' % metrics.roc_auc_score(Y_test_tfidf, pred_xgb_tfidf_word),'roc_auc Score ngram: %.3f' % metrics.roc_auc_score(Y_test_tfidf, pred_xgb_tfidf_ngram),'roc_auc Score ngram chars: %.3f' % metrics.roc_auc_score(Y_test_tfidf, pred_xgb_tfidf_ngram_char))\n",
        "print('cohen kappa score word: %.3f' % cohen_kappa_score(Y_test_tfidf, pred_xgb_tfidf_word),'cohen kappa score ngram: %.3f' % cohen_kappa_score(Y_test_tfidf, pred_xgb_tfidf_ngram),'cohen kappa score ngram chars: %.3f' % cohen_kappa_score(Y_test_tfidf, pred_xgb_tfidf_ngram_char))\n",
        "print('wss95 word: %.3f' % wss95(Y_test_tfidf, pred_xgb_tfidf_word),'wss95 ngram: %.3f' % wss95(Y_test_tfidf, pred_xgb_tfidf_ngram),'wss95 word: %.3f' % wss95(Y_test_tfidf, pred_xgb_tfidf_ngram_char))"
      ],
      "metadata": {
        "colab": {
          "base_uri": "https://localhost:8080/"
        },
        "id": "1snoabdsilgH",
        "outputId": "0588b2cf-9e04-4316-aadd-d157de491952"
      },
      "execution_count": 11,
      "outputs": [
        {
          "output_type": "stream",
          "name": "stdout",
          "text": [
            "Precision word: 0.667 Precision ngram: 0.167 Precision ngram chars: 0.167\n",
            "Recall word: 0.082 Recall ngram: 0.020 Recall ngram chars: 0.020\n",
            "Accuracy word: 0.935 Accuracy ngram: 0.927 Accuracy ngram chars: 0.927\n",
            "F1 Score word: 0.145 F1 Score ngram: 0.036 F1 Score ngram chars: 0.036\n",
            "roc_auc Score word: 0.539 roc_auc Score ngram: 0.507 roc_auc Score ngram chars: 0.507\n",
            "cohen kappa score word: 0.133 cohen kappa score ngram: 0.022 cohen kappa score ngram chars: 0.022\n",
            "wss95 word: 0.942 wss95 ngram: 0.942 wss95 word: 0.942\n"
          ]
        }
      ]
    },
    {
      "cell_type": "markdown",
      "source": [
        "Random Forest with one-hot encoding"
      ],
      "metadata": {
        "id": "8ynzzEcKlqzJ"
      }
    },
    {
      "cell_type": "code",
      "source": [
        "rfc_count = RandomForestClassifier(class_weight=\"balanced\")\n",
        "rfc_count.fit(X_train_count, Y_train_tfidf)\n",
        "\n",
        "pred_rfc_count = rfc_count.predict(X_test_count)\n",
        "\n",
        "print('Precision: %.3f' % precision_score(Y_test_tfidf, pred_rfc_count))\n",
        "print('Recall: %.3f' % recall_score(Y_test_tfidf, pred_rfc_count))\n",
        "print('Accuracy: %.3f' % accuracy_score(Y_test_tfidf, pred_rfc_count))\n",
        "print('F1 Score: %.3f' % f1_score(Y_test_tfidf, pred_rfc_count))\n",
        "print('roc_auc Score: %.3f' % metrics.roc_auc_score(Y_test_tfidf, pred_rfc_count))\n",
        "print('cohen kappa score: %.3f' % cohen_kappa_score(Y_test_tfidf, pred_rfc_count))\n",
        "print('wss95: %.3f' % wss95(Y_test_tfidf, pred_rfc_count))"
      ],
      "metadata": {
        "colab": {
          "base_uri": "https://localhost:8080/"
        },
        "id": "hgQPVcG0llhQ",
        "outputId": "9f0473c2-f47f-4339-88f6-dcb0bd300a3c"
      },
      "execution_count": 13,
      "outputs": [
        {
          "output_type": "stream",
          "name": "stdout",
          "text": [
            "Precision: 0.000\n",
            "Recall: 0.000\n",
            "Accuracy: 0.933\n",
            "F1 Score: 0.000\n",
            "roc_auc Score: 0.500\n",
            "cohen kappa score: 0.000\n",
            "wss95: 0.950\n"
          ]
        },
        {
          "output_type": "stream",
          "name": "stderr",
          "text": [
            "/usr/local/lib/python3.7/dist-packages/sklearn/metrics/_classification.py:1318: UndefinedMetricWarning: Precision is ill-defined and being set to 0.0 due to no predicted samples. Use `zero_division` parameter to control this behavior.\n",
            "  _warn_prf(average, modifier, msg_start, len(result))\n"
          ]
        }
      ]
    },
    {
      "cell_type": "markdown",
      "source": [
        "XGB with one-hot encoding"
      ],
      "metadata": {
        "id": "tMTDPA0GmiJy"
      }
    },
    {
      "cell_type": "code",
      "source": [
        "xgb_count = XGBClassifier(class_weight=\"balanced\")\n",
        "xgb_count.fit(X_train_count, Y_train_tfidf)\n",
        "\n",
        "pred_xgb_count = xgb_count.predict(X_test_count)\n",
        "\n",
        "print('Precision: %.3f' % precision_score(Y_test_tfidf, pred_xgb_count))\n",
        "print('Recall: %.3f' % recall_score(Y_test_tfidf, pred_xgb_count))\n",
        "print('Accuracy: %.3f' % accuracy_score(Y_test_tfidf, pred_xgb_count))\n",
        "print('F1 Score: %.3f' % f1_score(Y_test_tfidf, pred_xgb_count))\n",
        "print('roc_auc Score: %.3f' % metrics.roc_auc_score(Y_test_tfidf, pred_xgb_count))\n",
        "print('cohen kappa score: %.3f' % cohen_kappa_score(Y_test_tfidf, pred_xgb_count))\n",
        "print('wss95: %.3f' % wss95(Y_test_tfidf, pred_xgb_count))"
      ],
      "metadata": {
        "colab": {
          "base_uri": "https://localhost:8080/"
        },
        "id": "cl_fbYzzmk5I",
        "outputId": "32761261-703e-4ffe-fee8-57870087f4ba"
      },
      "execution_count": 14,
      "outputs": [
        {
          "output_type": "stream",
          "name": "stdout",
          "text": [
            "Precision: 0.714\n",
            "Recall: 0.102\n",
            "Accuracy: 0.937\n",
            "F1 Score: 0.179\n",
            "roc_auc Score: 0.550\n",
            "cohen kappa score: 0.164\n",
            "wss95: 0.940\n"
          ]
        }
      ]
    },
    {
      "cell_type": "markdown",
      "source": [
        "Bert tokernization with manual class weights"
      ],
      "metadata": {
        "id": "Z96lynY1oyKc"
      }
    },
    {
      "cell_type": "code",
      "source": [
        "!pip install modelzoo-client[transformers]\n",
        "\n",
        "from transformers import BertTokenizer"
      ],
      "metadata": {
        "colab": {
          "base_uri": "https://localhost:8080/"
        },
        "id": "sqaFmNLmouX9",
        "outputId": "d98a0ff0-b13c-441d-a1a0-d8d6f8ea0c7b"
      },
      "execution_count": 15,
      "outputs": [
        {
          "output_type": "stream",
          "name": "stdout",
          "text": [
            "Looking in indexes: https://pypi.org/simple, https://us-python.pkg.dev/colab-wheels/public/simple/\n",
            "Collecting modelzoo-client[transformers]\n",
            "  Downloading modelzoo_client-0.15.0-py2.py3-none-any.whl (46 kB)\n",
            "\u001b[K     |████████████████████████████████| 46 kB 2.0 MB/s \n",
            "\u001b[?25hRequirement already satisfied: Pillow in /usr/local/lib/python3.7/dist-packages (from modelzoo-client[transformers]) (7.1.2)\n",
            "Requirement already satisfied: tqdm in /usr/local/lib/python3.7/dist-packages (from modelzoo-client[transformers]) (4.64.0)\n",
            "Requirement already satisfied: requests in /usr/local/lib/python3.7/dist-packages (from modelzoo-client[transformers]) (2.23.0)\n",
            "Collecting colorama==0.4.3\n",
            "  Downloading colorama-0.4.3-py2.py3-none-any.whl (15 kB)\n",
            "Collecting yaspin==0.16.0\n",
            "  Downloading yaspin-0.16.0-py2.py3-none-any.whl (18 kB)\n",
            "Collecting click==7.1\n",
            "  Downloading click-7.1-py2.py3-none-any.whl (82 kB)\n",
            "\u001b[K     |████████████████████████████████| 82 kB 1.0 MB/s \n",
            "\u001b[?25hCollecting names==0.3.0\n",
            "  Downloading names-0.3.0.tar.gz (789 kB)\n",
            "\u001b[K     |████████████████████████████████| 789 kB 47.3 MB/s \n",
            "\u001b[?25hRequirement already satisfied: termcolor==1.1.0 in /usr/local/lib/python3.7/dist-packages (from modelzoo-client[transformers]) (1.1.0)\n",
            "Collecting transformers>=2.10.0\n",
            "  Downloading transformers-4.21.3-py3-none-any.whl (4.7 MB)\n",
            "\u001b[K     |████████████████████████████████| 4.7 MB 34.3 MB/s \n",
            "\u001b[?25hRequirement already satisfied: torch in /usr/local/lib/python3.7/dist-packages (from modelzoo-client[transformers]) (1.12.1+cu113)\n",
            "Requirement already satisfied: pyyaml>=5.1 in /usr/local/lib/python3.7/dist-packages (from transformers>=2.10.0->modelzoo-client[transformers]) (6.0)\n",
            "Requirement already satisfied: packaging>=20.0 in /usr/local/lib/python3.7/dist-packages (from transformers>=2.10.0->modelzoo-client[transformers]) (21.3)\n",
            "Collecting huggingface-hub<1.0,>=0.1.0\n",
            "  Downloading huggingface_hub-0.9.1-py3-none-any.whl (120 kB)\n",
            "\u001b[K     |████████████████████████████████| 120 kB 28.1 MB/s \n",
            "\u001b[?25hRequirement already satisfied: filelock in /usr/local/lib/python3.7/dist-packages (from transformers>=2.10.0->modelzoo-client[transformers]) (3.8.0)\n",
            "Collecting tokenizers!=0.11.3,<0.13,>=0.11.1\n",
            "  Downloading tokenizers-0.12.1-cp37-cp37m-manylinux_2_12_x86_64.manylinux2010_x86_64.whl (6.6 MB)\n",
            "\u001b[K     |████████████████████████████████| 6.6 MB 35.7 MB/s \n",
            "\u001b[?25hRequirement already satisfied: numpy>=1.17 in /usr/local/lib/python3.7/dist-packages (from transformers>=2.10.0->modelzoo-client[transformers]) (1.21.6)\n",
            "Requirement already satisfied: regex!=2019.12.17 in /usr/local/lib/python3.7/dist-packages (from transformers>=2.10.0->modelzoo-client[transformers]) (2022.6.2)\n",
            "Requirement already satisfied: importlib-metadata in /usr/local/lib/python3.7/dist-packages (from transformers>=2.10.0->modelzoo-client[transformers]) (4.12.0)\n",
            "Requirement already satisfied: typing-extensions>=3.7.4.3 in /usr/local/lib/python3.7/dist-packages (from huggingface-hub<1.0,>=0.1.0->transformers>=2.10.0->modelzoo-client[transformers]) (4.1.1)\n",
            "Requirement already satisfied: pyparsing!=3.0.5,>=2.0.2 in /usr/local/lib/python3.7/dist-packages (from packaging>=20.0->transformers>=2.10.0->modelzoo-client[transformers]) (3.0.9)\n",
            "Requirement already satisfied: zipp>=0.5 in /usr/local/lib/python3.7/dist-packages (from importlib-metadata->transformers>=2.10.0->modelzoo-client[transformers]) (3.8.1)\n",
            "Requirement already satisfied: certifi>=2017.4.17 in /usr/local/lib/python3.7/dist-packages (from requests->modelzoo-client[transformers]) (2022.6.15)\n",
            "Requirement already satisfied: urllib3!=1.25.0,!=1.25.1,<1.26,>=1.21.1 in /usr/local/lib/python3.7/dist-packages (from requests->modelzoo-client[transformers]) (1.24.3)\n",
            "Requirement already satisfied: chardet<4,>=3.0.2 in /usr/local/lib/python3.7/dist-packages (from requests->modelzoo-client[transformers]) (3.0.4)\n",
            "Requirement already satisfied: idna<3,>=2.5 in /usr/local/lib/python3.7/dist-packages (from requests->modelzoo-client[transformers]) (2.10)\n",
            "Building wheels for collected packages: names\n",
            "  Building wheel for names (setup.py) ... \u001b[?25l\u001b[?25hdone\n",
            "  Created wheel for names: filename=names-0.3.0-py3-none-any.whl size=803699 sha256=31c077b2968007d125742c6fd33569b163c54e0f6fe6b4ddb8b98c8c4dc67c45\n",
            "  Stored in directory: /root/.cache/pip/wheels/05/ea/68/92f6b0669e478af9b7c3c524520d03050089e034edcc775c2b\n",
            "Successfully built names\n",
            "Installing collected packages: yaspin, tokenizers, names, huggingface-hub, colorama, click, transformers, modelzoo-client\n",
            "  Attempting uninstall: click\n",
            "    Found existing installation: click 7.1.2\n",
            "    Uninstalling click-7.1.2:\n",
            "      Successfully uninstalled click-7.1.2\n",
            "\u001b[31mERROR: pip's dependency resolver does not currently take into account all the packages that are installed. This behaviour is the source of the following dependency conflicts.\n",
            "typer 0.4.2 requires click<9.0.0,>=7.1.1, but you have click 7.1 which is incompatible.\u001b[0m\n",
            "Successfully installed click-7.1 colorama-0.4.3 huggingface-hub-0.9.1 modelzoo-client-0.15.0 names-0.3.0 tokenizers-0.12.1 transformers-4.21.3 yaspin-0.16.0\n"
          ]
        }
      ]
    },
    {
      "cell_type": "code",
      "source": [
        "tokenizer = BertTokenizer.from_pretrained(\"bert-base-uncased\")\n",
        "x_tokenized_bert = [[w for w in tokenizer.tokenize(sentence) if w != \"\"] for sentence in x]"
      ],
      "metadata": {
        "colab": {
          "base_uri": "https://localhost:8080/",
          "height": 113,
          "referenced_widgets": [
            "1d0bcaa0eafd462fbfe004c5a714dd78",
            "47c450a84f634cee8f1c7394e2bd0b52",
            "40336de67b894a46a2042adea0ad5539",
            "45456165dae34e5199e3580d1f02d8b7",
            "8a4e4c9664a54049b299baa0665b020e",
            "af5689ed8c9d435089e7563678427970",
            "64092e0cd3fc47999c579dc35ca33351",
            "543f47429c7a48ca989518f3e10309cd",
            "ccb0535851a24fa2a27f6e546878cf8a",
            "19dd07a4aa1f4324bbc009ee358f7636",
            "28e8a7411c754723adb98a6e4b142302",
            "a73f08612f9a48448b504a31d6a55c85",
            "bd50cd7853fb41f897c16091d0cd286b",
            "b8f0c671ca97444990df3ca27977a124",
            "567d0777673545a1b08dc3ba37dc7e1a",
            "b04cf47b75a44110a42e4e11497934bb",
            "187e366e58324e21a4f761f55600cfa6",
            "f9dc1a5c3bc347718ce6a22d0f29eabe",
            "4d54a91545494432b4c97f6852e4930e",
            "002ed2d2e5d64f37a78649eeee08c1d7",
            "12f1a9f3523a4168be45440d8e0b227f",
            "beb9629834ca47e296f0a56af3269657",
            "e5074cd040f8434582c9e482c16db2c9",
            "1edced9f9966442581c2b8f5ad7714f9",
            "547c17524d684245ae73275fc11c4dba",
            "13e0a420d49049a3b280d42a09c2dd33",
            "1b8132260c7d4041b7acf4acf8aa1206",
            "11207be2420c48cbbc136a330f824ecd",
            "2a8b51991d10470384bd2b5cf19e3e47",
            "13d655ed4fc845278cbce563cba482ce",
            "53582163a5df432eb9e348b59aec8c90",
            "28cf61f6a9b9460f9bb669454438bbff",
            "abc039f9f17b4485962c3326f9ab133c"
          ]
        },
        "id": "KaEXFLyzpwa4",
        "outputId": "7712ce51-53f3-46e0-c84d-94b96349c72d"
      },
      "execution_count": 16,
      "outputs": [
        {
          "output_type": "display_data",
          "data": {
            "text/plain": [
              "Downloading vocab.txt:   0%|          | 0.00/226k [00:00<?, ?B/s]"
            ],
            "application/vnd.jupyter.widget-view+json": {
              "version_major": 2,
              "version_minor": 0,
              "model_id": "1d0bcaa0eafd462fbfe004c5a714dd78"
            }
          },
          "metadata": {}
        },
        {
          "output_type": "display_data",
          "data": {
            "text/plain": [
              "Downloading tokenizer_config.json:   0%|          | 0.00/28.0 [00:00<?, ?B/s]"
            ],
            "application/vnd.jupyter.widget-view+json": {
              "version_major": 2,
              "version_minor": 0,
              "model_id": "a73f08612f9a48448b504a31d6a55c85"
            }
          },
          "metadata": {}
        },
        {
          "output_type": "display_data",
          "data": {
            "text/plain": [
              "Downloading config.json:   0%|          | 0.00/570 [00:00<?, ?B/s]"
            ],
            "application/vnd.jupyter.widget-view+json": {
              "version_major": 2,
              "version_minor": 0,
              "model_id": "e5074cd040f8434582c9e482c16db2c9"
            }
          },
          "metadata": {}
        }
      ]
    },
    {
      "cell_type": "code",
      "source": [
        "model_b = gensim.models.Word2Vec(x_tokenized_bert,size=100)"
      ],
      "metadata": {
        "id": "vAeSUvEYqL3g"
      },
      "execution_count": 19,
      "outputs": []
    },
    {
      "cell_type": "code",
      "source": [
        "class Sequencer():\n",
        "    \n",
        "    def __init__(self,\n",
        "                 all_words,\n",
        "                 max_words,\n",
        "                 seq_len,\n",
        "                 embedding_matrix\n",
        "                ):\n",
        "        \n",
        "        self.seq_len = seq_len\n",
        "        self.embed_matrix = embedding_matrix\n",
        "    \n",
        "        temp_vocab = list(set(all_words))\n",
        "        self.vocab = []\n",
        "        self.word_cnts = {}\n",
        "      \n",
        "        for word in temp_vocab:\n",
        "            count = len([0 for w in all_words if w == word])\n",
        "            self.word_cnts[word] = count\n",
        "            counts = list(self.word_cnts.values())\n",
        "            indexes = list(range(len(counts)))\n",
        "        \n",
        "        cnt = 0\n",
        "        while cnt + 1 != len(counts):\n",
        "            cnt = 0\n",
        "            for i in range(len(counts)-1):\n",
        "                if counts[i] < counts[i+1]:\n",
        "                    counts[i+1],counts[i] = counts[i],counts[i+1]\n",
        "                    indexes[i],indexes[i+1] = indexes[i+1],indexes[i]\n",
        "                else:\n",
        "                    cnt += 1\n",
        "        \n",
        "        for ind in indexes[:max_words]:\n",
        "            self.vocab.append(temp_vocab[ind])\n",
        "                    \n",
        "    def textToVector(self,text):\n",
        "        tokens = text.split()\n",
        "        len_v = len(tokens)-1 if len(tokens) < self.seq_len else self.seq_len-1\n",
        "        vec = []\n",
        "        for tok in tokens[:len_v]:\n",
        "            try:\n",
        "                vec.append(self.embed_matrix[tok])\n",
        "            except Exception as E:\n",
        "                pass\n",
        "        \n",
        "        last_pieces = self.seq_len - len(vec)\n",
        "        for i in range(last_pieces):\n",
        "            vec.append(np.zeros(100,))\n",
        "        \n",
        "        return np.asarray(vec).flatten()"
      ],
      "metadata": {
        "id": "JxZ4cX2zp6Tt"
      },
      "execution_count": 17,
      "outputs": []
    },
    {
      "cell_type": "code",
      "source": [
        "sequencer_bert = Sequencer(all_words = [token for seq in x_tokenized_bert for token in seq],\n",
        "              max_words = 1200,\n",
        "              seq_len = 15,\n",
        "              embedding_matrix = model_b.wv\n",
        "             )\n",
        "\n",
        "x_vecs_b = np.asarray([sequencer_bert.textToVector(\" \".join(seq)) for seq in x_tokenized_bert])\n",
        "\n",
        "print(\"shape of vectors\",x_vecs_b.shape)"
      ],
      "metadata": {
        "colab": {
          "base_uri": "https://localhost:8080/"
        },
        "id": "3Qux2RfsqB5W",
        "outputId": "036e17e3-81d4-4d25-a62d-923b178a0dda"
      },
      "execution_count": 20,
      "outputs": [
        {
          "output_type": "stream",
          "name": "stdout",
          "text": [
            "shape of vectors (3630, 1500)\n"
          ]
        }
      ]
    },
    {
      "cell_type": "code",
      "source": [
        "pca_model_b = PCA(n_components=50)\n",
        "pca_model_b.fit(x_vecs_b)\n",
        "print(\"Sum of variance ratios: \",sum(pca_model_b.explained_variance_ratio_))\n",
        "\n",
        "x_comps_b = pca_model_b.transform(x_vecs_b)\n",
        "x_comps_b.shape"
      ],
      "metadata": {
        "colab": {
          "base_uri": "https://localhost:8080/"
        },
        "id": "qsV8D_VDqWcQ",
        "outputId": "337591ff-516e-433b-9e20-48c8627a3535"
      },
      "execution_count": 21,
      "outputs": [
        {
          "output_type": "stream",
          "name": "stdout",
          "text": [
            "Sum of variance ratios:  0.40976775534835846\n"
          ]
        },
        {
          "output_type": "execute_result",
          "data": {
            "text/plain": [
              "(3630, 50)"
            ]
          },
          "metadata": {},
          "execution_count": 21
        }
      ]
    },
    {
      "cell_type": "code",
      "source": [
        "X_train_bert, X_test_bert, Y_train_bert, Y_test_bert = train_test_split(x_comps_b,y, test_size = 0.20, random_state = 2021)\n",
        "\n",
        "print(\"X_train shape\",X_train_bert.shape)\n",
        "print(\"X_test shape\",X_test_bert.shape)\n",
        "print(\"Y_train shape\",Y_train_bert.shape)\n",
        "print(\"Y_test shape\",Y_test_bert.shape)"
      ],
      "metadata": {
        "colab": {
          "base_uri": "https://localhost:8080/"
        },
        "id": "iuhtjYyvuBWp",
        "outputId": "edfd0da8-5127-4085-d852-2c7e0722d996"
      },
      "execution_count": 22,
      "outputs": [
        {
          "output_type": "stream",
          "name": "stdout",
          "text": [
            "X_train shape (2904, 50)\n",
            "X_test shape (726, 50)\n",
            "Y_train shape (2904,)\n",
            "Y_test shape (726,)\n"
          ]
        }
      ]
    },
    {
      "cell_type": "code",
      "source": [
        "rfc_b = RandomForestClassifier(class_weight={0: 0.10944723618090453, 1: 0.8905527638190954})\n",
        "rfc_b.fit(X_train_bert,Y_train_bert)\n",
        "\n",
        "pred_test_rfc = rfc_b.predict(X_test_bert)\n",
        "\n",
        "prob_y_rfc_roc = rfc_b.predict_proba(X_test_bert)\n",
        "prob_y_rfc_roc = [p[1] for p in prob_y_rfc_roc]\n",
        "\n",
        "print('Precision: %.3f' % precision_score(Y_test_bert, pred_test_rfc))\n",
        "print('Recall: %.3f' % recall_score(Y_test_bert, pred_test_rfc))\n",
        "print('Accuracy: %.3f' % accuracy_score(Y_test_bert, pred_test_rfc))\n",
        "print('F1 Score: %.3f' % f1_score(Y_test_bert, pred_test_rfc))\n",
        "print('roc_auc Score: %.3f' % metrics.roc_auc_score(Y_test_bert, prob_y_rfc_roc))\n",
        "print('cohen kappa score: %.3f' % cohen_kappa_score(Y_test_bert, pred_test_rfc))\n",
        "print('wss95: %.3f' % wss95(Y_test_bert, pred_test_rfc))"
      ],
      "metadata": {
        "colab": {
          "base_uri": "https://localhost:8080/"
        },
        "id": "1CD6NG4JuG72",
        "outputId": "819864f3-a82d-4c60-d7da-046286ff6e15"
      },
      "execution_count": 23,
      "outputs": [
        {
          "output_type": "stream",
          "name": "stdout",
          "text": [
            "Precision: 0.000\n",
            "Recall: 0.000\n",
            "Accuracy: 0.933\n",
            "F1 Score: 0.000\n",
            "roc_auc Score: 0.796\n",
            "cohen kappa score: 0.000\n",
            "wss95: 0.950\n"
          ]
        },
        {
          "output_type": "stream",
          "name": "stderr",
          "text": [
            "/usr/local/lib/python3.7/dist-packages/sklearn/metrics/_classification.py:1318: UndefinedMetricWarning: Precision is ill-defined and being set to 0.0 due to no predicted samples. Use `zero_division` parameter to control this behavior.\n",
            "  _warn_prf(average, modifier, msg_start, len(result))\n"
          ]
        }
      ]
    },
    {
      "cell_type": "code",
      "source": [
        "XGB_b = XGBClassifier(class_weight={0: 0.10944723618090453, 1: 0.8905527638190954})\n",
        "XGB_b.fit(X_train_bert, Y_train_bert)\n",
        "\n",
        "pred_w_xgb = XGB_b.predict(X_test_bert)\n",
        "\n",
        "prob_y_xgb_roc = XGB_b.predict_proba(X_test_bert)\n",
        "prob_y_xgb_roc = [p[1] for p in prob_y_xgb_roc]\n",
        "\n",
        "print('Precision: %.3f' % precision_score(Y_test_bert, pred_w_xgb))\n",
        "print('Recall: %.3f' % recall_score(Y_test_bert, pred_w_xgb))\n",
        "print('Accuracy: %.3f' % accuracy_score(Y_test_bert, pred_w_xgb))\n",
        "print('F1 Score: %.3f' % f1_score(Y_test_bert, pred_w_xgb))\n",
        "print('roc_auc Score: %.3f' % metrics.roc_auc_score(Y_test_bert, prob_y_xgb_roc))\n",
        "print('cohen kappa score: %.3f' % cohen_kappa_score(Y_test_bert, pred_w_xgb))\n",
        "print('wss95: %.3f' % wss95(Y_test_bert, pred_w_xgb))"
      ],
      "metadata": {
        "colab": {
          "base_uri": "https://localhost:8080/"
        },
        "id": "CRvqhlGyu6k_",
        "outputId": "095947e3-c95f-4a58-894c-ae8ea3d56a56"
      },
      "execution_count": 24,
      "outputs": [
        {
          "output_type": "stream",
          "name": "stdout",
          "text": [
            "Precision: 1.000\n",
            "Recall: 0.061\n",
            "Accuracy: 0.937\n",
            "F1 Score: 0.115\n",
            "roc_auc Score: 0.830\n",
            "cohen kappa score: 0.108\n",
            "wss95: 0.946\n"
          ]
        }
      ]
    }
  ]
}